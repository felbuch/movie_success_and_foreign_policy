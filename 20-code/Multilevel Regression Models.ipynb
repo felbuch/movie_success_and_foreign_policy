{
 "cells": [
  {
   "cell_type": "markdown",
   "id": "3cf23929",
   "metadata": {},
   "source": [
    "# Regression models"
   ]
  },
  {
   "cell_type": "code",
   "execution_count": 53,
   "id": "89ec5d89-5e57-4b98-b3c9-deb00978ead4",
   "metadata": {
    "tags": []
   },
   "outputs": [],
   "source": [
    "import pandas as pd\n",
    "import numpy as np\n",
    "import statsmodels.api as sm\n",
    "from stargazer.stargazer import Stargazer\n",
    "import matplotlib.pyplot as plt\n",
    "import seaborn as sns"
   ]
  },
  {
   "cell_type": "code",
   "execution_count": 54,
   "id": "18797627-0ac3-44d3-8ddf-c170756a8cd3",
   "metadata": {
    "tags": []
   },
   "outputs": [
    {
     "name": "stdout",
     "output_type": "stream",
     "text": [
      "(4768, 23)\n"
     ]
    },
    {
     "data": {
      "text/html": [
       "<div>\n",
       "<style scoped>\n",
       "    .dataframe tbody tr th:only-of-type {\n",
       "        vertical-align: middle;\n",
       "    }\n",
       "\n",
       "    .dataframe tbody tr th {\n",
       "        vertical-align: top;\n",
       "    }\n",
       "\n",
       "    .dataframe thead th {\n",
       "        text-align: right;\n",
       "    }\n",
       "</style>\n",
       "<table border=\"1\" class=\"dataframe\">\n",
       "  <thead>\n",
       "    <tr style=\"text-align: right;\">\n",
       "      <th></th>\n",
       "      <th>Title</th>\n",
       "      <th>Year</th>\n",
       "      <th>Country</th>\n",
       "      <th>BoxOffice</th>\n",
       "      <th>runtimeMinutes</th>\n",
       "      <th>genres</th>\n",
       "      <th>averageRating</th>\n",
       "      <th>numVotes</th>\n",
       "      <th>isRated</th>\n",
       "      <th>ForeignLanguage</th>\n",
       "      <th>...</th>\n",
       "      <th>won_Oscar</th>\n",
       "      <th>plot_sentiment_polarity</th>\n",
       "      <th>plot_sentiment_score</th>\n",
       "      <th>isPositivePlot</th>\n",
       "      <th>isFiction</th>\n",
       "      <th>Competitiveness</th>\n",
       "      <th>Cooperativeness</th>\n",
       "      <th>logBoxOffice</th>\n",
       "      <th>logRunTime</th>\n",
       "      <th>logNumVotes</th>\n",
       "    </tr>\n",
       "  </thead>\n",
       "  <tbody>\n",
       "    <tr>\n",
       "      <th>0</th>\n",
       "      <td>Shadow Play</td>\n",
       "      <td>1996</td>\n",
       "      <td>[France,  United Kingdom]</td>\n",
       "      <td>3.053799e+04</td>\n",
       "      <td>111.0</td>\n",
       "      <td>Comedy,Romance</td>\n",
       "      <td>5.8</td>\n",
       "      <td>495</td>\n",
       "      <td>False</td>\n",
       "      <td>False</td>\n",
       "      <td>...</td>\n",
       "      <td>False</td>\n",
       "      <td>positive</td>\n",
       "      <td>0.996212</td>\n",
       "      <td>1.0</td>\n",
       "      <td>True</td>\n",
       "      <td>8.563351</td>\n",
       "      <td>9.607148</td>\n",
       "      <td>10.326727</td>\n",
       "      <td>4.709530</td>\n",
       "      <td>6.204558</td>\n",
       "    </tr>\n",
       "    <tr>\n",
       "      <th>1</th>\n",
       "      <td>Down by Love</td>\n",
       "      <td>2016</td>\n",
       "      <td>[France,  Belgium]</td>\n",
       "      <td>8.230545e+02</td>\n",
       "      <td>110.0</td>\n",
       "      <td>Biography,Drama,Romance</td>\n",
       "      <td>5.9</td>\n",
       "      <td>2296</td>\n",
       "      <td>True</td>\n",
       "      <td>False</td>\n",
       "      <td>...</td>\n",
       "      <td>False</td>\n",
       "      <td>positive</td>\n",
       "      <td>0.998860</td>\n",
       "      <td>1.0</td>\n",
       "      <td>True</td>\n",
       "      <td>11.997840</td>\n",
       "      <td>10.791093</td>\n",
       "      <td>6.713022</td>\n",
       "      <td>4.700480</td>\n",
       "      <td>7.738924</td>\n",
       "    </tr>\n",
       "    <tr>\n",
       "      <th>2</th>\n",
       "      <td>Heavenly Bodies</td>\n",
       "      <td>1984</td>\n",
       "      <td>[Canada]</td>\n",
       "      <td>5.182512e+06</td>\n",
       "      <td>89.0</td>\n",
       "      <td>Drama,Romance</td>\n",
       "      <td>5.2</td>\n",
       "      <td>882</td>\n",
       "      <td>True</td>\n",
       "      <td>True</td>\n",
       "      <td>...</td>\n",
       "      <td>False</td>\n",
       "      <td>negative</td>\n",
       "      <td>0.993147</td>\n",
       "      <td>0.0</td>\n",
       "      <td>True</td>\n",
       "      <td>7.111757</td>\n",
       "      <td>8.025091</td>\n",
       "      <td>15.460800</td>\n",
       "      <td>4.488636</td>\n",
       "      <td>6.782192</td>\n",
       "    </tr>\n",
       "    <tr>\n",
       "      <th>3</th>\n",
       "      <td>High Season</td>\n",
       "      <td>1987</td>\n",
       "      <td>[United Kingdom]</td>\n",
       "      <td>2.897574e+06</td>\n",
       "      <td>90.0</td>\n",
       "      <td>Comedy,Romance</td>\n",
       "      <td>5.3</td>\n",
       "      <td>459</td>\n",
       "      <td>True</td>\n",
       "      <td>False</td>\n",
       "      <td>...</td>\n",
       "      <td>False</td>\n",
       "      <td>positive</td>\n",
       "      <td>0.989917</td>\n",
       "      <td>1.0</td>\n",
       "      <td>True</td>\n",
       "      <td>7.748589</td>\n",
       "      <td>8.581463</td>\n",
       "      <td>14.879384</td>\n",
       "      <td>4.499810</td>\n",
       "      <td>6.129050</td>\n",
       "    </tr>\n",
       "    <tr>\n",
       "      <th>4</th>\n",
       "      <td>Bright Days Ahead</td>\n",
       "      <td>2013</td>\n",
       "      <td>[France]</td>\n",
       "      <td>2.734882e+04</td>\n",
       "      <td>94.0</td>\n",
       "      <td>Drama,Romance</td>\n",
       "      <td>6.3</td>\n",
       "      <td>1843</td>\n",
       "      <td>False</td>\n",
       "      <td>False</td>\n",
       "      <td>...</td>\n",
       "      <td>False</td>\n",
       "      <td>positive</td>\n",
       "      <td>0.995390</td>\n",
       "      <td>1.0</td>\n",
       "      <td>True</td>\n",
       "      <td>11.164641</td>\n",
       "      <td>12.082496</td>\n",
       "      <td>10.216429</td>\n",
       "      <td>4.543295</td>\n",
       "      <td>7.519150</td>\n",
       "    </tr>\n",
       "  </tbody>\n",
       "</table>\n",
       "<p>5 rows × 23 columns</p>\n",
       "</div>"
      ],
      "text/plain": [
       "               Title  Year                    Country     BoxOffice  \\\n",
       "0        Shadow Play  1996  [France,  United Kingdom]  3.053799e+04   \n",
       "1       Down by Love  2016         [France,  Belgium]  8.230545e+02   \n",
       "2    Heavenly Bodies  1984                   [Canada]  5.182512e+06   \n",
       "3        High Season  1987           [United Kingdom]  2.897574e+06   \n",
       "4  Bright Days Ahead  2013                   [France]  2.734882e+04   \n",
       "\n",
       "   runtimeMinutes                   genres  averageRating  numVotes  isRated  \\\n",
       "0           111.0           Comedy,Romance            5.8       495    False   \n",
       "1           110.0  Biography,Drama,Romance            5.9      2296     True   \n",
       "2            89.0            Drama,Romance            5.2       882     True   \n",
       "3            90.0           Comedy,Romance            5.3       459     True   \n",
       "4            94.0            Drama,Romance            6.3      1843    False   \n",
       "\n",
       "   ForeignLanguage  ...  won_Oscar  plot_sentiment_polarity  \\\n",
       "0            False  ...      False                 positive   \n",
       "1            False  ...      False                 positive   \n",
       "2             True  ...      False                 negative   \n",
       "3            False  ...      False                 positive   \n",
       "4            False  ...      False                 positive   \n",
       "\n",
       "   plot_sentiment_score  isPositivePlot isFiction  Competitiveness  \\\n",
       "0              0.996212             1.0      True         8.563351   \n",
       "1              0.998860             1.0      True        11.997840   \n",
       "2              0.993147             0.0      True         7.111757   \n",
       "3              0.989917             1.0      True         7.748589   \n",
       "4              0.995390             1.0      True        11.164641   \n",
       "\n",
       "   Cooperativeness  logBoxOffice  logRunTime  logNumVotes  \n",
       "0         9.607148     10.326727    4.709530     6.204558  \n",
       "1        10.791093      6.713022    4.700480     7.738924  \n",
       "2         8.025091     15.460800    4.488636     6.782192  \n",
       "3         8.581463     14.879384    4.499810     6.129050  \n",
       "4        12.082496     10.216429    4.543295     7.519150  \n",
       "\n",
       "[5 rows x 23 columns]"
      ]
     },
     "execution_count": 54,
     "metadata": {},
     "output_type": "execute_result"
    }
   ],
   "source": [
    "data = pd.read_parquet('../10-data/data_final.parquet')\n",
    "print(data.shape)\n",
    "data.head()"
   ]
  },
  {
   "cell_type": "markdown",
   "id": "52444d55-5be0-46b6-a64a-04fc63cd0b26",
   "metadata": {},
   "source": [
    "# OLS models"
   ]
  },
  {
   "cell_type": "markdown",
   "id": "917a9dbf-052a-4340-bde6-488fa368a8ae",
   "metadata": {},
   "source": [
    "## Baseline model (just linear trend)"
   ]
  },
  {
   "cell_type": "code",
   "execution_count": 55,
   "id": "bd4d3368-54e9-45f7-b1b4-b0b88418dbc8",
   "metadata": {
    "tags": []
   },
   "outputs": [
    {
     "data": {
      "text/plain": [
       "<Axes: xlabel='Year'>"
      ]
     },
     "execution_count": 55,
     "metadata": {},
     "output_type": "execute_result"
    },
    {
     "data": {
      "image/png": "[encoded data removed]",
      "text/plain": [
       "<Figure size 640x480 with 1 Axes>"
      ]
     },
     "metadata": {},
     "output_type": "display_data"
    }
   ],
   "source": [
    "#Why is it reasonable?\n",
    "data[['Year','logBoxOffice']].groupby('Year').mean().plot()"
   ]
  },
  {
   "cell_type": "code",
   "execution_count": 56,
   "id": "cab2d76b-94ca-45e2-a39f-037ffc041448",
   "metadata": {
    "tags": []
   },
   "outputs": [
    {
     "name": "stdout",
     "output_type": "stream",
     "text": [
      "                            OLS Regression Results                            \n",
      "==============================================================================\n",
      "Dep. Variable:           logBoxOffice   R-squared:                       0.105\n",
      "Model:                            OLS   Adj. R-squared:                  0.105\n",
      "Method:                 Least Squares   F-statistic:                     560.7\n",
      "Date:                Fri, 29 Dec 2023   Prob (F-statistic):          2.81e-117\n",
      "Time:                        15:49:28   Log-Likelihood:                -10602.\n",
      "No. Observations:                4768   AIC:                         2.121e+04\n",
      "Df Residuals:                    4766   BIC:                         2.122e+04\n",
      "Df Model:                           1                                         \n",
      "Covariance Type:            nonrobust                                         \n",
      "==============================================================================\n",
      "                 coef    std err          t      P>|t|      [0.025      0.975]\n",
      "------------------------------------------------------------------------------\n",
      "const        162.1442      6.332     25.609      0.000     149.731     174.557\n",
      "Year          -0.0747      0.003    -23.678      0.000      -0.081      -0.068\n",
      "==============================================================================\n",
      "Omnibus:                        9.665   Durbin-Watson:                   1.997\n",
      "Prob(Omnibus):                  0.008   Jarque-Bera (JB):                8.980\n",
      "Skew:                          -0.071   Prob(JB):                       0.0112\n",
      "Kurtosis:                       2.841   Cond. No.                     3.92e+05\n",
      "==============================================================================\n",
      "\n",
      "Notes:\n",
      "[1] Standard Errors assume that the covariance matrix of the errors is correctly specified.\n",
      "[2] The condition number is large, 3.92e+05. This might indicate that there are\n",
      "strong multicollinearity or other numerical problems.\n"
     ]
    }
   ],
   "source": [
    "X = data[['Year']]\n",
    "X = sm.add_constant(X)\n",
    "y = data['logBoxOffice']\n",
    "\n",
    "ols_baseline = sm.OLS(y, X).fit()\n",
    "print(ols_baseline.summary())"
   ]
  },
  {
   "cell_type": "code",
   "execution_count": 57,
   "id": "14d261c2-aa27-48d9-9091-14115b99a649",
   "metadata": {
    "tags": []
   },
   "outputs": [
    {
     "data": {
      "text/plain": [
       "Index(['Title', 'Year', 'Country', 'BoxOffice', 'runtimeMinutes', 'genres',\n",
       "       'averageRating', 'numVotes', 'isRated', 'ForeignLanguage',\n",
       "       'isCoproduction', 'win_award', 'nominated_award', 'won_Oscar',\n",
       "       'plot_sentiment_polarity', 'plot_sentiment_score', 'isPositivePlot',\n",
       "       'isFiction', 'Competitiveness', 'Cooperativeness', 'logBoxOffice',\n",
       "       'logRunTime', 'logNumVotes'],\n",
       "      dtype='object')"
      ]
     },
     "execution_count": 57,
     "metadata": {},
     "output_type": "execute_result"
    }
   ],
   "source": [
    "data.columns"
   ]
  },
  {
   "cell_type": "markdown",
   "id": "44a2597f-a3e0-4751-9717-3208bf3a7fe5",
   "metadata": {},
   "source": [
    "## Covariates model"
   ]
  },
  {
   "cell_type": "code",
   "execution_count": 58,
   "id": "8b295579-e321-4333-bfc3-1b409702a67c",
   "metadata": {
    "tags": []
   },
   "outputs": [
    {
     "name": "stdout",
     "output_type": "stream",
     "text": [
      "                            OLS Regression Results                            \n",
      "==============================================================================\n",
      "Dep. Variable:           logBoxOffice   R-squared:                       0.294\n",
      "Model:                            OLS   Adj. R-squared:                  0.293\n",
      "Method:                 Least Squares   F-statistic:                     165.3\n",
      "Date:                Fri, 29 Dec 2023   Prob (F-statistic):               0.00\n",
      "Time:                        15:49:28   Log-Likelihood:                -10036.\n",
      "No. Observations:                4768   AIC:                         2.010e+04\n",
      "Df Residuals:                    4755   BIC:                         2.018e+04\n",
      "Df Model:                          12                                         \n",
      "Covariance Type:            nonrobust                                         \n",
      "========================================================================================\n",
      "                           coef    std err          t      P>|t|      [0.025      0.975]\n",
      "----------------------------------------------------------------------------------------\n",
      "const                  103.2861      6.116     16.888      0.000      91.296     115.276\n",
      "Year                    -0.0539      0.003    -17.907      0.000      -0.060      -0.048\n",
      "logRunTime               2.9038      0.154     18.822      0.000       2.601       3.206\n",
      "averageRating            0.2742      0.036      7.720      0.000       0.205       0.344\n",
      "isRated                  1.3491      0.063     21.396      0.000       1.225       1.473\n",
      "ForeignLanguage         -0.0263      0.076     -0.346      0.730      -0.175       0.123\n",
      "isCoproduction          -0.1902      0.060     -3.155      0.002      -0.308      -0.072\n",
      "win_award                0.0943      0.078      1.210      0.227      -0.059       0.247\n",
      "nominated_award          0.4945      0.091      5.445      0.000       0.316       0.673\n",
      "won_Oscar                2.4582      0.251      9.776      0.000       1.965       2.951\n",
      "plot_sentiment_score     0.2582      0.285      0.905      0.366      -0.301       0.818\n",
      "isPositivePlot          -0.1167      0.071     -1.647      0.100      -0.256       0.022\n",
      "isFiction                0.5350      0.155      3.448      0.001       0.231       0.839\n",
      "==============================================================================\n",
      "Omnibus:                       96.747   Durbin-Watson:                   1.991\n",
      "Prob(Omnibus):                  0.000   Jarque-Bera (JB):              107.490\n",
      "Skew:                          -0.317   Prob(JB):                     4.56e-24\n",
      "Kurtosis:                       3.374   Cond. No.                     4.26e+05\n",
      "==============================================================================\n",
      "\n",
      "Notes:\n",
      "[1] Standard Errors assume that the covariance matrix of the errors is correctly specified.\n",
      "[2] The condition number is large, 4.26e+05. This might indicate that there are\n",
      "strong multicollinearity or other numerical problems.\n"
     ]
    }
   ],
   "source": [
    "X = data[['Year',\n",
    "          'logRunTime',\n",
    "          'averageRating',\n",
    "          'isRated',\n",
    "          'ForeignLanguage',\n",
    "          'isCoproduction',\n",
    "          'win_award',\n",
    "          'nominated_award',\n",
    "          'won_Oscar',\n",
    "          'plot_sentiment_score',\n",
    "          'isPositivePlot',\n",
    "          'isFiction']].astype('float')\n",
    "X = sm.add_constant(X)\n",
    "y = data['logBoxOffice']\n",
    "\n",
    "ols_covs = sm.OLS(y, X).fit()\n",
    "print(ols_covs.summary())"
   ]
  },
  {
   "cell_type": "markdown",
   "id": "a1f57aec-7053-44ae-abe9-320fa2653002",
   "metadata": {},
   "source": [
    "## Covariates + Cooperativeness"
   ]
  },
  {
   "cell_type": "code",
   "execution_count": 59,
   "id": "85a97dd7-01f1-45c6-9207-66375458e351",
   "metadata": {
    "tags": []
   },
   "outputs": [
    {
     "name": "stdout",
     "output_type": "stream",
     "text": [
      "                            OLS Regression Results                            \n",
      "==============================================================================\n",
      "Dep. Variable:           logBoxOffice   R-squared:                       0.297\n",
      "Model:                            OLS   Adj. R-squared:                  0.295\n",
      "Method:                 Least Squares   F-statistic:                     154.4\n",
      "Date:                Fri, 29 Dec 2023   Prob (F-statistic):               0.00\n",
      "Time:                        15:49:28   Log-Likelihood:                -10027.\n",
      "No. Observations:                4768   AIC:                         2.008e+04\n",
      "Df Residuals:                    4754   BIC:                         2.017e+04\n",
      "Df Model:                          13                                         \n",
      "Covariance Type:            nonrobust                                         \n",
      "========================================================================================\n",
      "                           coef    std err          t      P>|t|      [0.025      0.975]\n",
      "----------------------------------------------------------------------------------------\n",
      "const                  126.5858      8.298     15.255      0.000     110.318     142.854\n",
      "Year                    -0.0661      0.004    -15.728      0.000      -0.074      -0.058\n",
      "logRunTime               2.9454      0.154     19.083      0.000       2.643       3.248\n",
      "averageRating            0.2665      0.036      7.508      0.000       0.197       0.336\n",
      "isRated                  1.3247      0.063     20.952      0.000       1.201       1.449\n",
      "ForeignLanguage         -0.0746      0.077     -0.971      0.331      -0.225       0.076\n",
      "isCoproduction          -0.0555      0.068     -0.812      0.417      -0.190       0.079\n",
      "win_award                0.1095      0.078      1.405      0.160      -0.043       0.262\n",
      "nominated_award          0.4985      0.091      5.498      0.000       0.321       0.676\n",
      "won_Oscar                2.4493      0.251      9.756      0.000       1.957       2.941\n",
      "plot_sentiment_score     0.2525      0.285      0.886      0.376      -0.306       0.811\n",
      "isPositivePlot          -0.1249      0.071     -1.765      0.078      -0.264       0.014\n",
      "isFiction                0.5540      0.155      3.575      0.000       0.250       0.858\n",
      "Cooperativeness          0.0942      0.023      4.146      0.000       0.050       0.139\n",
      "==============================================================================\n",
      "Omnibus:                       97.969   Durbin-Watson:                   1.990\n",
      "Prob(Omnibus):                  0.000   Jarque-Bera (JB):              108.649\n",
      "Skew:                          -0.320   Prob(JB):                     2.55e-24\n",
      "Kurtosis:                       3.370   Cond. No.                     5.80e+05\n",
      "==============================================================================\n",
      "\n",
      "Notes:\n",
      "[1] Standard Errors assume that the covariance matrix of the errors is correctly specified.\n",
      "[2] The condition number is large, 5.8e+05. This might indicate that there are\n",
      "strong multicollinearity or other numerical problems.\n"
     ]
    }
   ],
   "source": [
    "X = data[['Year',\n",
    "          'logRunTime',\n",
    "          'averageRating',\n",
    "          'isRated',\n",
    "          'ForeignLanguage',\n",
    "          'isCoproduction',\n",
    "          'win_award',\n",
    "          'nominated_award',\n",
    "          'won_Oscar',\n",
    "          'plot_sentiment_score',\n",
    "          'isPositivePlot',\n",
    "          'isFiction',\n",
    "          'Cooperativeness',]].astype('float')\n",
    "X = sm.add_constant(X)\n",
    "y = data['logBoxOffice']\n",
    "\n",
    "ols_coop = sm.OLS(y, X).fit()\n",
    "print(ols_coop.summary())"
   ]
  },
  {
   "cell_type": "markdown",
   "id": "9e4848df-3d4f-436a-a656-3036d1587b2b",
   "metadata": {},
   "source": [
    "## Covariates + Competitiveness"
   ]
  },
  {
   "cell_type": "code",
   "execution_count": 60,
   "id": "833fb862-eb30-4e43-ab5b-07dccfbf89b5",
   "metadata": {
    "tags": []
   },
   "outputs": [
    {
     "name": "stdout",
     "output_type": "stream",
     "text": [
      "                            OLS Regression Results                            \n",
      "==============================================================================\n",
      "Dep. Variable:           logBoxOffice   R-squared:                       0.295\n",
      "Model:                            OLS   Adj. R-squared:                  0.293\n",
      "Method:                 Least Squares   F-statistic:                     153.1\n",
      "Date:                Fri, 29 Dec 2023   Prob (F-statistic):               0.00\n",
      "Time:                        15:49:28   Log-Likelihood:                -10033.\n",
      "No. Observations:                4768   AIC:                         2.009e+04\n",
      "Df Residuals:                    4754   BIC:                         2.018e+04\n",
      "Df Model:                          13                                         \n",
      "Covariance Type:            nonrobust                                         \n",
      "========================================================================================\n",
      "                           coef    std err          t      P>|t|      [0.025      0.975]\n",
      "----------------------------------------------------------------------------------------\n",
      "const                  121.0252      9.674     12.510      0.000     102.059     139.991\n",
      "Year                    -0.0631      0.005    -12.818      0.000      -0.073      -0.053\n",
      "logRunTime               2.9404      0.155     18.973      0.000       2.637       3.244\n",
      "averageRating            0.2728      0.036      7.684      0.000       0.203       0.342\n",
      "isRated                  1.3333      0.063     21.038      0.000       1.209       1.458\n",
      "ForeignLanguage         -0.0557      0.077     -0.724      0.469      -0.207       0.095\n",
      "isCoproduction          -0.2254      0.062     -3.631      0.000      -0.347      -0.104\n",
      "win_award                0.1012      0.078      1.298      0.194      -0.052       0.254\n",
      "nominated_award          0.4956      0.091      5.459      0.000       0.318       0.674\n",
      "won_Oscar                2.4598      0.251      9.787      0.000       1.967       2.953\n",
      "plot_sentiment_score     0.2585      0.285      0.906      0.365      -0.301       0.818\n",
      "isPositivePlot          -0.1180      0.071     -1.666      0.096      -0.257       0.021\n",
      "isFiction                0.5463      0.155      3.521      0.000       0.242       0.851\n",
      "Competitiveness          0.0630      0.027      2.366      0.018       0.011       0.115\n",
      "==============================================================================\n",
      "Omnibus:                       98.124   Durbin-Watson:                   1.992\n",
      "Prob(Omnibus):                  0.000   Jarque-Bera (JB):              109.193\n",
      "Skew:                          -0.319   Prob(JB):                     1.95e-24\n",
      "Kurtosis:                       3.378   Cond. No.                     6.75e+05\n",
      "==============================================================================\n",
      "\n",
      "Notes:\n",
      "[1] Standard Errors assume that the covariance matrix of the errors is correctly specified.\n",
      "[2] The condition number is large, 6.75e+05. This might indicate that there are\n",
      "strong multicollinearity or other numerical problems.\n"
     ]
    }
   ],
   "source": [
    "X = data[['Year',\n",
    "          'logRunTime',\n",
    "          'averageRating',\n",
    "          'isRated',\n",
    "          'ForeignLanguage',\n",
    "          'isCoproduction',\n",
    "          'win_award',\n",
    "          'nominated_award',\n",
    "          'won_Oscar',\n",
    "          'plot_sentiment_score',\n",
    "          'isPositivePlot',\n",
    "          'isFiction',\n",
    "          'Competitiveness',]].astype('float')\n",
    "X = sm.add_constant(X)\n",
    "y = data['logBoxOffice']\n",
    "\n",
    "ols_comp = sm.OLS(y, X).fit()\n",
    "print(ols_comp.summary())"
   ]
  },
  {
   "cell_type": "markdown",
   "id": "fcedf00f-ddb6-45d0-9809-687742cd3e76",
   "metadata": {},
   "source": [
    "## Full OLS model"
   ]
  },
  {
   "cell_type": "code",
   "execution_count": 61,
   "id": "175a3955-cec7-4ff3-9cb3-6b448fac212b",
   "metadata": {
    "tags": []
   },
   "outputs": [
    {
     "name": "stdout",
     "output_type": "stream",
     "text": [
      "                            OLS Regression Results                            \n",
      "==============================================================================\n",
      "Dep. Variable:           logBoxOffice   R-squared:                       0.297\n",
      "Model:                            OLS   Adj. R-squared:                  0.295\n",
      "Method:                 Least Squares   F-statistic:                     143.4\n",
      "Date:                Fri, 29 Dec 2023   Prob (F-statistic):               0.00\n",
      "Time:                        15:49:28   Log-Likelihood:                -10027.\n",
      "No. Observations:                4768   AIC:                         2.008e+04\n",
      "Df Residuals:                    4753   BIC:                         2.018e+04\n",
      "Df Model:                          14                                         \n",
      "Covariance Type:            nonrobust                                         \n",
      "========================================================================================\n",
      "                           coef    std err          t      P>|t|      [0.025      0.975]\n",
      "----------------------------------------------------------------------------------------\n",
      "const                  123.4694      9.689     12.743      0.000     104.475     142.464\n",
      "Year                    -0.0645      0.005    -13.064      0.000      -0.074      -0.055\n",
      "logRunTime               2.9381      0.155     18.979      0.000       2.635       3.242\n",
      "averageRating            0.2659      0.036      7.488      0.000       0.196       0.336\n",
      "isRated                  1.3269      0.063     20.952      0.000       1.203       1.451\n",
      "ForeignLanguage         -0.0707      0.077     -0.918      0.359      -0.222       0.080\n",
      "isCoproduction          -0.0241      0.085     -0.283      0.777      -0.191       0.143\n",
      "nominated_award          0.4986      0.091      5.499      0.000       0.321       0.676\n",
      "win_award                0.1091      0.078      1.400      0.161      -0.044       0.262\n",
      "won_Oscar                2.4475      0.251      9.748      0.000       1.955       2.940\n",
      "plot_sentiment_score     0.2516      0.285      0.883      0.377      -0.307       0.810\n",
      "isPositivePlot          -0.1256      0.071     -1.774      0.076      -0.264       0.013\n",
      "isFiction                0.5526      0.155      3.565      0.000       0.249       0.856\n",
      "Cooperativeness          0.1074      0.031      3.459      0.001       0.047       0.168\n",
      "Competitiveness         -0.0226      0.036     -0.623      0.533      -0.094       0.049\n",
      "==============================================================================\n",
      "Omnibus:                       97.554   Durbin-Watson:                   1.990\n",
      "Prob(Omnibus):                  0.000   Jarque-Bera (JB):              108.094\n",
      "Skew:                          -0.320   Prob(JB):                     3.37e-24\n",
      "Kurtosis:                       3.368   Cond. No.                     6.77e+05\n",
      "==============================================================================\n",
      "\n",
      "Notes:\n",
      "[1] Standard Errors assume that the covariance matrix of the errors is correctly specified.\n",
      "[2] The condition number is large, 6.77e+05. This might indicate that there are\n",
      "strong multicollinearity or other numerical problems.\n"
     ]
    }
   ],
   "source": [
    "X = data[['Year',\n",
    "          'logRunTime',\n",
    "          'averageRating',\n",
    "          'isRated',\n",
    "          'ForeignLanguage',\n",
    "          'isCoproduction',\n",
    "          'nominated_award',\n",
    "          'win_award',\n",
    "          'won_Oscar',\n",
    "          'plot_sentiment_score',\n",
    "          'isPositivePlot',\n",
    "          'isFiction',\n",
    "          'Cooperativeness',\n",
    "          'Competitiveness',]].astype('float')\n",
    "X = sm.add_constant(X)\n",
    "y = data['logBoxOffice']\n",
    "\n",
    "ols_full = sm.OLS(y, X).fit()\n",
    "print(ols_full.summary())"
   ]
  },
  {
   "cell_type": "markdown",
   "id": "f73cdfb0-5913-4cdd-9ee9-4e28d0931cd6",
   "metadata": {},
   "source": [
    "## OLS models comparison"
   ]
  },
  {
   "cell_type": "code",
   "execution_count": 62,
   "id": "e2b58fcc-ffe2-4e84-be76-6c3906eada74",
   "metadata": {
    "tags": []
   },
   "outputs": [
    {
     "data": {
      "text/html": [
       "<table style=\"text-align:center\"><tr><td colspan=\"6\" style=\"border-bottom: 1px solid black\"></td></tr>\n",
       "<tr><td style=\"text-align:left\"></td><td colspan=\"5\"><em>Dependent variable: logBoxOffice</em></td></tr><tr><td style=\"text-align:left\"></td><tr><td></td><td colspan=\"1\">Trend only</td><td colspan=\"1\">Covariates only</td><td colspan=\"1\">Competitiveness & covs</td><td colspan=\"1\">Cooperation & covs</td><td colspan=\"1\">Full model</td></tr><tr><td style=\"text-align:left\"></td><td>(1)</td><td>(2)</td><td>(3)</td><td>(4)</td><td>(5)</td></tr>\n",
       "<tr><td colspan=\"6\" style=\"border-bottom: 1px solid black\"></td></tr>\n",
       "\n",
       "<tr><td style=\"text-align:left\">const</td><td>162.144<sup>***</sup></td><td>103.286<sup>***</sup></td><td>121.025<sup>***</sup></td><td>126.586<sup>***</sup></td><td>123.469<sup>***</sup></td></tr>\n",
       "<tr><td style=\"text-align:left\"></td><td>(6.332)</td><td>(6.116)</td><td>(9.674)</td><td>(8.298)</td><td>(9.689)</td></tr>\n",
       "<tr><td style=\"text-align:left\">Year</td><td>-0.075<sup>***</sup></td><td>-0.054<sup>***</sup></td><td>-0.063<sup>***</sup></td><td>-0.066<sup>***</sup></td><td>-0.064<sup>***</sup></td></tr>\n",
       "<tr><td style=\"text-align:left\"></td><td>(0.003)</td><td>(0.003)</td><td>(0.005)</td><td>(0.004)</td><td>(0.005)</td></tr>\n",
       "<tr><td style=\"text-align:left\">logRunTime</td><td></td><td>2.904<sup>***</sup></td><td>2.940<sup>***</sup></td><td>2.945<sup>***</sup></td><td>2.938<sup>***</sup></td></tr>\n",
       "<tr><td style=\"text-align:left\"></td><td></td><td>(0.154)</td><td>(0.155)</td><td>(0.154)</td><td>(0.155)</td></tr>\n",
       "<tr><td style=\"text-align:left\">averageRating</td><td></td><td>0.274<sup>***</sup></td><td>0.273<sup>***</sup></td><td>0.267<sup>***</sup></td><td>0.266<sup>***</sup></td></tr>\n",
       "<tr><td style=\"text-align:left\"></td><td></td><td>(0.036)</td><td>(0.036)</td><td>(0.036)</td><td>(0.036)</td></tr>\n",
       "<tr><td style=\"text-align:left\">isRated</td><td></td><td>1.349<sup>***</sup></td><td>1.333<sup>***</sup></td><td>1.325<sup>***</sup></td><td>1.327<sup>***</sup></td></tr>\n",
       "<tr><td style=\"text-align:left\"></td><td></td><td>(0.063)</td><td>(0.063)</td><td>(0.063)</td><td>(0.063)</td></tr>\n",
       "<tr><td style=\"text-align:left\">ForeignLanguage</td><td></td><td>-0.026<sup></sup></td><td>-0.056<sup></sup></td><td>-0.075<sup></sup></td><td>-0.071<sup></sup></td></tr>\n",
       "<tr><td style=\"text-align:left\"></td><td></td><td>(0.076)</td><td>(0.077)</td><td>(0.077)</td><td>(0.077)</td></tr>\n",
       "<tr><td style=\"text-align:left\">isCoproduction</td><td></td><td>-0.190<sup>***</sup></td><td>-0.225<sup>***</sup></td><td>-0.056<sup></sup></td><td>-0.024<sup></sup></td></tr>\n",
       "<tr><td style=\"text-align:left\"></td><td></td><td>(0.060)</td><td>(0.062)</td><td>(0.068)</td><td>(0.085)</td></tr>\n",
       "<tr><td style=\"text-align:left\">nominated_award</td><td></td><td>0.495<sup>***</sup></td><td>0.496<sup>***</sup></td><td>0.498<sup>***</sup></td><td>0.499<sup>***</sup></td></tr>\n",
       "<tr><td style=\"text-align:left\"></td><td></td><td>(0.091)</td><td>(0.091)</td><td>(0.091)</td><td>(0.091)</td></tr>\n",
       "<tr><td style=\"text-align:left\">win_award</td><td></td><td>0.094<sup></sup></td><td>0.101<sup></sup></td><td>0.109<sup></sup></td><td>0.109<sup></sup></td></tr>\n",
       "<tr><td style=\"text-align:left\"></td><td></td><td>(0.078)</td><td>(0.078)</td><td>(0.078)</td><td>(0.078)</td></tr>\n",
       "<tr><td style=\"text-align:left\">won_Oscar</td><td></td><td>2.458<sup>***</sup></td><td>2.460<sup>***</sup></td><td>2.449<sup>***</sup></td><td>2.447<sup>***</sup></td></tr>\n",
       "<tr><td style=\"text-align:left\"></td><td></td><td>(0.251)</td><td>(0.251)</td><td>(0.251)</td><td>(0.251)</td></tr>\n",
       "<tr><td style=\"text-align:left\">plot_sentiment_score</td><td></td><td>0.258<sup></sup></td><td>0.258<sup></sup></td><td>0.252<sup></sup></td><td>0.252<sup></sup></td></tr>\n",
       "<tr><td style=\"text-align:left\"></td><td></td><td>(0.285)</td><td>(0.285)</td><td>(0.285)</td><td>(0.285)</td></tr>\n",
       "<tr><td style=\"text-align:left\">isPositivePlot</td><td></td><td>-0.117<sup>*</sup></td><td>-0.118<sup>*</sup></td><td>-0.125<sup>*</sup></td><td>-0.126<sup>*</sup></td></tr>\n",
       "<tr><td style=\"text-align:left\"></td><td></td><td>(0.071)</td><td>(0.071)</td><td>(0.071)</td><td>(0.071)</td></tr>\n",
       "<tr><td style=\"text-align:left\">isFiction</td><td></td><td>0.535<sup>***</sup></td><td>0.546<sup>***</sup></td><td>0.554<sup>***</sup></td><td>0.553<sup>***</sup></td></tr>\n",
       "<tr><td style=\"text-align:left\"></td><td></td><td>(0.155)</td><td>(0.155)</td><td>(0.155)</td><td>(0.155)</td></tr>\n",
       "<tr><td style=\"text-align:left\">Cooperativeness</td><td></td><td></td><td></td><td>0.094<sup>***</sup></td><td>0.107<sup>***</sup></td></tr>\n",
       "<tr><td style=\"text-align:left\"></td><td></td><td></td><td></td><td>(0.023)</td><td>(0.031)</td></tr>\n",
       "<tr><td style=\"text-align:left\">Competitiveness</td><td></td><td></td><td>0.063<sup>**</sup></td><td></td><td>-0.023<sup></sup></td></tr>\n",
       "<tr><td style=\"text-align:left\"></td><td></td><td></td><td>(0.027)</td><td></td><td>(0.036)</td></tr>\n",
       "\n",
       "<td colspan=\"6\" style=\"border-bottom: 1px solid black\"></td></tr>\n",
       "<tr><td style=\"text-align: left\">Observations</td><td>4768</td><td>4768</td><td>4768</td><td>4768</td><td>4768</td></tr><tr><td style=\"text-align: left\">R<sup>2</sup></td><td>0.105</td><td>0.294</td><td>0.295</td><td>0.297</td><td>0.297</td></tr><tr><td style=\"text-align: left\">Adjusted R<sup>2</sup></td><td>0.105</td><td>0.293</td><td>0.293</td><td>0.295</td><td>0.295</td></tr><tr><td style=\"text-align: left\">Residual Std. Error</td><td>2.236 (df=4766)</td><td>1.988 (df=4755)</td><td>1.987 (df=4754)</td><td>1.985 (df=4754)</td><td>1.985 (df=4753)</td></tr><tr><td style=\"text-align: left\">F Statistic</td><td>560.663<sup>***</sup> (df=1; 4766)</td><td>165.276<sup>***</sup> (df=12; 4755)</td><td>153.140<sup>***</sup> (df=13; 4754)</td><td>154.404<sup>***</sup> (df=13; 4754)</td><td>143.385<sup>***</sup> (df=14; 4753)</td></tr>\n",
       "<tr><td colspan=\"6\" style=\"border-bottom: 1px solid black\"></td></tr><tr><td style=\"text-align: left\">Note:</td><td colspan=\"5\" style=\"text-align: right\"><sup>*</sup>p&lt;0.1; <sup>**</sup>p&lt;0.05; <sup>***</sup>p&lt;0.01</td></tr></table>"
      ],
      "text/plain": [
       "<stargazer.stargazer.Stargazer at 0x2764bfa9a50>"
      ]
     },
     "execution_count": 62,
     "metadata": {},
     "output_type": "execute_result"
    }
   ],
   "source": [
    "from stargazer.stargazer import Stargazer, LineLocation\n",
    "\n",
    "stargazer = Stargazer([ ols_baseline,\n",
    "                       ols_covs, \n",
    "                       ols_comp,\n",
    "                       ols_coop,\n",
    "                       ols_full,])\n",
    "stargazer.covariate_order(X.columns)\n",
    "stargazer.custom_columns(['Trend only', \n",
    "                          'Covariates only', \n",
    "                          'Competitiveness & covs',\n",
    "                          'Cooperation & covs',\n",
    "                          'Full model',\n",
    "                         ], [1,1,1,1,1])\n",
    "stargazer.show_model_numbers(True)\n",
    "stargazer"
   ]
  },
  {
   "cell_type": "markdown",
   "id": "daa36e40-cd21-4a50-b627-415551af7d04",
   "metadata": {},
   "source": [
    "## Covariates + Cooperativeness, Multilevel"
   ]
  },
  {
   "cell_type": "code",
   "execution_count": 11,
   "id": "cab186ce-e34f-4a54-80c3-ff8046c1693f",
   "metadata": {
    "tags": []
   },
   "outputs": [
    {
     "name": "stdout",
     "output_type": "stream",
     "text": [
      "               Mixed Linear Model Regression Results\n",
      "===================================================================\n",
      "Model:               MixedLM    Dependent Variable:    logBoxOffice\n",
      "No. Observations:    4768       Method:                REML        \n",
      "No. Groups:          2370       Scale:                 3.1476      \n",
      "Min. group size:     1          Log-Likelihood:        -9917.4666  \n",
      "Max. group size:     29         Converged:             Yes         \n",
      "Mean group size:     2.0                                           \n",
      "-------------------------------------------------------------------\n",
      "                      Coef.  Std.Err.    z    P>|z|  [0.025  0.975]\n",
      "-------------------------------------------------------------------\n",
      "const                147.452    9.430  15.636 0.000 128.968 165.935\n",
      "Year                  -0.075    0.005 -15.778 0.000  -0.084  -0.066\n",
      "logRunTime             2.040    0.166  12.311 0.000   1.715   2.365\n",
      "averageRating          0.325    0.035   9.342 0.000   0.257   0.393\n",
      "isRated                1.438    0.062  23.043 0.000   1.316   1.560\n",
      "ForeignLanguage       -0.126    0.083  -1.523 0.128  -0.288   0.036\n",
      "isCoproduction         0.222    0.079   2.823 0.005   0.068   0.375\n",
      "nominated_award        0.511    0.087   5.861 0.000   0.340   0.682\n",
      "win_award              0.189    0.075   2.531 0.011   0.043   0.336\n",
      "won_Oscar              2.471    0.244  10.137 0.000   1.993   2.948\n",
      "plot_sentiment_score   0.294    0.273   1.076 0.282  -0.241   0.829\n",
      "isPositivePlot        -0.100    0.068  -1.467 0.142  -0.233   0.033\n",
      "isFiction              0.445    0.150   2.965 0.003   0.151   0.739\n",
      "Cooperativeness        0.140    0.025   5.503 0.000   0.090   0.190\n",
      "Group Var              0.771    0.049                              \n",
      "===================================================================\n",
      "\n"
     ]
    }
   ],
   "source": [
    "X = data[['Year',\n",
    "          'logRunTime',\n",
    "          'averageRating',\n",
    "          'isRated',\n",
    "          'ForeignLanguage',\n",
    "          'isCoproduction',\n",
    "          'nominated_award',\n",
    "          'win_award',\n",
    "          'won_Oscar',\n",
    "          'plot_sentiment_score',\n",
    "          'isPositivePlot',\n",
    "          'isFiction',\n",
    "          'Cooperativeness',]].astype('float')\n",
    "X = sm.add_constant(X)\n",
    "y = data['logBoxOffice']\n",
    "\n",
    "# Defining the groups for varying intercepts (country and year combination)\n",
    "groups = data['Country'].astype(str) + ':' + data['Year'].astype(str)\n",
    "\n",
    "# Creating the mixed-effects model with varying intercepts for country-year combinations\n",
    "hlm_coop = sm.MixedLM(y, X, groups=groups).fit()\n",
    "\n",
    "# Printing the summary of the model\n",
    "print(hlm_coop.summary())"
   ]
  },
  {
   "cell_type": "markdown",
   "id": "465eafa4-9a30-4aa3-8b2c-6f0385b69bc4",
   "metadata": {},
   "source": [
    "## Covariates + Competitiveness, Multilevel"
   ]
  },
  {
   "cell_type": "code",
   "execution_count": 12,
   "id": "9c47e3d6-bad5-4dc0-8005-07b9f1fe7a10",
   "metadata": {
    "tags": []
   },
   "outputs": [
    {
     "name": "stdout",
     "output_type": "stream",
     "text": [
      "               Mixed Linear Model Regression Results\n",
      "===================================================================\n",
      "Model:               MixedLM    Dependent Variable:    logBoxOffice\n",
      "No. Observations:    4768       Method:                REML        \n",
      "No. Groups:          2370       Scale:                 3.1557      \n",
      "Min. group size:     1          Log-Likelihood:        -9924.8672  \n",
      "Max. group size:     29         Converged:             Yes         \n",
      "Mean group size:     2.0                                           \n",
      "-------------------------------------------------------------------\n",
      "                      Coef.  Std.Err.    z    P>|z|  [0.025  0.975]\n",
      "-------------------------------------------------------------------\n",
      "const                148.511   11.387  13.042 0.000 126.192 170.830\n",
      "Year                  -0.075    0.006 -13.065 0.000  -0.087  -0.064\n",
      "logRunTime             2.051    0.166  12.354 0.000   1.726   2.376\n",
      "averageRating          0.331    0.035   9.483 0.000   0.262   0.399\n",
      "isRated                1.444    0.063  23.089 0.000   1.321   1.566\n",
      "ForeignLanguage       -0.110    0.083  -1.325 0.185  -0.272   0.053\n",
      "isCoproduction        -0.039    0.076  -0.514 0.607  -0.189   0.111\n",
      "nominated_award        0.510    0.087   5.847 0.000   0.339   0.682\n",
      "win_award              0.183    0.075   2.441 0.015   0.036   0.330\n",
      "won_Oscar              2.485    0.244  10.179 0.000   2.006   2.963\n",
      "plot_sentiment_score   0.297    0.274   1.086 0.278  -0.239   0.833\n",
      "isPositivePlot        -0.091    0.068  -1.344 0.179  -0.225   0.042\n",
      "isFiction              0.439    0.150   2.918 0.004   0.144   0.733\n",
      "Competitiveness        0.122    0.032   3.876 0.000   0.061   0.184\n",
      "Group Var              0.777    0.050                              \n",
      "===================================================================\n",
      "\n"
     ]
    }
   ],
   "source": [
    "X = data[['Year',\n",
    "          'logRunTime',\n",
    "          'averageRating',\n",
    "          'isRated',\n",
    "          'ForeignLanguage',\n",
    "          'isCoproduction',\n",
    "          'nominated_award',\n",
    "          'win_award',\n",
    "          'won_Oscar',\n",
    "          'plot_sentiment_score',\n",
    "          'isPositivePlot',\n",
    "          'isFiction',\n",
    "          'Competitiveness',]].astype('float')\n",
    "X = sm.add_constant(X)\n",
    "y = data['logBoxOffice']\n",
    "\n",
    "# Defining the groups for varying intercepts (country and year combination)\n",
    "groups = data['Country'].astype(str) + ':' + data['Year'].astype(str)\n",
    "\n",
    "# Creating the mixed-effects model with varying intercepts for country-year combinations\n",
    "hlm_comp = sm.MixedLM(y, X, groups=groups).fit()\n",
    "\n",
    "# Printing the summary of the model\n",
    "print(hlm_comp.summary())"
   ]
  },
  {
   "cell_type": "code",
   "execution_count": 13,
   "id": "6033fd86-5ff3-45b4-8591-2d1ef37824ac",
   "metadata": {
    "tags": []
   },
   "outputs": [
    {
     "data": {
      "text/plain": [
       "4135    11.525524\n",
       "2226    12.183109\n",
       "270      8.613993\n",
       "3750     6.734235\n",
       "4513    10.760364\n",
       "Name: Competitiveness, dtype: float64"
      ]
     },
     "execution_count": 13,
     "metadata": {},
     "output_type": "execute_result"
    }
   ],
   "source": [
    "data.Competitiveness.sample(5)"
   ]
  },
  {
   "cell_type": "markdown",
   "id": "6973c70f-6be1-4795-a510-0cbae871ec95",
   "metadata": {},
   "source": [
    "## Full Multilevel model"
   ]
  },
  {
   "cell_type": "code",
   "execution_count": 14,
   "id": "faa93072-28d0-4195-8289-b915ecfac96e",
   "metadata": {
    "tags": []
   },
   "outputs": [],
   "source": [
    "X = data[['Year',\n",
    "          'logRunTime',\n",
    "          'averageRating',\n",
    "          'isRated',\n",
    "          'ForeignLanguage',\n",
    "          'isCoproduction',\n",
    "          'nominated_award',\n",
    "          'win_award',\n",
    "          'won_Oscar',\n",
    "          'plot_sentiment_score',\n",
    "          'isPositivePlot',\n",
    "          'isFiction',\n",
    "          'Cooperativeness',\n",
    "          'Competitiveness',]].astype('float')\n",
    "X = sm.add_constant(X)\n",
    "y = data['logBoxOffice']"
   ]
  },
  {
   "cell_type": "code",
   "execution_count": 15,
   "id": "0a85ac4e-a419-48b5-9bd2-3bb37adfcc48",
   "metadata": {
    "tags": []
   },
   "outputs": [
    {
     "name": "stdout",
     "output_type": "stream",
     "text": [
      "               Mixed Linear Model Regression Results\n",
      "===================================================================\n",
      "Model:               MixedLM    Dependent Variable:    logBoxOffice\n",
      "No. Observations:    4768       Method:                REML        \n",
      "No. Groups:          2370       Scale:                 3.1468      \n",
      "Min. group size:     1          Log-Likelihood:        -9919.5948  \n",
      "Max. group size:     29         Converged:             Yes         \n",
      "Mean group size:     2.0                                           \n",
      "-------------------------------------------------------------------\n",
      "                      Coef.  Std.Err.    z    P>|z|  [0.025  0.975]\n",
      "-------------------------------------------------------------------\n",
      "const                151.112   11.387  13.271 0.000 128.794 173.430\n",
      "Year                  -0.077    0.006 -13.312 0.000  -0.088  -0.066\n",
      "logRunTime             2.042    0.166  12.317 0.000   1.717   2.367\n",
      "averageRating          0.326    0.035   9.355 0.000   0.258   0.394\n",
      "isRated                1.437    0.062  23.004 0.000   1.314   1.559\n",
      "ForeignLanguage       -0.129    0.083  -1.552 0.121  -0.291   0.034\n",
      "isCoproduction         0.190    0.096   1.980 0.048   0.002   0.378\n",
      "nominated_award        0.511    0.087   5.861 0.000   0.340   0.682\n",
      "win_award              0.190    0.075   2.536 0.011   0.043   0.336\n",
      "won_Oscar              2.472    0.244  10.142 0.000   1.995   2.950\n",
      "plot_sentiment_score   0.294    0.273   1.077 0.282  -0.241   0.829\n",
      "isPositivePlot        -0.099    0.068  -1.455 0.146  -0.232   0.034\n",
      "isFiction              0.446    0.150   2.970 0.003   0.152   0.740\n",
      "Cooperativeness        0.129    0.033   3.946 0.000   0.065   0.193\n",
      "Competitiveness        0.023    0.040   0.574 0.566  -0.056   0.102\n",
      "Group Var              0.773    0.049                              \n",
      "===================================================================\n",
      "\n"
     ]
    }
   ],
   "source": [
    "# Defining the groups for varying intercepts (country and year combination)\n",
    "groups = data['Country'].astype(str) + ':' + data['Year'].astype(str)\n",
    "\n",
    "# Creating the mixed-effects model with varying intercepts for country-year combinations\n",
    "hlm_full = sm.MixedLM(y, X, groups=groups).fit()\n",
    "\n",
    "# Printing the summary of the model\n",
    "print(hlm_full.summary())"
   ]
  },
  {
   "cell_type": "markdown",
   "id": "3b280b9e-6232-41e1-832e-e6c6c7f628b5",
   "metadata": {},
   "source": [
    "## Model comparison"
   ]
  },
  {
   "cell_type": "code",
   "execution_count": 16,
   "id": "895cd3fa-4e65-488b-bfe0-054f4912de00",
   "metadata": {
    "tags": []
   },
   "outputs": [
    {
     "data": {
      "text/html": [
       "<table style=\"text-align:center\"><tr><td colspan=\"9\" style=\"border-bottom: 1px solid black\"></td></tr>\n",
       "<tr><td style=\"text-align:left\"></td><td colspan=\"8\"><em>Dependent variable: logBoxOffice</em></td></tr><tr><td style=\"text-align:left\"></td><tr><td></td><td colspan=\"1\">Trend only</td><td colspan=\"1\">Covariates only</td><td colspan=\"1\">Competitiveness & covs</td><td colspan=\"1\">Cooperation & covs</td><td colspan=\"1\">Full model</td><td colspan=\"1\">Competitiveness & covs</td><td colspan=\"1\">Cooperation & covs</td><td colspan=\"1\">Full model</td></tr><tr><td style=\"text-align:left\"></td><td>(1)</td><td>(2)</td><td>(3)</td><td>(4)</td><td>(5)</td><td>(6)</td><td>(7)</td><td>(8)</td></tr>\n",
       "<tr><td style=\"text-align: left\">Model type</td><td>OLS</td><td>OLS</td><td>OLS</td><td>OLS</td><td>OLS</td><td>HLM</td><td>HLM</td><td>HLM</td></tr><tr><td colspan=\"9\" style=\"border-bottom: 1px solid black\"></td></tr>\n",
       "\n",
       "<tr><td style=\"text-align:left\">const</td><td>162.144<sup>***</sup></td><td>103.286<sup>***</sup></td><td>121.025<sup>***</sup></td><td>126.586<sup>***</sup></td><td>123.469<sup>***</sup></td><td>148.511<sup>***</sup></td><td>147.452<sup>***</sup></td><td>151.112<sup>***</sup></td></tr>\n",
       "<tr><td style=\"text-align:left\"></td><td>(6.332)</td><td>(6.116)</td><td>(9.674)</td><td>(8.298)</td><td>(9.689)</td><td>(11.387)</td><td>(9.430)</td><td>(11.387)</td></tr>\n",
       "<tr><td style=\"text-align:left\">Year</td><td>-0.075<sup>***</sup></td><td>-0.054<sup>***</sup></td><td>-0.063<sup>***</sup></td><td>-0.066<sup>***</sup></td><td>-0.064<sup>***</sup></td><td>-0.075<sup>***</sup></td><td>-0.075<sup>***</sup></td><td>-0.077<sup>***</sup></td></tr>\n",
       "<tr><td style=\"text-align:left\"></td><td>(0.003)</td><td>(0.003)</td><td>(0.005)</td><td>(0.004)</td><td>(0.005)</td><td>(0.006)</td><td>(0.005)</td><td>(0.006)</td></tr>\n",
       "<tr><td style=\"text-align:left\">logRunTime</td><td></td><td>2.904<sup>***</sup></td><td>2.940<sup>***</sup></td><td>2.945<sup>***</sup></td><td>2.938<sup>***</sup></td><td>2.051<sup>***</sup></td><td>2.040<sup>***</sup></td><td>2.042<sup>***</sup></td></tr>\n",
       "<tr><td style=\"text-align:left\"></td><td></td><td>(0.154)</td><td>(0.155)</td><td>(0.154)</td><td>(0.155)</td><td>(0.166)</td><td>(0.166)</td><td>(0.166)</td></tr>\n",
       "<tr><td style=\"text-align:left\">averageRating</td><td></td><td>0.274<sup>***</sup></td><td>0.273<sup>***</sup></td><td>0.267<sup>***</sup></td><td>0.266<sup>***</sup></td><td>0.331<sup>***</sup></td><td>0.325<sup>***</sup></td><td>0.326<sup>***</sup></td></tr>\n",
       "<tr><td style=\"text-align:left\"></td><td></td><td>(0.036)</td><td>(0.036)</td><td>(0.036)</td><td>(0.036)</td><td>(0.035)</td><td>(0.035)</td><td>(0.035)</td></tr>\n",
       "<tr><td style=\"text-align:left\">isRated</td><td></td><td>1.349<sup>***</sup></td><td>1.333<sup>***</sup></td><td>1.325<sup>***</sup></td><td>1.327<sup>***</sup></td><td>1.444<sup>***</sup></td><td>1.438<sup>***</sup></td><td>1.437<sup>***</sup></td></tr>\n",
       "<tr><td style=\"text-align:left\"></td><td></td><td>(0.063)</td><td>(0.063)</td><td>(0.063)</td><td>(0.063)</td><td>(0.063)</td><td>(0.062)</td><td>(0.062)</td></tr>\n",
       "<tr><td style=\"text-align:left\">ForeignLanguage</td><td></td><td>-0.026<sup></sup></td><td>-0.056<sup></sup></td><td>-0.075<sup></sup></td><td>-0.071<sup></sup></td><td>-0.110<sup></sup></td><td>-0.126<sup></sup></td><td>-0.129<sup></sup></td></tr>\n",
       "<tr><td style=\"text-align:left\"></td><td></td><td>(0.076)</td><td>(0.077)</td><td>(0.077)</td><td>(0.077)</td><td>(0.083)</td><td>(0.083)</td><td>(0.083)</td></tr>\n",
       "<tr><td style=\"text-align:left\">isCoproduction</td><td></td><td>-0.190<sup>***</sup></td><td>-0.225<sup>***</sup></td><td>-0.056<sup></sup></td><td>-0.024<sup></sup></td><td>-0.039<sup></sup></td><td>0.222<sup>***</sup></td><td>0.190<sup>**</sup></td></tr>\n",
       "<tr><td style=\"text-align:left\"></td><td></td><td>(0.060)</td><td>(0.062)</td><td>(0.068)</td><td>(0.085)</td><td>(0.076)</td><td>(0.079)</td><td>(0.096)</td></tr>\n",
       "<tr><td style=\"text-align:left\">nominated_award</td><td></td><td>0.495<sup>***</sup></td><td>0.496<sup>***</sup></td><td>0.498<sup>***</sup></td><td>0.499<sup>***</sup></td><td>0.510<sup>***</sup></td><td>0.511<sup>***</sup></td><td>0.511<sup>***</sup></td></tr>\n",
       "<tr><td style=\"text-align:left\"></td><td></td><td>(0.091)</td><td>(0.091)</td><td>(0.091)</td><td>(0.091)</td><td>(0.087)</td><td>(0.087)</td><td>(0.087)</td></tr>\n",
       "<tr><td style=\"text-align:left\">win_award</td><td></td><td>0.094<sup></sup></td><td>0.101<sup></sup></td><td>0.109<sup></sup></td><td>0.109<sup></sup></td><td>0.183<sup>**</sup></td><td>0.189<sup>**</sup></td><td>0.190<sup>**</sup></td></tr>\n",
       "<tr><td style=\"text-align:left\"></td><td></td><td>(0.078)</td><td>(0.078)</td><td>(0.078)</td><td>(0.078)</td><td>(0.075)</td><td>(0.075)</td><td>(0.075)</td></tr>\n",
       "<tr><td style=\"text-align:left\">won_Oscar</td><td></td><td>2.458<sup>***</sup></td><td>2.460<sup>***</sup></td><td>2.449<sup>***</sup></td><td>2.447<sup>***</sup></td><td>2.485<sup>***</sup></td><td>2.471<sup>***</sup></td><td>2.472<sup>***</sup></td></tr>\n",
       "<tr><td style=\"text-align:left\"></td><td></td><td>(0.251)</td><td>(0.251)</td><td>(0.251)</td><td>(0.251)</td><td>(0.244)</td><td>(0.244)</td><td>(0.244)</td></tr>\n",
       "<tr><td style=\"text-align:left\">plot_sentiment_score</td><td></td><td>0.258<sup></sup></td><td>0.258<sup></sup></td><td>0.252<sup></sup></td><td>0.252<sup></sup></td><td>0.297<sup></sup></td><td>0.294<sup></sup></td><td>0.294<sup></sup></td></tr>\n",
       "<tr><td style=\"text-align:left\"></td><td></td><td>(0.285)</td><td>(0.285)</td><td>(0.285)</td><td>(0.285)</td><td>(0.274)</td><td>(0.273)</td><td>(0.273)</td></tr>\n",
       "<tr><td style=\"text-align:left\">isPositivePlot</td><td></td><td>-0.117<sup>*</sup></td><td>-0.118<sup>*</sup></td><td>-0.125<sup>*</sup></td><td>-0.126<sup>*</sup></td><td>-0.091<sup></sup></td><td>-0.100<sup></sup></td><td>-0.099<sup></sup></td></tr>\n",
       "<tr><td style=\"text-align:left\"></td><td></td><td>(0.071)</td><td>(0.071)</td><td>(0.071)</td><td>(0.071)</td><td>(0.068)</td><td>(0.068)</td><td>(0.068)</td></tr>\n",
       "<tr><td style=\"text-align:left\">isFiction</td><td></td><td>0.535<sup>***</sup></td><td>0.546<sup>***</sup></td><td>0.554<sup>***</sup></td><td>0.553<sup>***</sup></td><td>0.439<sup>***</sup></td><td>0.445<sup>***</sup></td><td>0.446<sup>***</sup></td></tr>\n",
       "<tr><td style=\"text-align:left\"></td><td></td><td>(0.155)</td><td>(0.155)</td><td>(0.155)</td><td>(0.155)</td><td>(0.150)</td><td>(0.150)</td><td>(0.150)</td></tr>\n",
       "<tr><td style=\"text-align:left\">Cooperativeness</td><td></td><td></td><td></td><td>0.094<sup>***</sup></td><td>0.107<sup>***</sup></td><td></td><td>0.140<sup>***</sup></td><td>0.129<sup>***</sup></td></tr>\n",
       "<tr><td style=\"text-align:left\"></td><td></td><td></td><td></td><td>(0.023)</td><td>(0.031)</td><td></td><td>(0.025)</td><td>(0.033)</td></tr>\n",
       "<tr><td style=\"text-align:left\">Competitiveness</td><td></td><td></td><td>0.063<sup>**</sup></td><td></td><td>-0.023<sup></sup></td><td>0.122<sup>***</sup></td><td></td><td>0.023<sup></sup></td></tr>\n",
       "<tr><td style=\"text-align:left\"></td><td></td><td></td><td>(0.027)</td><td></td><td>(0.036)</td><td>(0.032)</td><td></td><td>(0.040)</td></tr>\n",
       "\n",
       "<td colspan=\"9\" style=\"border-bottom: 1px solid black\"></td></tr>\n",
       "<tr><td style=\"text-align: left\">Observations</td><td>4768</td><td>4768</td><td>4768</td><td>4768</td><td>4768</td><td>4768</td><td>4768</td><td>4768</td></tr><tr><td style=\"text-align: left\">R<sup>2</sup></td><td>0.105</td><td>0.294</td><td>0.295</td><td>0.297</td><td>0.297</td><td></td><td></td><td></td></tr><tr><td style=\"text-align: left\">Adjusted R<sup>2</sup></td><td>0.105</td><td>0.293</td><td>0.293</td><td>0.295</td><td>0.295</td><td></td><td></td><td></td></tr><tr><td style=\"text-align: left\">Residual Std. Error</td><td>2.236 (df=4766)</td><td>1.988 (df=4755)</td><td>1.987 (df=4754)</td><td>1.985 (df=4754)</td><td>1.985 (df=4753)</td><td>1.656 (df=4754)</td><td>1.655 (df=4754)</td><td>1.654 (df=4753)</td></tr><tr><td style=\"text-align: left\">F Statistic</td><td>560.663<sup>***</sup> (df=1; 4766)</td><td>165.276<sup>***</sup> (df=12; 4755)</td><td>153.140<sup>***</sup> (df=13; 4754)</td><td>154.404<sup>***</sup> (df=13; 4754)</td><td>143.385<sup>***</sup> (df=14; 4753)</td><td></td><td></td><td></td></tr>\n",
       "<tr><td colspan=\"9\" style=\"border-bottom: 1px solid black\"></td></tr><tr><td style=\"text-align: left\">Note:</td><td colspan=\"8\" style=\"text-align: right\"><sup>*</sup>p&lt;0.1; <sup>**</sup>p&lt;0.05; <sup>***</sup>p&lt;0.01</td></tr></table>"
      ],
      "text/plain": [
       "<stargazer.stargazer.Stargazer at 0x2764502c610>"
      ]
     },
     "execution_count": 16,
     "metadata": {},
     "output_type": "execute_result"
    }
   ],
   "source": [
    "from stargazer.stargazer import Stargazer, LineLocation\n",
    "\n",
    "stargazer = Stargazer([ ols_baseline,\n",
    "                       ols_covs, \n",
    "                       ols_comp,\n",
    "                       ols_coop,\n",
    "                       ols_full,\n",
    "                       hlm_comp,\n",
    "                       hlm_coop,\n",
    "                       hlm_full,])\n",
    "stargazer.covariate_order(X.columns)\n",
    "stargazer.custom_columns(['Trend only', \n",
    "                          'Covariates only', \n",
    "                          'Competitiveness & covs',\n",
    "                          'Cooperation & covs',\n",
    "                          'Full model',\n",
    "                          'Competitiveness & covs',\n",
    "                          'Cooperation & covs',\n",
    "                          'Full model'], [1,1,1,1,1,1,1,1])\n",
    "stargazer.add_line('Model type', ['OLS', 'OLS','OLS','OLS','OLS','HLM','HLM','HLM'], LineLocation.HEADER_BOTTOM)\n",
    "stargazer.show_model_numbers(True)\n",
    "stargazer"
   ]
  },
  {
   "cell_type": "markdown",
   "id": "666345a0-50b2-48ba-a554-5235c5f121b1",
   "metadata": {},
   "source": [
    "## Diagnostics"
   ]
  },
  {
   "cell_type": "code",
   "execution_count": 17,
   "id": "be95c3b9-d33d-4dba-ae02-71a0c221b47d",
   "metadata": {
    "tags": []
   },
   "outputs": [],
   "source": [
    "model=ols_full\n",
    "\n",
    "# Extract residuals and fitted values\n",
    "Zres = model.resid/model.resid.std()\n",
    "yhat = model.fittedvalues"
   ]
  },
  {
   "cell_type": "code",
   "execution_count": 18,
   "id": "69287682-ae77-47a1-82d8-b9156539089a",
   "metadata": {
    "tags": []
   },
   "outputs": [
    {
     "data": {
      "text/plain": [
       "<seaborn.axisgrid.FacetGrid at 0x27644e184d0>"
      ]
     },
     "execution_count": 18,
     "metadata": {},
     "output_type": "execute_result"
    },
    {
     "data": {
      "image/png": "[encoded data removed]",
      "text/plain": [
       "<Figure size 500x500 with 1 Axes>"
      ]
     },
     "metadata": {},
     "output_type": "display_data"
    }
   ],
   "source": [
    "sns.displot(Zres)"
   ]
  },
  {
   "cell_type": "code",
   "execution_count": 19,
   "id": "261808f4-fdc3-469b-bc92-ee3c35663218",
   "metadata": {
    "tags": []
   },
   "outputs": [
    {
     "data": {
      "image/png": "[encoded data removed]",
      "text/plain": [
       "<Figure size 640x480 with 1 Axes>"
      ]
     },
     "metadata": {},
     "output_type": "display_data"
    },
    {
     "data": {
      "image/png": "[encoded data removed]",
      "text/plain": [
       "<Figure size 640x480 with 1 Axes>"
      ]
     },
     "metadata": {},
     "output_type": "display_data"
    }
   ],
   "source": [
    "# Plot residuals\n",
    "plt.scatter(yhat, Zres)\n",
    "plt.axhline(y=Zres.mean(), c='red', linestyle='dashed')\n",
    "plt.axhline(y=-3, c='red', linestyle='dashed')\n",
    "plt.axhline(y=+3, c='red', linestyle='dashed')\n",
    "plt.xlabel(\"Fitted Values\")\n",
    "plt.ylabel(\"Residuals\")\n",
    "plt.title(\"Residual Plot\")\n",
    "plt.show()\n",
    "\n",
    "# QQ plot for residuals\n",
    "sm.qqplot(Zres, line='s')\n",
    "plt.show()\n"
   ]
  },
  {
   "cell_type": "code",
   "execution_count": 20,
   "id": "32544bd8-1a53-4c83-91b4-794af4d7cd1e",
   "metadata": {
    "tags": []
   },
   "outputs": [
    {
     "data": {
      "image/png": "[encoded data removed]",
      "text/plain": [
       "<Figure size 640x480 with 1 Axes>"
      ]
     },
     "metadata": {},
     "output_type": "display_data"
    }
   ],
   "source": [
    "sns.regplot(x=y, y=yhat);"
   ]
  },
  {
   "cell_type": "code",
   "execution_count": 21,
   "id": "a0f633c5-7396-4da9-ba7d-c1ed550b7e33",
   "metadata": {
    "tags": []
   },
   "outputs": [],
   "source": [
    "#Influente measures are defined only for OLS\n",
    "infl = model.get_influence().summary_frame()"
   ]
  },
  {
   "cell_type": "code",
   "execution_count": 22,
   "id": "df89b70f-4983-4002-821b-150845f94768",
   "metadata": {
    "tags": []
   },
   "outputs": [
    {
     "data": {
      "text/plain": [
       "0.004823825503355705"
      ]
     },
     "execution_count": 22,
     "metadata": {},
     "output_type": "execute_result"
    }
   ],
   "source": [
    "# residuals beyond 3 standard deviations\n",
    "(infl.standard_resid.abs() > 3).mean()"
   ]
  },
  {
   "cell_type": "code",
   "execution_count": 23,
   "id": "787d26a9-b0bf-4d07-a79a-4d47afd9e538",
   "metadata": {
    "tags": []
   },
   "outputs": [
    {
     "data": {
      "text/plain": [
       "0.0329020608522126"
      ]
     },
     "execution_count": 23,
     "metadata": {},
     "output_type": "execute_result"
    }
   ],
   "source": [
    "#Cook's D\n",
    "infl.cooks_d.max()"
   ]
  },
  {
   "cell_type": "code",
   "execution_count": 24,
   "id": "20bc1742-a86f-4df0-b57f-19d792389380",
   "metadata": {
    "tags": []
   },
   "outputs": [
    {
     "data": {
      "text/plain": [
       "1"
      ]
     },
     "execution_count": 24,
     "metadata": {},
     "output_type": "execute_result"
    }
   ],
   "source": [
    "(infl.cooks_d > np.sqrt(4/len(data))).sum()"
   ]
  },
  {
   "cell_type": "code",
   "execution_count": 25,
   "id": "e8509896-7404-4d3d-a8dd-2bb1f715ae90",
   "metadata": {
    "tags": []
   },
   "outputs": [
    {
     "data": {
      "text/plain": [
       "0.0239336006239583"
      ]
     },
     "execution_count": 25,
     "metadata": {},
     "output_type": "execute_result"
    }
   ],
   "source": [
    "#Leverage\n",
    "infl.hat_diag.max()"
   ]
  },
  {
   "cell_type": "code",
   "execution_count": 26,
   "id": "db61a39d-5400-463f-8c4d-7a65768028f8",
   "metadata": {
    "tags": []
   },
   "outputs": [
    {
     "data": {
      "text/plain": [
       "(-0.7039356900103049, 0.239662214320248)"
      ]
     },
     "execution_count": 26,
     "metadata": {},
     "output_type": "execute_result"
    }
   ],
   "source": [
    "#DFFits\n",
    "infl.dffits.min(), infl.dffits.max()"
   ]
  },
  {
   "cell_type": "code",
   "execution_count": 27,
   "id": "03f562b4-e63c-41d2-a0c9-0a519a5eb444",
   "metadata": {
    "tags": []
   },
   "outputs": [
    {
     "name": "stdout",
     "output_type": "stream",
     "text": [
      "dfb_const, -0.14, 0.13\n",
      "dfb_Year, -0.13, 0.17\n",
      "dfb_logRunTime, -0.68, 0.07\n",
      "dfb_averageRating, -0.15, 0.17\n",
      "dfb_isRated, -0.09, 0.08\n",
      "dfb_ForeignLanguage, -0.11, 0.08\n",
      "dfb_isCoproduction, -0.10, 0.10\n",
      "dfb_nominated_award, -0.12, 0.19\n",
      "dfb_win_award, -0.11, 0.12\n",
      "dfb_won_Oscar, -0.29, 0.22\n",
      "dfb_plot_sentiment_score, -0.16, 0.14\n",
      "dfb_isPositivePlot, -0.08, 0.09\n",
      "dfb_isFiction, -0.16, 0.17\n",
      "dfb_Cooperativeness, -0.15, 0.12\n",
      "dfb_Competitiveness, -0.10, 0.12\n"
     ]
    }
   ],
   "source": [
    "#DFBetas\n",
    "for c in infl.loc[:,infl.columns.str.startswith('dfb_')]:\n",
    "    print(f'{c}, {infl[c].min():.2f}, {infl[c].max():.2f}')\n",
    "    "
   ]
  },
  {
   "cell_type": "code",
   "execution_count": 28,
   "id": "0eedea77-c319-41e1-a9ac-2930873c3365",
   "metadata": {
    "tags": []
   },
   "outputs": [
    {
     "data": {
      "text/html": [
       "<div>\n",
       "<style scoped>\n",
       "    .dataframe tbody tr th:only-of-type {\n",
       "        vertical-align: middle;\n",
       "    }\n",
       "\n",
       "    .dataframe tbody tr th {\n",
       "        vertical-align: top;\n",
       "    }\n",
       "\n",
       "    .dataframe thead th {\n",
       "        text-align: right;\n",
       "    }\n",
       "</style>\n",
       "<table border=\"1\" class=\"dataframe\">\n",
       "  <thead>\n",
       "    <tr style=\"text-align: right;\">\n",
       "      <th></th>\n",
       "      <th>Title</th>\n",
       "      <th>Year</th>\n",
       "      <th>Country</th>\n",
       "      <th>BoxOffice</th>\n",
       "      <th>runtimeMinutes</th>\n",
       "      <th>genres</th>\n",
       "      <th>averageRating</th>\n",
       "      <th>numVotes</th>\n",
       "      <th>isRated</th>\n",
       "      <th>ForeignLanguage</th>\n",
       "      <th>...</th>\n",
       "      <th>won_Oscar</th>\n",
       "      <th>plot_sentiment_polarity</th>\n",
       "      <th>plot_sentiment_score</th>\n",
       "      <th>isPositivePlot</th>\n",
       "      <th>isFiction</th>\n",
       "      <th>Competitiveness</th>\n",
       "      <th>Cooperativeness</th>\n",
       "      <th>logBoxOffice</th>\n",
       "      <th>logRunTime</th>\n",
       "      <th>logNumVotes</th>\n",
       "    </tr>\n",
       "  </thead>\n",
       "  <tbody>\n",
       "    <tr>\n",
       "      <th>398</th>\n",
       "      <td>Confession of a Child of the Century</td>\n",
       "      <td>2012</td>\n",
       "      <td>[France,  Germany,  United Kingdom]</td>\n",
       "      <td>94.325069</td>\n",
       "      <td>120.0</td>\n",
       "      <td>Drama,Romance</td>\n",
       "      <td>4.3</td>\n",
       "      <td>646</td>\n",
       "      <td>True</td>\n",
       "      <td>True</td>\n",
       "      <td>...</td>\n",
       "      <td>False</td>\n",
       "      <td>positive</td>\n",
       "      <td>0.997837</td>\n",
       "      <td>1.0</td>\n",
       "      <td>True</td>\n",
       "      <td>11.977705</td>\n",
       "      <td>11.617964</td>\n",
       "      <td>4.546747</td>\n",
       "      <td>4.787492</td>\n",
       "      <td>6.470800</td>\n",
       "    </tr>\n",
       "    <tr>\n",
       "      <th>1419</th>\n",
       "      <td>Dog Eat Dog</td>\n",
       "      <td>2008</td>\n",
       "      <td>[Colombia]</td>\n",
       "      <td>108.741634</td>\n",
       "      <td>106.0</td>\n",
       "      <td>Thriller</td>\n",
       "      <td>6.6</td>\n",
       "      <td>1818</td>\n",
       "      <td>True</td>\n",
       "      <td>False</td>\n",
       "      <td>...</td>\n",
       "      <td>False</td>\n",
       "      <td>positive</td>\n",
       "      <td>0.990078</td>\n",
       "      <td>1.0</td>\n",
       "      <td>True</td>\n",
       "      <td>9.573698</td>\n",
       "      <td>10.539953</td>\n",
       "      <td>4.688975</td>\n",
       "      <td>4.663439</td>\n",
       "      <td>7.505492</td>\n",
       "    </tr>\n",
       "    <tr>\n",
       "      <th>1638</th>\n",
       "      <td>La Flor</td>\n",
       "      <td>2018</td>\n",
       "      <td>[Argentina]</td>\n",
       "      <td>4699.132083</td>\n",
       "      <td>808.0</td>\n",
       "      <td>Drama,Fantasy,Musical</td>\n",
       "      <td>7.4</td>\n",
       "      <td>784</td>\n",
       "      <td>False</td>\n",
       "      <td>False</td>\n",
       "      <td>...</td>\n",
       "      <td>False</td>\n",
       "      <td>positive</td>\n",
       "      <td>0.998418</td>\n",
       "      <td>1.0</td>\n",
       "      <td>True</td>\n",
       "      <td>9.193276</td>\n",
       "      <td>10.530679</td>\n",
       "      <td>8.455133</td>\n",
       "      <td>6.694562</td>\n",
       "      <td>6.664409</td>\n",
       "    </tr>\n",
       "  </tbody>\n",
       "</table>\n",
       "<p>3 rows × 23 columns</p>\n",
       "</div>"
      ],
      "text/plain": [
       "                                     Title  Year  \\\n",
       "398   Confession of a Child of the Century  2012   \n",
       "1419                           Dog Eat Dog  2008   \n",
       "1638                               La Flor  2018   \n",
       "\n",
       "                                  Country    BoxOffice  runtimeMinutes  \\\n",
       "398   [France,  Germany,  United Kingdom]    94.325069           120.0   \n",
       "1419                           [Colombia]   108.741634           106.0   \n",
       "1638                          [Argentina]  4699.132083           808.0   \n",
       "\n",
       "                     genres  averageRating  numVotes  isRated  \\\n",
       "398           Drama,Romance            4.3       646     True   \n",
       "1419               Thriller            6.6      1818     True   \n",
       "1638  Drama,Fantasy,Musical            7.4       784    False   \n",
       "\n",
       "      ForeignLanguage  ...  won_Oscar  plot_sentiment_polarity  \\\n",
       "398              True  ...      False                 positive   \n",
       "1419            False  ...      False                 positive   \n",
       "1638            False  ...      False                 positive   \n",
       "\n",
       "      plot_sentiment_score  isPositivePlot isFiction  Competitiveness  \\\n",
       "398               0.997837             1.0      True        11.977705   \n",
       "1419              0.990078             1.0      True         9.573698   \n",
       "1638              0.998418             1.0      True         9.193276   \n",
       "\n",
       "      Cooperativeness  logBoxOffice  logRunTime  logNumVotes  \n",
       "398         11.617964      4.546747    4.787492     6.470800  \n",
       "1419        10.539953      4.688975    4.663439     7.505492  \n",
       "1638        10.530679      8.455133    6.694562     6.664409  \n",
       "\n",
       "[3 rows x 23 columns]"
      ]
     },
     "execution_count": 28,
     "metadata": {},
     "output_type": "execute_result"
    }
   ],
   "source": [
    "data.loc[infl[infl.standard_resid.abs()>4].index,:]"
   ]
  },
  {
   "cell_type": "code",
   "execution_count": 29,
   "id": "bb07ebe9-9b76-4c23-813a-c50b80fdca84",
   "metadata": {
    "tags": []
   },
   "outputs": [
    {
     "data": {
      "text/plain": [
       "count    4.768000e+03\n",
       "mean     2.621985e+06\n",
       "std      1.280807e+07\n",
       "min      5.609115e+01\n",
       "25%      3.879208e+04\n",
       "50%      1.991977e+05\n",
       "75%      1.066160e+06\n",
       "max      4.667280e+08\n",
       "Name: BoxOffice, dtype: float64"
      ]
     },
     "execution_count": 29,
     "metadata": {},
     "output_type": "execute_result"
    }
   ],
   "source": [
    "data.BoxOffice.describe()"
   ]
  },
  {
   "cell_type": "code",
   "execution_count": 30,
   "id": "615f1fec-2ca0-44d8-bf7a-3bd48b20c215",
   "metadata": {
    "tags": []
   },
   "outputs": [],
   "source": [
    "from numpy import corrcoef"
   ]
  },
  {
   "cell_type": "code",
   "execution_count": 31,
   "id": "5e8535e8-dea4-4a14-8453-37c7a2ad50dc",
   "metadata": {
    "tags": []
   },
   "outputs": [
    {
     "data": {
      "text/plain": [
       "array([[1.        , 0.73223444],\n",
       "       [0.73223444, 1.        ]])"
      ]
     },
     "execution_count": 31,
     "metadata": {},
     "output_type": "execute_result"
    }
   ],
   "source": [
    "corrcoef(data.Competitiveness, data.Cooperativeness)"
   ]
  },
  {
   "cell_type": "code",
   "execution_count": 32,
   "id": "2f7ebd28-8326-4e07-9b49-a4781f258668",
   "metadata": {
    "tags": []
   },
   "outputs": [
    {
     "data": {
      "text/plain": [
       "<Axes: >"
      ]
     },
     "execution_count": 32,
     "metadata": {},
     "output_type": "execute_result"
    },
    {
     "data": {
      "image/png": "[encoded data removed]",
      "text/plain": [
       "<Figure size 640x480 with 2 Axes>"
      ]
     },
     "metadata": {},
     "output_type": "display_data"
    }
   ],
   "source": [
    "sns.heatmap(X.drop(columns=['const']).corr().abs(), cmap='Blues')"
   ]
  },
  {
   "cell_type": "code",
   "execution_count": 33,
   "id": "78339918-159f-4202-b90e-a36dc635b039",
   "metadata": {
    "tags": []
   },
   "outputs": [],
   "source": [
    "from statsmodels.stats.outliers_influence import variance_inflation_factor"
   ]
  },
  {
   "cell_type": "code",
   "execution_count": 34,
   "id": "8b74c4b3-abe1-4b3b-b3d3-0cfbb43fc9f0",
   "metadata": {
    "tags": []
   },
   "outputs": [
    {
     "data": {
      "text/html": [
       "<div>\n",
       "<style scoped>\n",
       "    .dataframe tbody tr th:only-of-type {\n",
       "        vertical-align: middle;\n",
       "    }\n",
       "\n",
       "    .dataframe tbody tr th {\n",
       "        vertical-align: top;\n",
       "    }\n",
       "\n",
       "    .dataframe thead th {\n",
       "        text-align: right;\n",
       "    }\n",
       "</style>\n",
       "<table border=\"1\" class=\"dataframe\">\n",
       "  <thead>\n",
       "    <tr style=\"text-align: right;\">\n",
       "      <th></th>\n",
       "      <th>VIF</th>\n",
       "      <th>variable</th>\n",
       "    </tr>\n",
       "  </thead>\n",
       "  <tbody>\n",
       "    <tr>\n",
       "      <th>0</th>\n",
       "      <td>113590.718008</td>\n",
       "      <td>const</td>\n",
       "    </tr>\n",
       "    <tr>\n",
       "      <th>14</th>\n",
       "      <td>5.396933</td>\n",
       "      <td>Competitiveness</td>\n",
       "    </tr>\n",
       "    <tr>\n",
       "      <th>13</th>\n",
       "      <td>4.288563</td>\n",
       "      <td>Cooperativeness</td>\n",
       "    </tr>\n",
       "    <tr>\n",
       "      <th>1</th>\n",
       "      <td>3.105746</td>\n",
       "      <td>Year</td>\n",
       "    </tr>\n",
       "    <tr>\n",
       "      <th>6</th>\n",
       "      <td>2.081974</td>\n",
       "      <td>isCoproduction</td>\n",
       "    </tr>\n",
       "    <tr>\n",
       "      <th>8</th>\n",
       "      <td>1.408279</td>\n",
       "      <td>win_award</td>\n",
       "    </tr>\n",
       "    <tr>\n",
       "      <th>7</th>\n",
       "      <td>1.321590</td>\n",
       "      <td>nominated_award</td>\n",
       "    </tr>\n",
       "    <tr>\n",
       "      <th>3</th>\n",
       "      <td>1.289660</td>\n",
       "      <td>averageRating</td>\n",
       "    </tr>\n",
       "    <tr>\n",
       "      <th>5</th>\n",
       "      <td>1.213738</td>\n",
       "      <td>ForeignLanguage</td>\n",
       "    </tr>\n",
       "    <tr>\n",
       "      <th>4</th>\n",
       "      <td>1.209692</td>\n",
       "      <td>isRated</td>\n",
       "    </tr>\n",
       "    <tr>\n",
       "      <th>11</th>\n",
       "      <td>1.127755</td>\n",
       "      <td>isPositivePlot</td>\n",
       "    </tr>\n",
       "    <tr>\n",
       "      <th>2</th>\n",
       "      <td>1.112212</td>\n",
       "      <td>logRunTime</td>\n",
       "    </tr>\n",
       "    <tr>\n",
       "      <th>10</th>\n",
       "      <td>1.107360</td>\n",
       "      <td>plot_sentiment_score</td>\n",
       "    </tr>\n",
       "    <tr>\n",
       "      <th>12</th>\n",
       "      <td>1.101186</td>\n",
       "      <td>isFiction</td>\n",
       "    </tr>\n",
       "    <tr>\n",
       "      <th>9</th>\n",
       "      <td>1.041278</td>\n",
       "      <td>won_Oscar</td>\n",
       "    </tr>\n",
       "  </tbody>\n",
       "</table>\n",
       "</div>"
      ],
      "text/plain": [
       "              VIF              variable\n",
       "0   113590.718008                 const\n",
       "14       5.396933       Competitiveness\n",
       "13       4.288563       Cooperativeness\n",
       "1        3.105746                  Year\n",
       "6        2.081974        isCoproduction\n",
       "8        1.408279             win_award\n",
       "7        1.321590       nominated_award\n",
       "3        1.289660         averageRating\n",
       "5        1.213738       ForeignLanguage\n",
       "4        1.209692               isRated\n",
       "11       1.127755        isPositivePlot\n",
       "2        1.112212            logRunTime\n",
       "10       1.107360  plot_sentiment_score\n",
       "12       1.101186             isFiction\n",
       "9        1.041278             won_Oscar"
      ]
     },
     "execution_count": 34,
     "metadata": {},
     "output_type": "execute_result"
    }
   ],
   "source": [
    "vif = pd.DataFrame()\n",
    "vif['VIF'] = [variance_inflation_factor(X.values, i) for i in range(X.shape[1])]\n",
    "vif['variable'] = X.columns\n",
    "vif.sort_values('VIF', ascending=False)"
   ]
  },
  {
   "cell_type": "code",
   "execution_count": null,
   "id": "0ed4012c-3fd5-4ddf-b4b3-e87954aad9bd",
   "metadata": {},
   "outputs": [],
   "source": []
  }
 ],
 "metadata": {
  "kernelspec": {
   "display_name": "Python 3 (ipykernel)",
   "language": "python",
   "name": "python3"
  },
  "language_info": {
   "codemirror_mode": {
    "name": "ipython",
    "version": 3
   },
   "file_extension": ".py",
   "mimetype": "text/x-python",
   "name": "python",
   "nbconvert_exporter": "python",
   "pygments_lexer": "ipython3",
   "version": "3.11.4"
  }
 },
 "nbformat": 4,
 "nbformat_minor": 5
}
