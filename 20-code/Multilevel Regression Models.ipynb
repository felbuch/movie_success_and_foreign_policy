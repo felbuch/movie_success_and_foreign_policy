{
 "cells": [
  {
   "cell_type": "markdown",
   "id": "3cf23929",
   "metadata": {},
   "source": [
    "# Regression models"
   ]
  },
  {
   "cell_type": "code",
   "execution_count": 100,
   "id": "89ec5d89-5e57-4b98-b3c9-deb00978ead4",
   "metadata": {
    "tags": []
   },
   "outputs": [],
   "source": [
    "import pandas as pd\n",
    "import statsmodels.api as sm\n",
    "from stargazer.stargazer import Stargazer\n",
    "import matplotlib.pyplot as plt"
   ]
  },
  {
   "cell_type": "code",
   "execution_count": 71,
   "id": "18797627-0ac3-44d3-8ddf-c170756a8cd3",
   "metadata": {
    "tags": []
   },
   "outputs": [
    {
     "name": "stdout",
     "output_type": "stream",
     "text": [
      "(4768, 23)\n"
     ]
    },
    {
     "data": {
      "text/html": [
       "<div>\n",
       "<style scoped>\n",
       "    .dataframe tbody tr th:only-of-type {\n",
       "        vertical-align: middle;\n",
       "    }\n",
       "\n",
       "    .dataframe tbody tr th {\n",
       "        vertical-align: top;\n",
       "    }\n",
       "\n",
       "    .dataframe thead th {\n",
       "        text-align: right;\n",
       "    }\n",
       "</style>\n",
       "<table border=\"1\" class=\"dataframe\">\n",
       "  <thead>\n",
       "    <tr style=\"text-align: right;\">\n",
       "      <th></th>\n",
       "      <th>Title</th>\n",
       "      <th>Year</th>\n",
       "      <th>Country</th>\n",
       "      <th>BoxOffice</th>\n",
       "      <th>runtimeMinutes</th>\n",
       "      <th>genres</th>\n",
       "      <th>averageRating</th>\n",
       "      <th>numVotes</th>\n",
       "      <th>isRated</th>\n",
       "      <th>ForeignLanguage</th>\n",
       "      <th>...</th>\n",
       "      <th>won_Oscar</th>\n",
       "      <th>plot_sentiment_polarity</th>\n",
       "      <th>plot_sentiment_score</th>\n",
       "      <th>isPositivePlot</th>\n",
       "      <th>isFiction</th>\n",
       "      <th>Competitiveness</th>\n",
       "      <th>Cooperativeness</th>\n",
       "      <th>logBoxOffice</th>\n",
       "      <th>logRunTime</th>\n",
       "      <th>logNumVotes</th>\n",
       "    </tr>\n",
       "  </thead>\n",
       "  <tbody>\n",
       "    <tr>\n",
       "      <th>tt0117365</th>\n",
       "      <td>Shadow Play</td>\n",
       "      <td>1996</td>\n",
       "      <td>[France,  United Kingdom]</td>\n",
       "      <td>16367.0</td>\n",
       "      <td>111.0</td>\n",
       "      <td>Comedy,Romance</td>\n",
       "      <td>5.8</td>\n",
       "      <td>495</td>\n",
       "      <td>False</td>\n",
       "      <td>False</td>\n",
       "      <td>...</td>\n",
       "      <td>False</td>\n",
       "      <td>positive</td>\n",
       "      <td>0.996212</td>\n",
       "      <td>1.0</td>\n",
       "      <td>True</td>\n",
       "      <td>8.563351</td>\n",
       "      <td>9.607148</td>\n",
       "      <td>9.703022</td>\n",
       "      <td>4.709530</td>\n",
       "      <td>6.204558</td>\n",
       "    </tr>\n",
       "    <tr>\n",
       "      <th>tt4428762</th>\n",
       "      <td>Down by Love</td>\n",
       "      <td>2016</td>\n",
       "      <td>[France,  Belgium]</td>\n",
       "      <td>675.0</td>\n",
       "      <td>110.0</td>\n",
       "      <td>Biography,Drama,Romance</td>\n",
       "      <td>5.9</td>\n",
       "      <td>2296</td>\n",
       "      <td>True</td>\n",
       "      <td>False</td>\n",
       "      <td>...</td>\n",
       "      <td>False</td>\n",
       "      <td>positive</td>\n",
       "      <td>0.998860</td>\n",
       "      <td>1.0</td>\n",
       "      <td>True</td>\n",
       "      <td>11.997840</td>\n",
       "      <td>10.791093</td>\n",
       "      <td>6.514713</td>\n",
       "      <td>4.700480</td>\n",
       "      <td>7.738924</td>\n",
       "    </tr>\n",
       "    <tr>\n",
       "      <th>tt0087399</th>\n",
       "      <td>Heavenly Bodies</td>\n",
       "      <td>1984</td>\n",
       "      <td>[Canada]</td>\n",
       "      <td>1839623.0</td>\n",
       "      <td>89.0</td>\n",
       "      <td>Drama,Romance</td>\n",
       "      <td>5.2</td>\n",
       "      <td>882</td>\n",
       "      <td>True</td>\n",
       "      <td>True</td>\n",
       "      <td>...</td>\n",
       "      <td>False</td>\n",
       "      <td>negative</td>\n",
       "      <td>0.993147</td>\n",
       "      <td>0.0</td>\n",
       "      <td>True</td>\n",
       "      <td>7.111757</td>\n",
       "      <td>8.025091</td>\n",
       "      <td>14.425071</td>\n",
       "      <td>4.488636</td>\n",
       "      <td>6.782192</td>\n",
       "    </tr>\n",
       "    <tr>\n",
       "      <th>tt0095303</th>\n",
       "      <td>High Season</td>\n",
       "      <td>1987</td>\n",
       "      <td>[United Kingdom]</td>\n",
       "      <td>1125000.0</td>\n",
       "      <td>90.0</td>\n",
       "      <td>Comedy,Romance</td>\n",
       "      <td>5.3</td>\n",
       "      <td>459</td>\n",
       "      <td>True</td>\n",
       "      <td>False</td>\n",
       "      <td>...</td>\n",
       "      <td>False</td>\n",
       "      <td>positive</td>\n",
       "      <td>0.989917</td>\n",
       "      <td>1.0</td>\n",
       "      <td>True</td>\n",
       "      <td>7.748589</td>\n",
       "      <td>8.581463</td>\n",
       "      <td>13.933294</td>\n",
       "      <td>4.499810</td>\n",
       "      <td>6.129050</td>\n",
       "    </tr>\n",
       "    <tr>\n",
       "      <th>tt2379318</th>\n",
       "      <td>Bright Days Ahead</td>\n",
       "      <td>2013</td>\n",
       "      <td>[France]</td>\n",
       "      <td>21770.0</td>\n",
       "      <td>94.0</td>\n",
       "      <td>Drama,Romance</td>\n",
       "      <td>6.3</td>\n",
       "      <td>1843</td>\n",
       "      <td>False</td>\n",
       "      <td>False</td>\n",
       "      <td>...</td>\n",
       "      <td>False</td>\n",
       "      <td>positive</td>\n",
       "      <td>0.995390</td>\n",
       "      <td>1.0</td>\n",
       "      <td>True</td>\n",
       "      <td>11.164641</td>\n",
       "      <td>12.082496</td>\n",
       "      <td>9.988288</td>\n",
       "      <td>4.543295</td>\n",
       "      <td>7.519150</td>\n",
       "    </tr>\n",
       "  </tbody>\n",
       "</table>\n",
       "<p>5 rows × 23 columns</p>\n",
       "</div>"
      ],
      "text/plain": [
       "                       Title  Year                    Country  BoxOffice  \\\n",
       "tt0117365        Shadow Play  1996  [France,  United Kingdom]    16367.0   \n",
       "tt4428762       Down by Love  2016         [France,  Belgium]      675.0   \n",
       "tt0087399    Heavenly Bodies  1984                   [Canada]  1839623.0   \n",
       "tt0095303        High Season  1987           [United Kingdom]  1125000.0   \n",
       "tt2379318  Bright Days Ahead  2013                   [France]    21770.0   \n",
       "\n",
       "           runtimeMinutes                   genres  averageRating  numVotes  \\\n",
       "tt0117365           111.0           Comedy,Romance            5.8       495   \n",
       "tt4428762           110.0  Biography,Drama,Romance            5.9      2296   \n",
       "tt0087399            89.0            Drama,Romance            5.2       882   \n",
       "tt0095303            90.0           Comedy,Romance            5.3       459   \n",
       "tt2379318            94.0            Drama,Romance            6.3      1843   \n",
       "\n",
       "           isRated  ForeignLanguage  ...  won_Oscar  plot_sentiment_polarity  \\\n",
       "tt0117365    False            False  ...      False                 positive   \n",
       "tt4428762     True            False  ...      False                 positive   \n",
       "tt0087399     True             True  ...      False                 negative   \n",
       "tt0095303     True            False  ...      False                 positive   \n",
       "tt2379318    False            False  ...      False                 positive   \n",
       "\n",
       "           plot_sentiment_score  isPositivePlot isFiction  Competitiveness  \\\n",
       "tt0117365              0.996212             1.0      True         8.563351   \n",
       "tt4428762              0.998860             1.0      True        11.997840   \n",
       "tt0087399              0.993147             0.0      True         7.111757   \n",
       "tt0095303              0.989917             1.0      True         7.748589   \n",
       "tt2379318              0.995390             1.0      True        11.164641   \n",
       "\n",
       "           Cooperativeness  logBoxOffice  logRunTime  logNumVotes  \n",
       "tt0117365         9.607148      9.703022    4.709530     6.204558  \n",
       "tt4428762        10.791093      6.514713    4.700480     7.738924  \n",
       "tt0087399         8.025091     14.425071    4.488636     6.782192  \n",
       "tt0095303         8.581463     13.933294    4.499810     6.129050  \n",
       "tt2379318        12.082496      9.988288    4.543295     7.519150  \n",
       "\n",
       "[5 rows x 23 columns]"
      ]
     },
     "execution_count": 71,
     "metadata": {},
     "output_type": "execute_result"
    }
   ],
   "source": [
    "data = pd.read_parquet('../10-data/data_final.parquet')\n",
    "print(data.shape)\n",
    "data.head()"
   ]
  },
  {
   "cell_type": "markdown",
   "id": "917a9dbf-052a-4340-bde6-488fa368a8ae",
   "metadata": {},
   "source": [
    "## Baseline model (just linear trend)"
   ]
  },
  {
   "cell_type": "code",
   "execution_count": 72,
   "id": "bd4d3368-54e9-45f7-b1b4-b0b88418dbc8",
   "metadata": {
    "tags": []
   },
   "outputs": [
    {
     "data": {
      "text/plain": [
       "<Axes: xlabel='Year'>"
      ]
     },
     "execution_count": 72,
     "metadata": {},
     "output_type": "execute_result"
    },
    {
     "data": {
      "image/png": "[encoded data removed]",
      "text/plain": [
       "<Figure size 640x480 with 1 Axes>"
      ]
     },
     "metadata": {},
     "output_type": "display_data"
    }
   ],
   "source": [
    "#Why is it reasonable?\n",
    "data[['Year','logBoxOffice']].groupby('Year').mean().plot()"
   ]
  },
  {
   "cell_type": "code",
   "execution_count": 73,
   "id": "cab2d76b-94ca-45e2-a39f-037ffc041448",
   "metadata": {
    "tags": []
   },
   "outputs": [
    {
     "name": "stdout",
     "output_type": "stream",
     "text": [
      "                            OLS Regression Results                            \n",
      "==============================================================================\n",
      "Dep. Variable:           logBoxOffice   R-squared:                       0.050\n",
      "Model:                            OLS   Adj. R-squared:                  0.050\n",
      "Method:                 Least Squares   F-statistic:                     252.2\n",
      "Date:                Thu, 28 Dec 2023   Prob (F-statistic):           2.18e-55\n",
      "Time:                        23:04:42   Log-Likelihood:                -10594.\n",
      "No. Observations:                4768   AIC:                         2.119e+04\n",
      "Df Residuals:                    4766   BIC:                         2.121e+04\n",
      "Df Model:                           1                                         \n",
      "Covariance Type:            nonrobust                                         \n",
      "==============================================================================\n",
      "                 coef    std err          t      P>|t|      [0.025      0.975]\n",
      "------------------------------------------------------------------------------\n",
      "const        112.2487      6.322     17.756      0.000      99.855     124.642\n",
      "Year          -0.0500      0.003    -15.882      0.000      -0.056      -0.044\n",
      "==============================================================================\n",
      "Omnibus:                        9.484   Durbin-Watson:                   1.996\n",
      "Prob(Omnibus):                  0.009   Jarque-Bera (JB):                8.888\n",
      "Skew:                          -0.073   Prob(JB):                       0.0117\n",
      "Kurtosis:                       2.847   Cond. No.                     3.92e+05\n",
      "==============================================================================\n",
      "\n",
      "Notes:\n",
      "[1] Standard Errors assume that the covariance matrix of the errors is correctly specified.\n",
      "[2] The condition number is large, 3.92e+05. This might indicate that there are\n",
      "strong multicollinearity or other numerical problems.\n"
     ]
    }
   ],
   "source": [
    "X = data[['Year']]\n",
    "X = sm.add_constant(X)\n",
    "y = data['logBoxOffice']\n",
    "\n",
    "ols_0 = sm.OLS(y, X).fit()\n",
    "print(ols_0.summary())"
   ]
  },
  {
   "cell_type": "markdown",
   "id": "44a2597f-a3e0-4751-9717-3208bf3a7fe5",
   "metadata": {},
   "source": [
    "## Covariates model"
   ]
  },
  {
   "cell_type": "code",
   "execution_count": 74,
   "id": "8b295579-e321-4333-bfc3-1b409702a67c",
   "metadata": {
    "tags": []
   },
   "outputs": [
    {
     "name": "stdout",
     "output_type": "stream",
     "text": [
      "                            OLS Regression Results                            \n",
      "==============================================================================\n",
      "Dep. Variable:           logBoxOffice   R-squared:                       0.242\n",
      "Model:                            OLS   Adj. R-squared:                  0.240\n",
      "Method:                 Least Squares   F-statistic:                     138.1\n",
      "Date:                Thu, 28 Dec 2023   Prob (F-statistic):          3.12e-276\n",
      "Time:                        23:04:42   Log-Likelihood:                -10057.\n",
      "No. Observations:                4768   AIC:                         2.014e+04\n",
      "Df Residuals:                    4756   BIC:                         2.021e+04\n",
      "Df Model:                          11                                         \n",
      "Covariance Type:            nonrobust                                         \n",
      "========================================================================================\n",
      "                           coef    std err          t      P>|t|      [0.025      0.975]\n",
      "----------------------------------------------------------------------------------------\n",
      "const                   60.9562      6.068     10.046      0.000      49.061      72.852\n",
      "Year                    -0.0322      0.003    -10.752      0.000      -0.038      -0.026\n",
      "logRunTime               2.9558      0.155     19.100      0.000       2.652       3.259\n",
      "isRated                  1.3704      0.063     21.669      0.000       1.246       1.494\n",
      "ForeignLanguage         -0.1049      0.076     -1.386      0.166      -0.253       0.044\n",
      "isCoproduction          -0.1654      0.060     -2.735      0.006      -0.284      -0.047\n",
      "win_award                0.2651      0.075      3.519      0.000       0.117       0.413\n",
      "nominated_award          0.5943      0.090      6.578      0.000       0.417       0.771\n",
      "won_Oscar                2.6549      0.251     10.572      0.000       2.163       3.147\n",
      "plot_sentiment_score     0.2628      0.287      0.917      0.359      -0.299       0.825\n",
      "isPositivePlot          -0.0641      0.071     -0.904      0.366      -0.203       0.075\n",
      "isFiction                0.3220      0.153      2.100      0.036       0.021       0.623\n",
      "==============================================================================\n",
      "Omnibus:                      106.956   Durbin-Watson:                   1.992\n",
      "Prob(Omnibus):                  0.000   Jarque-Bera (JB):              120.397\n",
      "Skew:                          -0.332   Prob(JB):                     7.18e-27\n",
      "Kurtosis:                       3.407   Cond. No.                     4.21e+05\n",
      "==============================================================================\n",
      "\n",
      "Notes:\n",
      "[1] Standard Errors assume that the covariance matrix of the errors is correctly specified.\n",
      "[2] The condition number is large, 4.21e+05. This might indicate that there are\n",
      "strong multicollinearity or other numerical problems.\n"
     ]
    }
   ],
   "source": [
    "X = data[['Year',\n",
    "          'logRunTime',\n",
    "          'isRated',\n",
    "          'ForeignLanguage',\n",
    "          'isCoproduction',\n",
    "          'win_award',\n",
    "          'nominated_award',\n",
    "          'won_Oscar',\n",
    "          'plot_sentiment_score',\n",
    "          'isPositivePlot',\n",
    "          'isFiction']].astype('float')\n",
    "X = sm.add_constant(X)\n",
    "y = data['logBoxOffice']\n",
    "\n",
    "ols_1 = sm.OLS(y, X).fit()\n",
    "print(ols_1.summary())"
   ]
  },
  {
   "cell_type": "markdown",
   "id": "fcedf00f-ddb6-45d0-9809-687742cd3e76",
   "metadata": {},
   "source": [
    "## Full OLS model"
   ]
  },
  {
   "cell_type": "code",
   "execution_count": 75,
   "id": "175a3955-cec7-4ff3-9cb3-6b448fac212b",
   "metadata": {
    "tags": []
   },
   "outputs": [
    {
     "name": "stdout",
     "output_type": "stream",
     "text": [
      "                            OLS Regression Results                            \n",
      "==============================================================================\n",
      "Dep. Variable:           logBoxOffice   R-squared:                       0.245\n",
      "Model:                            OLS   Adj. R-squared:                  0.243\n",
      "Method:                 Least Squares   F-statistic:                     118.8\n",
      "Date:                Thu, 28 Dec 2023   Prob (F-statistic):          2.24e-278\n",
      "Time:                        23:04:43   Log-Likelihood:                -10047.\n",
      "No. Observations:                4768   AIC:                         2.012e+04\n",
      "Df Residuals:                    4754   BIC:                         2.021e+04\n",
      "Df Model:                          13                                         \n",
      "Covariance Type:            nonrobust                                         \n",
      "========================================================================================\n",
      "                           coef    std err          t      P>|t|      [0.025      0.975]\n",
      "----------------------------------------------------------------------------------------\n",
      "const                   79.7573      9.664      8.253      0.000      60.812      98.703\n",
      "Year                    -0.0421      0.005     -8.541      0.000      -0.052      -0.032\n",
      "logRunTime               2.9848      0.155     19.228      0.000       2.681       3.289\n",
      "isRated                  1.3479      0.064     21.222      0.000       1.223       1.472\n",
      "ForeignLanguage         -0.1466      0.077     -1.911      0.056      -0.297       0.004\n",
      "isCoproduction           0.0292      0.085      0.342      0.732      -0.138       0.196\n",
      "win_award                0.2750      0.075      3.654      0.000       0.127       0.423\n",
      "nominated_award          0.5955      0.090      6.604      0.000       0.419       0.772\n",
      "won_Oscar                2.6358      0.251     10.513      0.000       2.144       3.127\n",
      "plot_sentiment_score     0.2550      0.286      0.891      0.373      -0.306       0.816\n",
      "isPositivePlot          -0.0755      0.071     -1.066      0.286      -0.214       0.063\n",
      "isFiction                0.3465      0.153      2.263      0.024       0.046       0.647\n",
      "Cooperativeness          0.1214      0.031      3.900      0.000       0.060       0.182\n",
      "Competitiveness         -0.0390      0.036     -1.069      0.285      -0.110       0.033\n",
      "==============================================================================\n",
      "Omnibus:                      107.558   Durbin-Watson:                   1.991\n",
      "Prob(Omnibus):                  0.000   Jarque-Bera (JB):              120.777\n",
      "Skew:                          -0.334   Prob(JB):                     5.94e-27\n",
      "Kurtosis:                       3.401   Cond. No.                     6.72e+05\n",
      "==============================================================================\n",
      "\n",
      "Notes:\n",
      "[1] Standard Errors assume that the covariance matrix of the errors is correctly specified.\n",
      "[2] The condition number is large, 6.72e+05. This might indicate that there are\n",
      "strong multicollinearity or other numerical problems.\n"
     ]
    }
   ],
   "source": [
    "X = data[['Year',\n",
    "          'logRunTime',\n",
    "          'isRated',\n",
    "          'ForeignLanguage',\n",
    "          'isCoproduction',\n",
    "          'win_award',\n",
    "          'nominated_award',\n",
    "          'won_Oscar',\n",
    "          'plot_sentiment_score',\n",
    "          'isPositivePlot',\n",
    "          'isFiction',\n",
    "          'Cooperativeness',\n",
    "          'Competitiveness',]].astype('float')\n",
    "X = sm.add_constant(X)\n",
    "y = data['logBoxOffice']\n",
    "\n",
    "ols_2 = sm.OLS(y, X).fit()\n",
    "print(ols_2.summary())"
   ]
  },
  {
   "cell_type": "markdown",
   "id": "f73cdfb0-5913-4cdd-9ee9-4e28d0931cd6",
   "metadata": {},
   "source": [
    "## OLS models comparison"
   ]
  },
  {
   "cell_type": "code",
   "execution_count": 76,
   "id": "818604e5-bfb7-4b18-8e0e-7e081183a61e",
   "metadata": {
    "tags": []
   },
   "outputs": [
    {
     "data": {
      "text/html": [
       "<table style=\"text-align:center\"><tr><td colspan=\"4\" style=\"border-bottom: 1px solid black\"></td></tr>\n",
       "<tr><td style=\"text-align:left\"></td><td colspan=\"3\"><em>Dependent variable: logBoxOffice</em></td></tr><tr><td style=\"text-align:left\"></td><tr><td></td><td colspan=\"1\">Trend only</td><td colspan=\"1\">Covariates only</td><td colspan=\"1\">Full model</td></tr><tr><td style=\"text-align:left\"></td><td>(1)</td><td>(2)</td><td>(3)</td></tr>\n",
       "<tr><td colspan=\"4\" style=\"border-bottom: 1px solid black\"></td></tr>\n",
       "\n",
       "<tr><td style=\"text-align:left\">const</td><td>112.249<sup>***</sup></td><td>60.956<sup>***</sup></td><td>79.757<sup>***</sup></td></tr>\n",
       "<tr><td style=\"text-align:left\"></td><td>(6.322)</td><td>(6.068)</td><td>(9.664)</td></tr>\n",
       "<tr><td style=\"text-align:left\">Year</td><td>-0.050<sup>***</sup></td><td>-0.032<sup>***</sup></td><td>-0.042<sup>***</sup></td></tr>\n",
       "<tr><td style=\"text-align:left\"></td><td>(0.003)</td><td>(0.003)</td><td>(0.005)</td></tr>\n",
       "<tr><td style=\"text-align:left\">logRunTime</td><td></td><td>2.956<sup>***</sup></td><td>2.985<sup>***</sup></td></tr>\n",
       "<tr><td style=\"text-align:left\"></td><td></td><td>(0.155)</td><td>(0.155)</td></tr>\n",
       "<tr><td style=\"text-align:left\">isRated</td><td></td><td>1.370<sup>***</sup></td><td>1.348<sup>***</sup></td></tr>\n",
       "<tr><td style=\"text-align:left\"></td><td></td><td>(0.063)</td><td>(0.064)</td></tr>\n",
       "<tr><td style=\"text-align:left\">ForeignLanguage</td><td></td><td>-0.105<sup></sup></td><td>-0.147<sup>*</sup></td></tr>\n",
       "<tr><td style=\"text-align:left\"></td><td></td><td>(0.076)</td><td>(0.077)</td></tr>\n",
       "<tr><td style=\"text-align:left\">isCoproduction</td><td></td><td>-0.165<sup>***</sup></td><td>0.029<sup></sup></td></tr>\n",
       "<tr><td style=\"text-align:left\"></td><td></td><td>(0.060)</td><td>(0.085)</td></tr>\n",
       "<tr><td style=\"text-align:left\">win_award</td><td></td><td>0.265<sup>***</sup></td><td>0.275<sup>***</sup></td></tr>\n",
       "<tr><td style=\"text-align:left\"></td><td></td><td>(0.075)</td><td>(0.075)</td></tr>\n",
       "<tr><td style=\"text-align:left\">nominated_award</td><td></td><td>0.594<sup>***</sup></td><td>0.596<sup>***</sup></td></tr>\n",
       "<tr><td style=\"text-align:left\"></td><td></td><td>(0.090)</td><td>(0.090)</td></tr>\n",
       "<tr><td style=\"text-align:left\">won_Oscar</td><td></td><td>2.655<sup>***</sup></td><td>2.636<sup>***</sup></td></tr>\n",
       "<tr><td style=\"text-align:left\"></td><td></td><td>(0.251)</td><td>(0.251)</td></tr>\n",
       "<tr><td style=\"text-align:left\">plot_sentiment_score</td><td></td><td>0.263<sup></sup></td><td>0.255<sup></sup></td></tr>\n",
       "<tr><td style=\"text-align:left\"></td><td></td><td>(0.287)</td><td>(0.286)</td></tr>\n",
       "<tr><td style=\"text-align:left\">isPositivePlot</td><td></td><td>-0.064<sup></sup></td><td>-0.075<sup></sup></td></tr>\n",
       "<tr><td style=\"text-align:left\"></td><td></td><td>(0.071)</td><td>(0.071)</td></tr>\n",
       "<tr><td style=\"text-align:left\">isFiction</td><td></td><td>0.322<sup>**</sup></td><td>0.347<sup>**</sup></td></tr>\n",
       "<tr><td style=\"text-align:left\"></td><td></td><td>(0.153)</td><td>(0.153)</td></tr>\n",
       "<tr><td style=\"text-align:left\">Cooperativeness</td><td></td><td></td><td>0.121<sup>***</sup></td></tr>\n",
       "<tr><td style=\"text-align:left\"></td><td></td><td></td><td>(0.031)</td></tr>\n",
       "<tr><td style=\"text-align:left\">Competitiveness</td><td></td><td></td><td>-0.039<sup></sup></td></tr>\n",
       "<tr><td style=\"text-align:left\"></td><td></td><td></td><td>(0.036)</td></tr>\n",
       "\n",
       "<td colspan=\"4\" style=\"border-bottom: 1px solid black\"></td></tr>\n",
       "<tr><td style=\"text-align: left\">Observations</td><td>4768</td><td>4768</td><td>4768</td></tr><tr><td style=\"text-align: left\">R<sup>2</sup></td><td>0.050</td><td>0.242</td><td>0.245</td></tr><tr><td style=\"text-align: left\">Adjusted R<sup>2</sup></td><td>0.050</td><td>0.240</td><td>0.243</td></tr><tr><td style=\"text-align: left\">Residual Std. Error</td><td>2.233 (df=4766)</td><td>1.997 (df=4756)</td><td>1.993 (df=4754)</td></tr><tr><td style=\"text-align: left\">F Statistic</td><td>252.238<sup>***</sup> (df=1; 4766)</td><td>138.074<sup>***</sup> (df=11; 4756)</td><td>118.803<sup>***</sup> (df=13; 4754)</td></tr>\n",
       "<tr><td colspan=\"4\" style=\"border-bottom: 1px solid black\"></td></tr><tr><td style=\"text-align: left\">Note:</td><td colspan=\"3\" style=\"text-align: right\"><sup>*</sup>p&lt;0.1; <sup>**</sup>p&lt;0.05; <sup>***</sup>p&lt;0.01</td></tr></table>"
      ],
      "text/plain": [
       "<stargazer.stargazer.Stargazer at 0x2019c3a1210>"
      ]
     },
     "execution_count": 76,
     "metadata": {},
     "output_type": "execute_result"
    }
   ],
   "source": [
    "stargazer = Stargazer([ols_0, ols_1, ols_2])\n",
    "stargazer.covariate_order(X.columns)\n",
    "stargazer.custom_columns(['Trend only', 'Covariates only', 'Full model'], [1, 1, 1])\n",
    "stargazer"
   ]
  },
  {
   "cell_type": "markdown",
   "id": "6973c70f-6be1-4795-a510-0cbae871ec95",
   "metadata": {},
   "source": [
    "## Multilevel model"
   ]
  },
  {
   "cell_type": "code",
   "execution_count": 77,
   "id": "0a85ac4e-a419-48b5-9bd2-3bb37adfcc48",
   "metadata": {
    "tags": []
   },
   "outputs": [
    {
     "name": "stdout",
     "output_type": "stream",
     "text": [
      "              Mixed Linear Model Regression Results\n",
      "=================================================================\n",
      "Model:               MixedLM   Dependent Variable:   logBoxOffice\n",
      "No. Observations:    4768      Method:               REML        \n",
      "No. Groups:          2370      Scale:                3.2340      \n",
      "Min. group size:     1         Log-Likelihood:       -9956.5413  \n",
      "Max. group size:     29        Converged:            Yes         \n",
      "Mean group size:     2.0                                         \n",
      "-----------------------------------------------------------------\n",
      "                      Coef.  Std.Err.   z    P>|z| [0.025  0.975]\n",
      "-----------------------------------------------------------------\n",
      "const                107.826   11.349  9.501 0.000 85.582 130.070\n",
      "Year                  -0.055    0.006 -9.511 0.000 -0.066  -0.043\n",
      "logRunTime             2.221    0.166 13.410 0.000  1.896   2.546\n",
      "isRated                1.442    0.063 22.898 0.000  1.318   1.565\n",
      "ForeignLanguage       -0.222    0.083 -2.688 0.007 -0.385  -0.060\n",
      "isCoproduction         0.234    0.096  2.442 0.015  0.046   0.422\n",
      "win_award              0.378    0.073  5.199 0.000  0.236   0.521\n",
      "nominated_award        0.631    0.087  7.245 0.000  0.460   0.802\n",
      "won_Oscar              2.681    0.245 10.959 0.000  2.201   3.160\n",
      "plot_sentiment_score   0.286    0.276  1.037 0.300 -0.255   0.826\n",
      "isPositivePlot        -0.042    0.068 -0.615 0.539 -0.176   0.092\n",
      "isFiction              0.203    0.149  1.358 0.174 -0.090   0.495\n",
      "Cooperativeness        0.140    0.033  4.267 0.000  0.075   0.204\n",
      "Competitiveness        0.004    0.040  0.088 0.930 -0.076   0.083\n",
      "Group Var              0.729    0.049                            \n",
      "=================================================================\n",
      "\n"
     ]
    }
   ],
   "source": [
    "import statsmodels.api as sm\n",
    "\n",
    "# Defining the groups for varying intercepts (country and year combination)\n",
    "groups = data['Country'].astype(str) + ':' + data['Year'].astype(str)\n",
    "\n",
    "# Creating the mixed-effects model with varying intercepts for country-year combinations\n",
    "hlm = sm.MixedLM(y, X, groups=groups).fit()\n",
    "\n",
    "# Printing the summary of the model\n",
    "print(hlm.summary())\n"
   ]
  },
  {
   "cell_type": "markdown",
   "id": "3b280b9e-6232-41e1-832e-e6c6c7f628b5",
   "metadata": {},
   "source": [
    "## Model comparison"
   ]
  },
  {
   "cell_type": "code",
   "execution_count": 78,
   "id": "895cd3fa-4e65-488b-bfe0-054f4912de00",
   "metadata": {
    "tags": []
   },
   "outputs": [
    {
     "data": {
      "text/html": [
       "<table style=\"text-align:center\"><tr><td colspan=\"5\" style=\"border-bottom: 1px solid black\"></td></tr>\n",
       "<tr><td style=\"text-align:left\"></td><td colspan=\"4\"><em>Dependent variable: logBoxOffice</em></td></tr><tr><td style=\"text-align:left\"></td><tr><td style=\"text-align:left\"></td><td>(1)</td><td>(2)</td><td>(3)</td><td>(4)</td></tr>\n",
       "<tr><td style=\"text-align: left\">Model type</td><td>OLS</td><td>OLS</td><td>OLS</td><td>HLM</td></tr><tr><td colspan=\"5\" style=\"border-bottom: 1px solid black\"></td></tr>\n",
       "\n",
       "<tr><td style=\"text-align:left\">const</td><td>112.249<sup>***</sup></td><td>60.956<sup>***</sup></td><td>79.757<sup>***</sup></td><td>107.826<sup>***</sup></td></tr>\n",
       "<tr><td style=\"text-align:left\"></td><td>(6.322)</td><td>(6.068)</td><td>(9.664)</td><td>(11.349)</td></tr>\n",
       "<tr><td style=\"text-align:left\">Year</td><td>-0.050<sup>***</sup></td><td>-0.032<sup>***</sup></td><td>-0.042<sup>***</sup></td><td>-0.055<sup>***</sup></td></tr>\n",
       "<tr><td style=\"text-align:left\"></td><td>(0.003)</td><td>(0.003)</td><td>(0.005)</td><td>(0.006)</td></tr>\n",
       "<tr><td style=\"text-align:left\">logRunTime</td><td></td><td>2.956<sup>***</sup></td><td>2.985<sup>***</sup></td><td>2.221<sup>***</sup></td></tr>\n",
       "<tr><td style=\"text-align:left\"></td><td></td><td>(0.155)</td><td>(0.155)</td><td>(0.166)</td></tr>\n",
       "<tr><td style=\"text-align:left\">isRated</td><td></td><td>1.370<sup>***</sup></td><td>1.348<sup>***</sup></td><td>1.442<sup>***</sup></td></tr>\n",
       "<tr><td style=\"text-align:left\"></td><td></td><td>(0.063)</td><td>(0.064)</td><td>(0.063)</td></tr>\n",
       "<tr><td style=\"text-align:left\">ForeignLanguage</td><td></td><td>-0.105<sup></sup></td><td>-0.147<sup>*</sup></td><td>-0.222<sup>***</sup></td></tr>\n",
       "<tr><td style=\"text-align:left\"></td><td></td><td>(0.076)</td><td>(0.077)</td><td>(0.083)</td></tr>\n",
       "<tr><td style=\"text-align:left\">isCoproduction</td><td></td><td>-0.165<sup>***</sup></td><td>0.029<sup></sup></td><td>0.234<sup>**</sup></td></tr>\n",
       "<tr><td style=\"text-align:left\"></td><td></td><td>(0.060)</td><td>(0.085)</td><td>(0.096)</td></tr>\n",
       "<tr><td style=\"text-align:left\">win_award</td><td></td><td>0.265<sup>***</sup></td><td>0.275<sup>***</sup></td><td>0.378<sup>***</sup></td></tr>\n",
       "<tr><td style=\"text-align:left\"></td><td></td><td>(0.075)</td><td>(0.075)</td><td>(0.073)</td></tr>\n",
       "<tr><td style=\"text-align:left\">nominated_award</td><td></td><td>0.594<sup>***</sup></td><td>0.596<sup>***</sup></td><td>0.631<sup>***</sup></td></tr>\n",
       "<tr><td style=\"text-align:left\"></td><td></td><td>(0.090)</td><td>(0.090)</td><td>(0.087)</td></tr>\n",
       "<tr><td style=\"text-align:left\">won_Oscar</td><td></td><td>2.655<sup>***</sup></td><td>2.636<sup>***</sup></td><td>2.681<sup>***</sup></td></tr>\n",
       "<tr><td style=\"text-align:left\"></td><td></td><td>(0.251)</td><td>(0.251)</td><td>(0.245)</td></tr>\n",
       "<tr><td style=\"text-align:left\">plot_sentiment_score</td><td></td><td>0.263<sup></sup></td><td>0.255<sup></sup></td><td>0.286<sup></sup></td></tr>\n",
       "<tr><td style=\"text-align:left\"></td><td></td><td>(0.287)</td><td>(0.286)</td><td>(0.276)</td></tr>\n",
       "<tr><td style=\"text-align:left\">isPositivePlot</td><td></td><td>-0.064<sup></sup></td><td>-0.075<sup></sup></td><td>-0.042<sup></sup></td></tr>\n",
       "<tr><td style=\"text-align:left\"></td><td></td><td>(0.071)</td><td>(0.071)</td><td>(0.068)</td></tr>\n",
       "<tr><td style=\"text-align:left\">isFiction</td><td></td><td>0.322<sup>**</sup></td><td>0.347<sup>**</sup></td><td>0.203<sup></sup></td></tr>\n",
       "<tr><td style=\"text-align:left\"></td><td></td><td>(0.153)</td><td>(0.153)</td><td>(0.149)</td></tr>\n",
       "<tr><td style=\"text-align:left\">Cooperativeness</td><td></td><td></td><td>0.121<sup>***</sup></td><td>0.140<sup>***</sup></td></tr>\n",
       "<tr><td style=\"text-align:left\"></td><td></td><td></td><td>(0.031)</td><td>(0.033)</td></tr>\n",
       "<tr><td style=\"text-align:left\">Competitiveness</td><td></td><td></td><td>-0.039<sup></sup></td><td>0.004<sup></sup></td></tr>\n",
       "<tr><td style=\"text-align:left\"></td><td></td><td></td><td>(0.036)</td><td>(0.040)</td></tr>\n",
       "\n",
       "<td colspan=\"5\" style=\"border-bottom: 1px solid black\"></td></tr>\n",
       "<tr><td style=\"text-align: left\">Observations</td><td>4768</td><td>4768</td><td>4768</td><td>4768</td></tr><tr><td style=\"text-align: left\">R<sup>2</sup></td><td>0.050</td><td>0.242</td><td>0.245</td><td></td></tr><tr><td style=\"text-align: left\">Adjusted R<sup>2</sup></td><td>0.050</td><td>0.240</td><td>0.243</td><td></td></tr><tr><td style=\"text-align: left\">Residual Std. Error</td><td>2.233 (df=4766)</td><td>1.997 (df=4756)</td><td>1.993 (df=4754)</td><td>1.684 (df=4754)</td></tr><tr><td style=\"text-align: left\">F Statistic</td><td>252.238<sup>***</sup> (df=1; 4766)</td><td>138.074<sup>***</sup> (df=11; 4756)</td><td>118.803<sup>***</sup> (df=13; 4754)</td><td></td></tr>\n",
       "<tr><td colspan=\"5\" style=\"border-bottom: 1px solid black\"></td></tr><tr><td style=\"text-align: left\">Note:</td><td colspan=\"4\" style=\"text-align: right\"><sup>*</sup>p&lt;0.1; <sup>**</sup>p&lt;0.05; <sup>***</sup>p&lt;0.01</td></tr></table>"
      ],
      "text/plain": [
       "<stargazer.stargazer.Stargazer at 0x2019c367f50>"
      ]
     },
     "execution_count": 78,
     "metadata": {},
     "output_type": "execute_result"
    }
   ],
   "source": [
    "from stargazer.stargazer import Stargazer, LineLocation\n",
    "\n",
    "stargazer = Stargazer([ols_0, ols_1, ols_2, hlm])\n",
    "stargazer.covariate_order(X.columns)\n",
    "#stargazer.custom_columns(['Trend only', 'Covariates only', 'All variables','Random Intercepts'], [1,1,1, 1])\n",
    "stargazer.add_line('Model type', ['OLS', 'OLS','OLS','HLM'], LineLocation.HEADER_BOTTOM)\n",
    "stargazer.show_model_numbers(True)\n",
    "stargazer"
   ]
  },
  {
   "cell_type": "markdown",
   "id": "666345a0-50b2-48ba-a554-5235c5f121b1",
   "metadata": {},
   "source": [
    "## Diagnostics"
   ]
  },
  {
   "cell_type": "code",
   "execution_count": 111,
   "id": "261808f4-fdc3-469b-bc92-ee3c35663218",
   "metadata": {
    "tags": []
   },
   "outputs": [
    {
     "data": {
      "image/png": "[encoded data removed]",
      "text/plain": [
       "<Figure size 640x480 with 1 Axes>"
      ]
     },
     "metadata": {},
     "output_type": "display_data"
    },
    {
     "data": {
      "image/png": "[encoded data removed]",
      "text/plain": [
       "<Figure size 640x480 with 1 Axes>"
      ]
     },
     "metadata": {},
     "output_type": "display_data"
    }
   ],
   "source": [
    "model=ols_2\n",
    "\n",
    "# Extract residuals and fitted values\n",
    "Zres = model.resid/model.resid.std()\n",
    "yhat = model.fittedvalues\n",
    "\n",
    "# Plot residuals\n",
    "plt.scatter(yhat, Zres)\n",
    "plt.axhline(y=Zres.mean(), c='red', linestyle='dashed')\n",
    "plt.axhline(y=-3, c='red', linestyle='dashed')\n",
    "plt.axhline(y=+3, c='red', linestyle='dashed')\n",
    "plt.xlabel(\"Fitted Values\")\n",
    "plt.ylabel(\"Residuals\")\n",
    "plt.title(\"Residual Plot\")\n",
    "plt.show()\n",
    "\n",
    "# QQ plot for residuals\n",
    "sm.qqplot(Zres, line='s')\n",
    "plt.show()\n"
   ]
  },
  {
   "cell_type": "code",
   "execution_count": 117,
   "id": "a0f633c5-7396-4da9-ba7d-c1ed550b7e33",
   "metadata": {
    "tags": []
   },
   "outputs": [],
   "source": [
    "#Influente measures are defined only for OLS\n",
    "infl = ols_2.get_influence().summary_frame()"
   ]
  },
  {
   "cell_type": "code",
   "execution_count": 147,
   "id": "df89b70f-4983-4002-821b-150845f94768",
   "metadata": {
    "tags": []
   },
   "outputs": [
    {
     "data": {
      "text/plain": [
       "0.0050335570469798654"
      ]
     },
     "execution_count": 147,
     "metadata": {},
     "output_type": "execute_result"
    }
   ],
   "source": [
    "# residuals beyond 3 standard deviations\n",
    "(infl.standard_resid.abs() > 3).mean()"
   ]
  },
  {
   "cell_type": "code",
   "execution_count": 153,
   "id": "787d26a9-b0bf-4d07-a79a-4d47afd9e538",
   "metadata": {
    "tags": []
   },
   "outputs": [
    {
     "data": {
      "text/plain": [
       "0.03459363468677743"
      ]
     },
     "execution_count": 153,
     "metadata": {},
     "output_type": "execute_result"
    }
   ],
   "source": [
    "#Cook's D\n",
    "infl.cooks_d.max()"
   ]
  },
  {
   "cell_type": "code",
   "execution_count": 155,
   "id": "20bc1742-a86f-4df0-b57f-19d792389380",
   "metadata": {
    "tags": []
   },
   "outputs": [
    {
     "data": {
      "text/plain": [
       "1"
      ]
     },
     "execution_count": 155,
     "metadata": {},
     "output_type": "execute_result"
    }
   ],
   "source": [
    "(infl.cooks_d > np.sqrt(4/len(data))).sum()"
   ]
  },
  {
   "cell_type": "code",
   "execution_count": 157,
   "id": "e8509896-7404-4d3d-a8dd-2bb1f715ae90",
   "metadata": {
    "tags": []
   },
   "outputs": [
    {
     "data": {
      "text/plain": [
       "0.023907132313738963"
      ]
     },
     "execution_count": 157,
     "metadata": {},
     "output_type": "execute_result"
    }
   ],
   "source": [
    "#Leverage\n",
    "infl.hat_diag.max()"
   ]
  },
  {
   "cell_type": "code",
   "execution_count": 158,
   "id": "db61a39d-5400-463f-8c4d-7a65768028f8",
   "metadata": {
    "tags": []
   },
   "outputs": [
    {
     "data": {
      "text/plain": [
       "(-0.6973029707517228, 0.23930757945674)"
      ]
     },
     "execution_count": 158,
     "metadata": {},
     "output_type": "execute_result"
    }
   ],
   "source": [
    "#DFFits\n",
    "infl.dffits.min(), infl.dffits.max()"
   ]
  },
  {
   "cell_type": "code",
   "execution_count": 159,
   "id": "03f562b4-e63c-41d2-a0c9-0a519a5eb444",
   "metadata": {
    "tags": []
   },
   "outputs": [
    {
     "name": "stdout",
     "output_type": "stream",
     "text": [
      "dfb_const, -0.15, 0.13\n",
      "dfb_Year, -0.13, 0.17\n",
      "dfb_logRunTime, -0.68, 0.08\n",
      "dfb_isRated, -0.09, 0.08\n",
      "dfb_ForeignLanguage, -0.12, 0.08\n",
      "dfb_isCoproduction, -0.10, 0.10\n",
      "dfb_win_award, -0.10, 0.12\n",
      "dfb_nominated_award, -0.12, 0.17\n",
      "dfb_won_Oscar, -0.29, 0.23\n",
      "dfb_plot_sentiment_score, -0.16, 0.14\n",
      "dfb_isPositivePlot, -0.08, 0.10\n",
      "dfb_isFiction, -0.16, 0.17\n",
      "dfb_Cooperativeness, -0.16, 0.13\n",
      "dfb_Competitiveness, -0.09, 0.12\n"
     ]
    }
   ],
   "source": [
    "#DFBetas\n",
    "for c in infl.loc[:,infl.columns.str.startswith('dfb_')]:\n",
    "    print(f'{c}, {infl[c].min():.2f}, {infl[c].max():.2f}')\n",
    "    "
   ]
  }
 ],
 "metadata": {
  "kernelspec": {
   "display_name": "Python 3 (ipykernel)",
   "language": "python",
   "name": "python3"
  },
  "language_info": {
   "codemirror_mode": {
    "name": "ipython",
    "version": 3
   },
   "file_extension": ".py",
   "mimetype": "text/x-python",
   "name": "python",
   "nbconvert_exporter": "python",
   "pygments_lexer": "ipython3",
   "version": "3.11.4"
  }
 },
 "nbformat": 4,
 "nbformat_minor": 5
}
