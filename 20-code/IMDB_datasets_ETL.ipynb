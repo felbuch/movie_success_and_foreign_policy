{
 "cells": [
  {
   "cell_type": "markdown",
   "id": "2f334da4-81ca-4c4e-a703-145335f3a167",
   "metadata": {},
   "source": [
    "# IMDB Datasets ETL\n",
    "__Goal:__ Load relevant IMDB datasets from website and combine them into a single dataset after due preprocessing. The dataset produced by this process is saved in the `10-data` directory."
   ]
  },
  {
   "cell_type": "markdown",
   "id": "ed80d34d",
   "metadata": {},
   "source": [
    "### Methodological decisions\n",
    "* Only movies. Keep documentaries.\n",
    "* Non adult films\n",
    "* Exclude Reality-TV, Talk-Show and Game-Show\n",
    "\n",
    "### Methodological questions\n",
    "* [ ] How to deal with missing values?"
   ]
  },
  {
   "cell_type": "markdown",
   "id": "615447e9",
   "metadata": {},
   "source": [
    "### Load packages"
   ]
  },
  {
   "cell_type": "code",
   "execution_count": 145,
   "id": "aa45c0e0-50d1-479d-a9ee-f9f92e3c71a3",
   "metadata": {
    "tags": []
   },
   "outputs": [],
   "source": [
    "#!pip install pqdm"
   ]
  },
  {
   "cell_type": "code",
   "execution_count": 146,
   "id": "49a9e074",
   "metadata": {
    "tags": []
   },
   "outputs": [
    {
     "name": "stdout",
     "output_type": "stream",
     "text": [
      "C:\\Users\\felbu\\OneDrive\\FGV\\movie_success_and_foreign_policy\\20-code\n"
     ]
    }
   ],
   "source": [
    "import pandas as pd\n",
    "import numpy as np\n",
    "import missingno as mn\n",
    "from collections import Counter\n",
    "import requests\n",
    "#from tqdm import tqdm\n",
    "#tqdm.pandas()\n",
    "from pqdm.threads import pqdm\n",
    "import os\n",
    "\n",
    "from random import sample\n",
    "\n",
    "pd.set_option('display.max_rows',100)\n",
    "\n",
    "print(os.getcwd())"
   ]
  },
  {
   "cell_type": "code",
   "execution_count": 147,
   "id": "0861e218-e4ad-4a1b-8132-3105b98d4b29",
   "metadata": {
    "tags": []
   },
   "outputs": [],
   "source": [
    "from API_key import API_headers, API_url"
   ]
  },
  {
   "cell_type": "markdown",
   "id": "51452ea7",
   "metadata": {},
   "source": [
    "### Define paths and constants"
   ]
  },
  {
   "cell_type": "code",
   "execution_count": 148,
   "id": "e8e31ab5",
   "metadata": {
    "tags": []
   },
   "outputs": [
    {
     "name": "stdout",
     "output_type": "stream",
     "text": [
      "1980 2022\n"
     ]
    }
   ],
   "source": [
    "years = list(range(1980,2023))\n",
    "print(min(years), max(years))"
   ]
  },
  {
   "cell_type": "code",
   "execution_count": 149,
   "id": "6d37b203",
   "metadata": {
    "tags": []
   },
   "outputs": [],
   "source": [
    "basics_url = \"https://datasets.imdbws.com/title.basics.tsv.gz\"\n",
    "ratings_url = \"https://datasets.imdbws.com/title.ratings.tsv.gz\"\n",
    "akas_url = \"https://datasets.imdbws.com/title.akas.tsv.gz\""
   ]
  },
  {
   "cell_type": "code",
   "execution_count": 150,
   "id": "8d5f58a9-ef63-49e0-a5a4-41ded34f9dca",
   "metadata": {
    "tags": []
   },
   "outputs": [],
   "source": [
    "data_dir = \"../10-data\""
   ]
  },
  {
   "cell_type": "markdown",
   "id": "ff5e2694",
   "metadata": {},
   "source": [
    "### Define auxiliary functions"
   ]
  },
  {
   "cell_type": "code",
   "execution_count": 151,
   "id": "2fb91d23",
   "metadata": {
    "tags": []
   },
   "outputs": [],
   "source": [
    "def load_imdb_dataset(url, \n",
    "                      sep=\"\\t\", \n",
    "                      encoding=\"utf-8\",\n",
    "                      index_col=\"tconst\",\n",
    "                      missing=\"\\\\N\"):\n",
    "    \n",
    "    df = pd.read_csv(url, sep=sep, encoding=encoding, index_col=index_col)\n",
    "    df[df == missing] = np.nan\n",
    "    \n",
    "    print(df.shape, tuple(df.columns))\n",
    "    return(df)"
   ]
  },
  {
   "cell_type": "markdown",
   "id": "9a4ab729",
   "metadata": {},
   "source": [
    "### ETL"
   ]
  },
  {
   "cell_type": "markdown",
   "id": "98292088-83d3-439a-8ec8-0c00783c1831",
   "metadata": {},
   "source": [
    "#### basics"
   ]
  },
  {
   "cell_type": "code",
   "execution_count": 152,
   "id": "3d9b8f37",
   "metadata": {
    "tags": []
   },
   "outputs": [
    {
     "name": "stderr",
     "output_type": "stream",
     "text": [
      "C:\\Users\\felbu\\AppData\\Local\\Temp\\ipykernel_24088\\4031469021.py:7: DtypeWarning: Columns (4) have mixed types. Specify dtype option on import or set low_memory=False.\n",
      "  df = pd.read_csv(url, sep=sep, encoding=encoding, index_col=index_col)\n"
     ]
    },
    {
     "name": "stdout",
     "output_type": "stream",
     "text": [
      "(10325176, 8) ('titleType', 'primaryTitle', 'originalTitle', 'isAdult', 'startYear', 'endYear', 'runtimeMinutes', 'genres')\n"
     ]
    }
   ],
   "source": [
    "#%%time\n",
    "basics = load_imdb_dataset(basics_url)"
   ]
  },
  {
   "cell_type": "code",
   "execution_count": 153,
   "id": "6c1e7012-4ebe-462b-8d01-5c1e5c477e80",
   "metadata": {
    "tags": []
   },
   "outputs": [],
   "source": [
    "# Delete me!\n",
    "#basics.to_csv('../10-data/basics.csv')"
   ]
  },
  {
   "cell_type": "code",
   "execution_count": 154,
   "id": "29ba35e2-a653-4a7d-b8de-1b7fbac7c315",
   "metadata": {
    "tags": []
   },
   "outputs": [],
   "source": [
    "# Delete me!\n",
    "#basics = pd.read_csv('../10-data/basics.csv', index_col='tconst')\n",
    "#print(basics.shape, tuple(basics.columns))"
   ]
  },
  {
   "cell_type": "code",
   "execution_count": 155,
   "id": "eb652a5b-cdf3-4595-9cb0-dbd2ed8d41e7",
   "metadata": {
    "tags": []
   },
   "outputs": [
    {
     "data": {
      "text/html": [
       "<div>\n",
       "<style scoped>\n",
       "    .dataframe tbody tr th:only-of-type {\n",
       "        vertical-align: middle;\n",
       "    }\n",
       "\n",
       "    .dataframe tbody tr th {\n",
       "        vertical-align: top;\n",
       "    }\n",
       "\n",
       "    .dataframe thead th {\n",
       "        text-align: right;\n",
       "    }\n",
       "</style>\n",
       "<table border=\"1\" class=\"dataframe\">\n",
       "  <thead>\n",
       "    <tr style=\"text-align: right;\">\n",
       "      <th></th>\n",
       "      <th>titleType</th>\n",
       "      <th>primaryTitle</th>\n",
       "      <th>originalTitle</th>\n",
       "      <th>isAdult</th>\n",
       "      <th>startYear</th>\n",
       "      <th>endYear</th>\n",
       "      <th>runtimeMinutes</th>\n",
       "      <th>genres</th>\n",
       "    </tr>\n",
       "    <tr>\n",
       "      <th>tconst</th>\n",
       "      <th></th>\n",
       "      <th></th>\n",
       "      <th></th>\n",
       "      <th></th>\n",
       "      <th></th>\n",
       "      <th></th>\n",
       "      <th></th>\n",
       "      <th></th>\n",
       "    </tr>\n",
       "  </thead>\n",
       "  <tbody>\n",
       "    <tr>\n",
       "      <th>tt0000001</th>\n",
       "      <td>short</td>\n",
       "      <td>Carmencita</td>\n",
       "      <td>Carmencita</td>\n",
       "      <td>0</td>\n",
       "      <td>1894</td>\n",
       "      <td>NaN</td>\n",
       "      <td>1</td>\n",
       "      <td>Documentary,Short</td>\n",
       "    </tr>\n",
       "    <tr>\n",
       "      <th>tt0000002</th>\n",
       "      <td>short</td>\n",
       "      <td>Le clown et ses chiens</td>\n",
       "      <td>Le clown et ses chiens</td>\n",
       "      <td>0</td>\n",
       "      <td>1892</td>\n",
       "      <td>NaN</td>\n",
       "      <td>5</td>\n",
       "      <td>Animation,Short</td>\n",
       "    </tr>\n",
       "    <tr>\n",
       "      <th>tt0000003</th>\n",
       "      <td>short</td>\n",
       "      <td>Pauvre Pierrot</td>\n",
       "      <td>Pauvre Pierrot</td>\n",
       "      <td>0</td>\n",
       "      <td>1892</td>\n",
       "      <td>NaN</td>\n",
       "      <td>4</td>\n",
       "      <td>Animation,Comedy,Romance</td>\n",
       "    </tr>\n",
       "    <tr>\n",
       "      <th>tt0000004</th>\n",
       "      <td>short</td>\n",
       "      <td>Un bon bock</td>\n",
       "      <td>Un bon bock</td>\n",
       "      <td>0</td>\n",
       "      <td>1892</td>\n",
       "      <td>NaN</td>\n",
       "      <td>12</td>\n",
       "      <td>Animation,Short</td>\n",
       "    </tr>\n",
       "    <tr>\n",
       "      <th>tt0000005</th>\n",
       "      <td>short</td>\n",
       "      <td>Blacksmith Scene</td>\n",
       "      <td>Blacksmith Scene</td>\n",
       "      <td>0</td>\n",
       "      <td>1893</td>\n",
       "      <td>NaN</td>\n",
       "      <td>1</td>\n",
       "      <td>Comedy,Short</td>\n",
       "    </tr>\n",
       "  </tbody>\n",
       "</table>\n",
       "</div>"
      ],
      "text/plain": [
       "          titleType            primaryTitle           originalTitle isAdult  \\\n",
       "tconst                                                                        \n",
       "tt0000001     short              Carmencita              Carmencita       0   \n",
       "tt0000002     short  Le clown et ses chiens  Le clown et ses chiens       0   \n",
       "tt0000003     short          Pauvre Pierrot          Pauvre Pierrot       0   \n",
       "tt0000004     short             Un bon bock             Un bon bock       0   \n",
       "tt0000005     short        Blacksmith Scene        Blacksmith Scene       0   \n",
       "\n",
       "          startYear endYear runtimeMinutes                    genres  \n",
       "tconst                                                                \n",
       "tt0000001      1894     NaN              1         Documentary,Short  \n",
       "tt0000002      1892     NaN              5           Animation,Short  \n",
       "tt0000003      1892     NaN              4  Animation,Comedy,Romance  \n",
       "tt0000004      1892     NaN             12           Animation,Short  \n",
       "tt0000005      1893     NaN              1              Comedy,Short  "
      ]
     },
     "execution_count": 155,
     "metadata": {},
     "output_type": "execute_result"
    }
   ],
   "source": [
    "basics.head()"
   ]
  },
  {
   "cell_type": "code",
   "execution_count": 156,
   "id": "6a972fd4",
   "metadata": {
    "tags": []
   },
   "outputs": [],
   "source": [
    "basics[\"startYear\"] = basics[\"startYear\"].astype(\"float\")\n",
    "basics[\"endtYear\"] = basics[\"endYear\"].astype(\"float\")"
   ]
  },
  {
   "cell_type": "code",
   "execution_count": 157,
   "id": "00f594c9",
   "metadata": {
    "tags": []
   },
   "outputs": [
    {
     "name": "stdout",
     "output_type": "stream",
     "text": [
      "(10325176, 9)\n",
      "(376181, 4)\n"
     ]
    }
   ],
   "source": [
    "print(basics.shape)\n",
    "\n",
    "basics = (basics.\n",
    "          filter([\"titleType\",\"primaryTitle\",\"isAdult\",\"startYear\",\"runtimeMinutes\",\"genres\"]).\n",
    "          query(\"titleType == 'movie'\").\n",
    "          query(\"isAdult == 0\").\n",
    "          query(\"startYear.isin(@years)\").\n",
    "          filter([\"primaryTitle\",\"startYear\",\"runtimeMinutes\",\"genres\"])\n",
    "         )\n",
    "\n",
    "print(basics.shape)"
   ]
  },
  {
   "cell_type": "markdown",
   "id": "447f0d5d-3e29-4bd8-b6f0-e07017dad859",
   "metadata": {},
   "source": [
    "#### ratings"
   ]
  },
  {
   "cell_type": "code",
   "execution_count": 158,
   "id": "10046c23",
   "metadata": {
    "tags": []
   },
   "outputs": [
    {
     "name": "stdout",
     "output_type": "stream",
     "text": [
      "(1370302, 2) ('averageRating', 'numVotes')\n",
      "CPU times: total: 1.27 s\n",
      "Wall time: 3.73 s\n"
     ]
    }
   ],
   "source": [
    "%%time\n",
    "ratings = load_imdb_dataset(ratings_url)"
   ]
  },
  {
   "cell_type": "code",
   "execution_count": 159,
   "id": "b34c211c-6d41-4313-8fef-fb0523794128",
   "metadata": {
    "tags": []
   },
   "outputs": [],
   "source": [
    "# Delete me!\n",
    "#ratings.to_csv('../10-data/ratings.csv')"
   ]
  },
  {
   "cell_type": "code",
   "execution_count": 160,
   "id": "f798f5ac-0780-4ff0-bcb9-5a13bd795daf",
   "metadata": {
    "tags": []
   },
   "outputs": [],
   "source": [
    "# Delete me!\n",
    "#ratings = pd.read_csv('../10-data/ratings.csv', index_col='tconst')\n",
    "#print(ratings.shape, tuple(ratings.columns))"
   ]
  },
  {
   "cell_type": "code",
   "execution_count": 161,
   "id": "5feddd7d",
   "metadata": {
    "tags": []
   },
   "outputs": [
    {
     "data": {
      "text/html": [
       "<div>\n",
       "<style scoped>\n",
       "    .dataframe tbody tr th:only-of-type {\n",
       "        vertical-align: middle;\n",
       "    }\n",
       "\n",
       "    .dataframe tbody tr th {\n",
       "        vertical-align: top;\n",
       "    }\n",
       "\n",
       "    .dataframe thead th {\n",
       "        text-align: right;\n",
       "    }\n",
       "</style>\n",
       "<table border=\"1\" class=\"dataframe\">\n",
       "  <thead>\n",
       "    <tr style=\"text-align: right;\">\n",
       "      <th></th>\n",
       "      <th>averageRating</th>\n",
       "      <th>numVotes</th>\n",
       "    </tr>\n",
       "    <tr>\n",
       "      <th>tconst</th>\n",
       "      <th></th>\n",
       "      <th></th>\n",
       "    </tr>\n",
       "  </thead>\n",
       "  <tbody>\n",
       "    <tr>\n",
       "      <th>tt0000001</th>\n",
       "      <td>5.7</td>\n",
       "      <td>2007</td>\n",
       "    </tr>\n",
       "    <tr>\n",
       "      <th>tt0000002</th>\n",
       "      <td>5.8</td>\n",
       "      <td>269</td>\n",
       "    </tr>\n",
       "    <tr>\n",
       "      <th>tt0000003</th>\n",
       "      <td>6.5</td>\n",
       "      <td>1912</td>\n",
       "    </tr>\n",
       "    <tr>\n",
       "      <th>tt0000004</th>\n",
       "      <td>5.5</td>\n",
       "      <td>178</td>\n",
       "    </tr>\n",
       "    <tr>\n",
       "      <th>tt0000005</th>\n",
       "      <td>6.2</td>\n",
       "      <td>2692</td>\n",
       "    </tr>\n",
       "  </tbody>\n",
       "</table>\n",
       "</div>"
      ],
      "text/plain": [
       "           averageRating  numVotes\n",
       "tconst                            \n",
       "tt0000001            5.7      2007\n",
       "tt0000002            5.8       269\n",
       "tt0000003            6.5      1912\n",
       "tt0000004            5.5       178\n",
       "tt0000005            6.2      2692"
      ]
     },
     "execution_count": 161,
     "metadata": {},
     "output_type": "execute_result"
    }
   ],
   "source": [
    "ratings.head()"
   ]
  },
  {
   "cell_type": "markdown",
   "id": "401d6ba8-b948-4d7c-a490-2013df87a2fb",
   "metadata": {
    "tags": []
   },
   "source": [
    "#### merge basics + ratings"
   ]
  },
  {
   "cell_type": "code",
   "execution_count": 162,
   "id": "03c5bbc8",
   "metadata": {
    "tags": []
   },
   "outputs": [
    {
     "name": "stdout",
     "output_type": "stream",
     "text": [
      "(376181, 4) (1370302, 2)\n",
      "(213778, 7)\n"
     ]
    }
   ],
   "source": [
    "print(basics.shape, ratings.shape)\n",
    "\n",
    "data = pd.merge(basics, ratings, \n",
    "                how=\"inner\", \n",
    "                left_index=True, right_index=True, \n",
    "                validate=\"1:1\", \n",
    "                indicator=True)\n",
    "\n",
    "print(data.shape)"
   ]
  },
  {
   "cell_type": "code",
   "execution_count": 163,
   "id": "7c9f25df",
   "metadata": {
    "tags": []
   },
   "outputs": [
    {
     "data": {
      "text/html": [
       "<div>\n",
       "<style scoped>\n",
       "    .dataframe tbody tr th:only-of-type {\n",
       "        vertical-align: middle;\n",
       "    }\n",
       "\n",
       "    .dataframe tbody tr th {\n",
       "        vertical-align: top;\n",
       "    }\n",
       "\n",
       "    .dataframe thead th {\n",
       "        text-align: right;\n",
       "    }\n",
       "</style>\n",
       "<table border=\"1\" class=\"dataframe\">\n",
       "  <thead>\n",
       "    <tr style=\"text-align: right;\">\n",
       "      <th></th>\n",
       "      <th>primaryTitle</th>\n",
       "      <th>startYear</th>\n",
       "      <th>runtimeMinutes</th>\n",
       "      <th>genres</th>\n",
       "      <th>averageRating</th>\n",
       "      <th>numVotes</th>\n",
       "      <th>_merge</th>\n",
       "    </tr>\n",
       "    <tr>\n",
       "      <th>tconst</th>\n",
       "      <th></th>\n",
       "      <th></th>\n",
       "      <th></th>\n",
       "      <th></th>\n",
       "      <th></th>\n",
       "      <th></th>\n",
       "      <th></th>\n",
       "    </tr>\n",
       "  </thead>\n",
       "  <tbody>\n",
       "    <tr>\n",
       "      <th>tt0013274</th>\n",
       "      <td>Istoriya grazhdanskoy voyny</td>\n",
       "      <td>2021.0</td>\n",
       "      <td>94</td>\n",
       "      <td>Documentary</td>\n",
       "      <td>6.8</td>\n",
       "      <td>59</td>\n",
       "      <td>both</td>\n",
       "    </tr>\n",
       "    <tr>\n",
       "      <th>tt0015414</th>\n",
       "      <td>La tierra de los toros</td>\n",
       "      <td>2000.0</td>\n",
       "      <td>60</td>\n",
       "      <td>NaN</td>\n",
       "      <td>5.2</td>\n",
       "      <td>16</td>\n",
       "      <td>both</td>\n",
       "    </tr>\n",
       "    <tr>\n",
       "      <th>tt0015724</th>\n",
       "      <td>Dama de noche</td>\n",
       "      <td>1993.0</td>\n",
       "      <td>102</td>\n",
       "      <td>Drama,Mystery,Romance</td>\n",
       "      <td>6.1</td>\n",
       "      <td>27</td>\n",
       "      <td>both</td>\n",
       "    </tr>\n",
       "    <tr>\n",
       "      <th>tt0035423</th>\n",
       "      <td>Kate &amp; Leopold</td>\n",
       "      <td>2001.0</td>\n",
       "      <td>118</td>\n",
       "      <td>Comedy,Fantasy,Romance</td>\n",
       "      <td>6.4</td>\n",
       "      <td>87975</td>\n",
       "      <td>both</td>\n",
       "    </tr>\n",
       "    <tr>\n",
       "      <th>tt0036606</th>\n",
       "      <td>Another Time, Another Place</td>\n",
       "      <td>1983.0</td>\n",
       "      <td>118</td>\n",
       "      <td>Drama,War</td>\n",
       "      <td>6.5</td>\n",
       "      <td>345</td>\n",
       "      <td>both</td>\n",
       "    </tr>\n",
       "  </tbody>\n",
       "</table>\n",
       "</div>"
      ],
      "text/plain": [
       "                          primaryTitle  startYear runtimeMinutes  \\\n",
       "tconst                                                             \n",
       "tt0013274  Istoriya grazhdanskoy voyny     2021.0             94   \n",
       "tt0015414       La tierra de los toros     2000.0             60   \n",
       "tt0015724                Dama de noche     1993.0            102   \n",
       "tt0035423               Kate & Leopold     2001.0            118   \n",
       "tt0036606  Another Time, Another Place     1983.0            118   \n",
       "\n",
       "                           genres  averageRating  numVotes _merge  \n",
       "tconst                                                             \n",
       "tt0013274             Documentary            6.8        59   both  \n",
       "tt0015414                     NaN            5.2        16   both  \n",
       "tt0015724   Drama,Mystery,Romance            6.1        27   both  \n",
       "tt0035423  Comedy,Fantasy,Romance            6.4     87975   both  \n",
       "tt0036606               Drama,War            6.5       345   both  "
      ]
     },
     "execution_count": 163,
     "metadata": {},
     "output_type": "execute_result"
    }
   ],
   "source": [
    "data.head()"
   ]
  },
  {
   "cell_type": "code",
   "execution_count": 164,
   "id": "cc940aaf",
   "metadata": {
    "tags": []
   },
   "outputs": [
    {
     "data": {
      "text/plain": [
       "both          1.0\n",
       "left_only     0.0\n",
       "right_only    0.0\n",
       "Name: _merge, dtype: float64"
      ]
     },
     "execution_count": 164,
     "metadata": {},
     "output_type": "execute_result"
    }
   ],
   "source": [
    "data._merge.value_counts(normalize=True)"
   ]
  },
  {
   "cell_type": "code",
   "execution_count": 165,
   "id": "bfe21dcc",
   "metadata": {
    "tags": []
   },
   "outputs": [],
   "source": [
    "data = data.drop(columns=[\"_merge\"])"
   ]
  },
  {
   "cell_type": "code",
   "execution_count": 166,
   "id": "768ff611-5cdf-42e5-9db3-74dc42655646",
   "metadata": {
    "tags": []
   },
   "outputs": [
    {
     "data": {
      "text/html": [
       "<div>\n",
       "<style scoped>\n",
       "    .dataframe tbody tr th:only-of-type {\n",
       "        vertical-align: middle;\n",
       "    }\n",
       "\n",
       "    .dataframe tbody tr th {\n",
       "        vertical-align: top;\n",
       "    }\n",
       "\n",
       "    .dataframe thead th {\n",
       "        text-align: right;\n",
       "    }\n",
       "</style>\n",
       "<table border=\"1\" class=\"dataframe\">\n",
       "  <thead>\n",
       "    <tr style=\"text-align: right;\">\n",
       "      <th></th>\n",
       "      <th>primaryTitle</th>\n",
       "      <th>startYear</th>\n",
       "      <th>runtimeMinutes</th>\n",
       "      <th>genres</th>\n",
       "      <th>averageRating</th>\n",
       "      <th>numVotes</th>\n",
       "    </tr>\n",
       "    <tr>\n",
       "      <th>tconst</th>\n",
       "      <th></th>\n",
       "      <th></th>\n",
       "      <th></th>\n",
       "      <th></th>\n",
       "      <th></th>\n",
       "      <th></th>\n",
       "    </tr>\n",
       "  </thead>\n",
       "  <tbody>\n",
       "    <tr>\n",
       "      <th>tt0013274</th>\n",
       "      <td>Istoriya grazhdanskoy voyny</td>\n",
       "      <td>2021.0</td>\n",
       "      <td>94</td>\n",
       "      <td>Documentary</td>\n",
       "      <td>6.8</td>\n",
       "      <td>59</td>\n",
       "    </tr>\n",
       "    <tr>\n",
       "      <th>tt0015414</th>\n",
       "      <td>La tierra de los toros</td>\n",
       "      <td>2000.0</td>\n",
       "      <td>60</td>\n",
       "      <td>NaN</td>\n",
       "      <td>5.2</td>\n",
       "      <td>16</td>\n",
       "    </tr>\n",
       "    <tr>\n",
       "      <th>tt0015724</th>\n",
       "      <td>Dama de noche</td>\n",
       "      <td>1993.0</td>\n",
       "      <td>102</td>\n",
       "      <td>Drama,Mystery,Romance</td>\n",
       "      <td>6.1</td>\n",
       "      <td>27</td>\n",
       "    </tr>\n",
       "    <tr>\n",
       "      <th>tt0035423</th>\n",
       "      <td>Kate &amp; Leopold</td>\n",
       "      <td>2001.0</td>\n",
       "      <td>118</td>\n",
       "      <td>Comedy,Fantasy,Romance</td>\n",
       "      <td>6.4</td>\n",
       "      <td>87975</td>\n",
       "    </tr>\n",
       "    <tr>\n",
       "      <th>tt0036606</th>\n",
       "      <td>Another Time, Another Place</td>\n",
       "      <td>1983.0</td>\n",
       "      <td>118</td>\n",
       "      <td>Drama,War</td>\n",
       "      <td>6.5</td>\n",
       "      <td>345</td>\n",
       "    </tr>\n",
       "  </tbody>\n",
       "</table>\n",
       "</div>"
      ],
      "text/plain": [
       "                          primaryTitle  startYear runtimeMinutes  \\\n",
       "tconst                                                             \n",
       "tt0013274  Istoriya grazhdanskoy voyny     2021.0             94   \n",
       "tt0015414       La tierra de los toros     2000.0             60   \n",
       "tt0015724                Dama de noche     1993.0            102   \n",
       "tt0035423               Kate & Leopold     2001.0            118   \n",
       "tt0036606  Another Time, Another Place     1983.0            118   \n",
       "\n",
       "                           genres  averageRating  numVotes  \n",
       "tconst                                                      \n",
       "tt0013274             Documentary            6.8        59  \n",
       "tt0015414                     NaN            5.2        16  \n",
       "tt0015724   Drama,Mystery,Romance            6.1        27  \n",
       "tt0035423  Comedy,Fantasy,Romance            6.4     87975  \n",
       "tt0036606               Drama,War            6.5       345  "
      ]
     },
     "execution_count": 166,
     "metadata": {},
     "output_type": "execute_result"
    }
   ],
   "source": [
    "data.head()"
   ]
  },
  {
   "cell_type": "markdown",
   "id": "760b9042-b928-4f28-9fca-048e7dbd74d7",
   "metadata": {},
   "source": [
    "#### Movies exibited in the US"
   ]
  },
  {
   "cell_type": "code",
   "execution_count": 23,
   "id": "decab5be-f0dd-4153-8726-0065b5a0db17",
   "metadata": {
    "tags": []
   },
   "outputs": [
    {
     "name": "stderr",
     "output_type": "stream",
     "text": [
      "C:\\Users\\felbu\\AppData\\Local\\Temp\\ipykernel_24088\\4031469021.py:7: DtypeWarning: Columns (7) have mixed types. Specify dtype option on import or set low_memory=False.\n",
      "  df = pd.read_csv(url, sep=sep, encoding=encoding, index_col=index_col)\n"
     ]
    },
    {
     "name": "stdout",
     "output_type": "stream",
     "text": [
      "(37730468, 7) ('ordering', 'title', 'region', 'language', 'types', 'attributes', 'isOriginalTitle')\n",
      "CPU times: total: 1min 14s\n",
      "Wall time: 2min 45s\n"
     ]
    }
   ],
   "source": [
    "%%time\n",
    "akas = load_imdb_dataset(akas_url, index_col=\"titleId\")"
   ]
  },
  {
   "cell_type": "code",
   "execution_count": 24,
   "id": "85c9c018-c37d-4652-be3c-64f18d8fdc92",
   "metadata": {
    "tags": []
   },
   "outputs": [
    {
     "data": {
      "text/plain": [
       "122877"
      ]
     },
     "execution_count": 24,
     "metadata": {},
     "output_type": "execute_result"
    }
   ],
   "source": [
    "shown_in_US = set(akas[akas.region==\"US\"].index)\n",
    "movies_shown_in_US = list(set(data.index).intersection(shown_in_US))\n",
    "del(shown_in_US)\n",
    "len(movies_shown_in_US)"
   ]
  },
  {
   "cell_type": "code",
   "execution_count": 25,
   "id": "3b31f49d-6ccf-4b70-98de-e7cda7a4d68f",
   "metadata": {
    "tags": []
   },
   "outputs": [],
   "source": [
    "del akas"
   ]
  },
  {
   "cell_type": "markdown",
   "id": "b19b943b-4dfe-4c43-8063-ababe88e2d81",
   "metadata": {},
   "source": [
    "#### API"
   ]
  },
  {
   "cell_type": "code",
   "execution_count": 26,
   "id": "17eb2a94-fed5-429e-bdf0-75899bb23489",
   "metadata": {
    "tags": []
   },
   "outputs": [],
   "source": [
    "def fetch_movie_API(movie_id, headers=API_headers, url=API_url):\n",
    "    \n",
    "    try:\n",
    "        querystring = {\"i\": movie_id,\"r\":\"json\",\"type\":\"movie\"}\n",
    "\n",
    "        response = requests.get(url, headers=headers, params=querystring)\n",
    "        \n",
    "        if response.status_code == 200:\n",
    "            movie_info = response.json()\n",
    "            return(response.json())\n",
    "        else:\n",
    "            print(f\"Erro na requisição. Código de status {response.status_code}\")\n",
    "    except Exception as e:\n",
    "        print(f\"Erro na chamada GET: {e}\")"
   ]
  },
  {
   "cell_type": "code",
   "execution_count": 27,
   "id": "ebb97710-100b-4ea5-a272-4a61a86f1cff",
   "metadata": {
    "tags": []
   },
   "outputs": [
    {
     "name": "stdout",
     "output_type": "stream",
     "text": [
      "122877\n"
     ]
    }
   ],
   "source": [
    "#movies_shown_in_US = sample(movies_shown_in_US, 100)\n",
    "print(len(movies_shown_in_US))"
   ]
  },
  {
   "cell_type": "code",
   "execution_count": 28,
   "id": "2793baf0-e136-49bc-af9b-4261d12115b5",
   "metadata": {
    "tags": []
   },
   "outputs": [],
   "source": [
    "#%%time\n",
    "#API_results = list(map(fetch_movie_API, movies_shown_in_US))"
   ]
  },
  {
   "cell_type": "code",
   "execution_count": 29,
   "id": "becec0a7-94d7-4793-bcde-06cb1488baf0",
   "metadata": {
    "tags": []
   },
   "outputs": [],
   "source": [
    "#API_results = list(pd.Series(movies_shown_in_US).progress_apply(fetch_movie_API))"
   ]
  },
  {
   "cell_type": "code",
   "execution_count": 30,
   "id": "ef4c766e-1570-48d2-87ef-d8ef1e7d1ff0",
   "metadata": {
    "tags": []
   },
   "outputs": [
    {
     "data": {
      "application/vnd.jupyter.widget-view+json": {
       "model_id": "5954f82efe184479ad509f1dee88629a",
       "version_major": 2,
       "version_minor": 0
      },
      "text/plain": [
       "QUEUEING TASKS | :   0%|          | 0/122877 [00:00<?, ?it/s]"
      ]
     },
     "metadata": {},
     "output_type": "display_data"
    },
    {
     "data": {
      "application/vnd.jupyter.widget-view+json": {
       "model_id": "918d358c3b304ccaa918e3579e8387f6",
       "version_major": 2,
       "version_minor": 0
      },
      "text/plain": [
       "PROCESSING TASKS | :   0%|          | 0/122877 [00:00<?, ?it/s]"
      ]
     },
     "metadata": {},
     "output_type": "display_data"
    },
    {
     "name": "stdout",
     "output_type": "stream",
     "text": [
      "Erro na requisição. Código de status 520\n",
      "Erro na requisição. Código de status 520\n",
      "Erro na requisição. Código de status 520\n",
      "Erro na requisição. Código de status 520\n",
      "Erro na requisição. Código de status 520\n",
      "Erro na requisição. Código de status 520\n",
      "Erro na requisição. Código de status 520\n",
      "Erro na requisição. Código de status 520\n",
      "Erro na requisição. Código de status 520\n",
      "Erro na requisição. Código de status 520\n",
      "Erro na requisição. Código de status 520\n",
      "Erro na requisição. Código de status 520\n",
      "Erro na requisição. Código de status 520\n",
      "Erro na requisição. Código de status 520\n",
      "Erro na requisição. Código de status 520\n",
      "Erro na requisição. Código de status 520\n",
      "Erro na requisição. Código de status 522\n",
      "Erro na requisição. Código de status 520\n",
      "Erro na requisição. Código de status 520\n",
      "Erro na requisição. Código de status 520\n",
      "Erro na requisição. Código de status 520\n",
      "Erro na requisição. Código de status 520\n",
      "Erro na requisição. Código de status 520\n"
     ]
    },
    {
     "data": {
      "application/vnd.jupyter.widget-view+json": {
       "model_id": "f7b6c95c34f147c0ba4ca680e8e98e84",
       "version_major": 2,
       "version_minor": 0
      },
      "text/plain": [
       "COLLECTING RESULTS | :   0%|          | 0/122877 [00:00<?, ?it/s]"
      ]
     },
     "metadata": {},
     "output_type": "display_data"
    }
   ],
   "source": [
    "API_results = list(pqdm(movies_shown_in_US, fetch_movie_API, n_jobs=4))"
   ]
  },
  {
   "cell_type": "code",
   "execution_count": 46,
   "id": "12a20867-845c-4f20-b0be-86fcc8ea6a3c",
   "metadata": {
    "tags": []
   },
   "outputs": [],
   "source": [
    "import pickle"
   ]
  },
  {
   "cell_type": "code",
   "execution_count": 47,
   "id": "42288d3c-4ecc-4084-bcc3-b6431c5a1af2",
   "metadata": {
    "tags": []
   },
   "outputs": [],
   "source": [
    "# Save the list to a file\n",
    "with open('../10-data/API_results.pkl', 'wb') as file:\n",
    "    pickle.dump(API_results, file)"
   ]
  },
  {
   "cell_type": "code",
   "execution_count": 167,
   "id": "aeb5d2ac-e965-438f-9bee-4691cacf974e",
   "metadata": {
    "tags": []
   },
   "outputs": [],
   "source": [
    "# Load the list from the file\n",
    "with open('API_results.pkl', 'rb') as file:\n",
    "    API_results = pickle.load(file)"
   ]
  },
  {
   "cell_type": "code",
   "execution_count": 168,
   "id": "9dd16700-90c9-4bd2-88b8-43aac123df1d",
   "metadata": {
    "tags": []
   },
   "outputs": [
    {
     "data": {
      "text/plain": [
       "122877"
      ]
     },
     "execution_count": 168,
     "metadata": {},
     "output_type": "execute_result"
    }
   ],
   "source": [
    "len(API_results)"
   ]
  },
  {
   "cell_type": "code",
   "execution_count": 169,
   "id": "285fff63-6981-4383-8d58-889d2265a1b4",
   "metadata": {
    "tags": []
   },
   "outputs": [],
   "source": [
    "def make_df_from_API_response(list_of_responses, \n",
    "                              usecols=[\"Title\",\n",
    "                                       \"Year\",\n",
    "                                       \"Rated\",\n",
    "                                       \"Runtime\",\n",
    "                                       \"Genre\",\n",
    "                                       \"Language\",\n",
    "                                       \"Country\",\n",
    "                                       \"Awards\",\n",
    "                                       \"imdbRating\",\n",
    "                                       \"Metascore\",\n",
    "                                       \"BoxOffice\",\n",
    "                                       \"Plot\"]):\n",
    "    \n",
    "    #Remove None values\n",
    "    a = len(list_of_responses)\n",
    "    list_of_responses = [d for d in list_of_responses if d is not None]\n",
    "    b = len(list_of_responses)\n",
    "    print(f\"{a-b} None values removed\")\n",
    "        \n",
    "    #Transform list of dicts to df\n",
    "    df = pd.DataFrame(list_of_responses)\n",
    "    \n",
    "    #Define index\n",
    "    df.set_index('imdbID', inplace=True)\n",
    "    \n",
    "    #Select columns\n",
    "    df = df.loc[:, usecols]\n",
    "    \n",
    "    #Identify missing values as such\n",
    "    df = df.replace(\"N/A\",np.nan)\n",
    "    \n",
    "    return(df)"
   ]
  },
  {
   "cell_type": "code",
   "execution_count": 170,
   "id": "069a7fee-2a03-44b6-81a2-1b6d96f5339a",
   "metadata": {
    "tags": []
   },
   "outputs": [
    {
     "name": "stdout",
     "output_type": "stream",
     "text": [
      "23 None values removed\n"
     ]
    },
    {
     "data": {
      "text/html": [
       "<div>\n",
       "<style scoped>\n",
       "    .dataframe tbody tr th:only-of-type {\n",
       "        vertical-align: middle;\n",
       "    }\n",
       "\n",
       "    .dataframe tbody tr th {\n",
       "        vertical-align: top;\n",
       "    }\n",
       "\n",
       "    .dataframe thead th {\n",
       "        text-align: right;\n",
       "    }\n",
       "</style>\n",
       "<table border=\"1\" class=\"dataframe\">\n",
       "  <thead>\n",
       "    <tr style=\"text-align: right;\">\n",
       "      <th></th>\n",
       "      <th>Title</th>\n",
       "      <th>Year</th>\n",
       "      <th>Rated</th>\n",
       "      <th>Runtime</th>\n",
       "      <th>Genre</th>\n",
       "      <th>Language</th>\n",
       "      <th>Country</th>\n",
       "      <th>Awards</th>\n",
       "      <th>imdbRating</th>\n",
       "      <th>Metascore</th>\n",
       "      <th>BoxOffice</th>\n",
       "      <th>Plot</th>\n",
       "    </tr>\n",
       "    <tr>\n",
       "      <th>imdbID</th>\n",
       "      <th></th>\n",
       "      <th></th>\n",
       "      <th></th>\n",
       "      <th></th>\n",
       "      <th></th>\n",
       "      <th></th>\n",
       "      <th></th>\n",
       "      <th></th>\n",
       "      <th></th>\n",
       "      <th></th>\n",
       "      <th></th>\n",
       "      <th></th>\n",
       "    </tr>\n",
       "  </thead>\n",
       "  <tbody>\n",
       "    <tr>\n",
       "      <th>tt0118055</th>\n",
       "      <td>Up Close &amp; Personal</td>\n",
       "      <td>1996</td>\n",
       "      <td>PG-13</td>\n",
       "      <td>124 min</td>\n",
       "      <td>Drama, Romance</td>\n",
       "      <td>English, Spanish</td>\n",
       "      <td>United States</td>\n",
       "      <td>Nominated for 1 Oscar. 3 wins &amp; 3 nominations ...</td>\n",
       "      <td>6.1</td>\n",
       "      <td>NaN</td>\n",
       "      <td>$51,088,705</td>\n",
       "      <td>An ambitious young woman, determined to build ...</td>\n",
       "    </tr>\n",
       "    <tr>\n",
       "      <th>tt0498846</th>\n",
       "      <td>Sweet Mud</td>\n",
       "      <td>2006</td>\n",
       "      <td>NaN</td>\n",
       "      <td>90 min</td>\n",
       "      <td>Drama</td>\n",
       "      <td>Hebrew, French, English</td>\n",
       "      <td>Israel, Germany, France, Japan</td>\n",
       "      <td>9 wins &amp; 7 nominations</td>\n",
       "      <td>7.1</td>\n",
       "      <td>NaN</td>\n",
       "      <td>NaN</td>\n",
       "      <td>Set in mid-70's, 12-year old Dvir Avni navigat...</td>\n",
       "    </tr>\n",
       "    <tr>\n",
       "      <th>tt0117365</th>\n",
       "      <td>Shadow Play</td>\n",
       "      <td>1996</td>\n",
       "      <td>NaN</td>\n",
       "      <td>111 min</td>\n",
       "      <td>Comedy, Romance</td>\n",
       "      <td>French</td>\n",
       "      <td>France, United Kingdom</td>\n",
       "      <td>1 win &amp; 2 nominations</td>\n",
       "      <td>5.8</td>\n",
       "      <td>54</td>\n",
       "      <td>$16,367</td>\n",
       "      <td>Ada and Lise are both costume designers, the f...</td>\n",
       "    </tr>\n",
       "    <tr>\n",
       "      <th>tt14490618</th>\n",
       "      <td>B.A. Pass 3</td>\n",
       "      <td>2021</td>\n",
       "      <td>NaN</td>\n",
       "      <td>136 min</td>\n",
       "      <td>Drama, Romance</td>\n",
       "      <td>Hindi</td>\n",
       "      <td>India</td>\n",
       "      <td>NaN</td>\n",
       "      <td>5.2</td>\n",
       "      <td>NaN</td>\n",
       "      <td>NaN</td>\n",
       "      <td>BA Pass 3 narrates the story of a jobless Ansh...</td>\n",
       "    </tr>\n",
       "    <tr>\n",
       "      <th>tt5758426</th>\n",
       "      <td>The Forester</td>\n",
       "      <td>1987</td>\n",
       "      <td>NaN</td>\n",
       "      <td>NaN</td>\n",
       "      <td>NaN</td>\n",
       "      <td>Persian</td>\n",
       "      <td>Iran</td>\n",
       "      <td>NaN</td>\n",
       "      <td>NaN</td>\n",
       "      <td>NaN</td>\n",
       "      <td>NaN</td>\n",
       "      <td>NaN</td>\n",
       "    </tr>\n",
       "  </tbody>\n",
       "</table>\n",
       "</div>"
      ],
      "text/plain": [
       "                          Title  Year  Rated  Runtime            Genre  \\\n",
       "imdbID                                                                   \n",
       "tt0118055   Up Close & Personal  1996  PG-13  124 min   Drama, Romance   \n",
       "tt0498846             Sweet Mud  2006    NaN   90 min            Drama   \n",
       "tt0117365           Shadow Play  1996    NaN  111 min  Comedy, Romance   \n",
       "tt14490618          B.A. Pass 3  2021    NaN  136 min   Drama, Romance   \n",
       "tt5758426          The Forester  1987    NaN      NaN              NaN   \n",
       "\n",
       "                           Language                         Country  \\\n",
       "imdbID                                                                \n",
       "tt0118055          English, Spanish                   United States   \n",
       "tt0498846   Hebrew, French, English  Israel, Germany, France, Japan   \n",
       "tt0117365                    French          France, United Kingdom   \n",
       "tt14490618                    Hindi                           India   \n",
       "tt5758426                   Persian                            Iran   \n",
       "\n",
       "                                                       Awards imdbRating  \\\n",
       "imdbID                                                                     \n",
       "tt0118055   Nominated for 1 Oscar. 3 wins & 3 nominations ...        6.1   \n",
       "tt0498846                              9 wins & 7 nominations        7.1   \n",
       "tt0117365                               1 win & 2 nominations        5.8   \n",
       "tt14490618                                                NaN        5.2   \n",
       "tt5758426                                                 NaN        NaN   \n",
       "\n",
       "           Metascore    BoxOffice  \\\n",
       "imdbID                              \n",
       "tt0118055        NaN  $51,088,705   \n",
       "tt0498846        NaN          NaN   \n",
       "tt0117365         54      $16,367   \n",
       "tt14490618       NaN          NaN   \n",
       "tt5758426        NaN          NaN   \n",
       "\n",
       "                                                         Plot  \n",
       "imdbID                                                         \n",
       "tt0118055   An ambitious young woman, determined to build ...  \n",
       "tt0498846   Set in mid-70's, 12-year old Dvir Avni navigat...  \n",
       "tt0117365   Ada and Lise are both costume designers, the f...  \n",
       "tt14490618  BA Pass 3 narrates the story of a jobless Ansh...  \n",
       "tt5758426                                                 NaN  "
      ]
     },
     "execution_count": 170,
     "metadata": {},
     "output_type": "execute_result"
    }
   ],
   "source": [
    "API_df = make_df_from_API_response(API_results)\n",
    "API_df.head()"
   ]
  },
  {
   "cell_type": "code",
   "execution_count": 171,
   "id": "b1db5afc-15ef-4351-91f9-15a675bff872",
   "metadata": {},
   "outputs": [],
   "source": [
    "#API_df.to_parquet('../10-data/API_data.parquet')"
   ]
  },
  {
   "cell_type": "code",
   "execution_count": 130,
   "id": "2d3cc7fb-d29a-436b-be07-7abf99b8b4af",
   "metadata": {
    "tags": []
   },
   "outputs": [],
   "source": [
    "#API_df = pd.read_parquet('../10-data/API_data.parquet')"
   ]
  },
  {
   "cell_type": "code",
   "execution_count": 172,
   "id": "28905ffc-7b6e-4ac5-8423-7273f6355ed4",
   "metadata": {
    "tags": []
   },
   "outputs": [
    {
     "name": "stdout",
     "output_type": "stream",
     "text": [
      "(122854, 12)\n"
     ]
    }
   ],
   "source": [
    "print(API_df.shape)"
   ]
  },
  {
   "cell_type": "code",
   "execution_count": 173,
   "id": "fab6031d-c78d-455d-9c2b-fc93fe580b9a",
   "metadata": {
    "tags": []
   },
   "outputs": [],
   "source": [
    "#mn.matrix(API_df)"
   ]
  },
  {
   "cell_type": "code",
   "execution_count": 174,
   "id": "d54d5b35-973b-4439-b809-7759f776c2fb",
   "metadata": {
    "tags": []
   },
   "outputs": [],
   "source": [
    "#API_df[[\"BoxOffice\"]].sample(1)"
   ]
  },
  {
   "cell_type": "code",
   "execution_count": 175,
   "id": "889b07be-be7a-4dcc-9335-5014040f3265",
   "metadata": {
    "tags": []
   },
   "outputs": [
    {
     "data": {
      "text/plain": [
       "Title         0.000033\n",
       "Year          0.000033\n",
       "Rated         0.588959\n",
       "Runtime       0.065509\n",
       "Genre         0.017712\n",
       "Language      0.023776\n",
       "Country       0.007505\n",
       "Awards        0.551899\n",
       "imdbRating    0.087820\n",
       "Metascore     0.858865\n",
       "BoxOffice     0.859589\n",
       "Plot          0.059705\n",
       "dtype: float64"
      ]
     },
     "execution_count": 175,
     "metadata": {},
     "output_type": "execute_result"
    }
   ],
   "source": [
    "API_df.isna().mean()"
   ]
  },
  {
   "cell_type": "markdown",
   "id": "29d35410-e313-4b25-bcd4-179dfadbd2ae",
   "metadata": {},
   "source": [
    "#### Select foreign movies"
   ]
  },
  {
   "cell_type": "code",
   "execution_count": 176,
   "id": "791f4ee9-0fef-4a19-824c-6226b71b3313",
   "metadata": {
    "tags": []
   },
   "outputs": [
    {
     "name": "stdout",
     "output_type": "stream",
     "text": [
      "(122854, 12)\n",
      "(56059, 12)\n"
     ]
    }
   ],
   "source": [
    "print(API_df.shape)\n",
    "API_df = API_df.dropna(subset=['Country'])\n",
    "API_df = API_df[~API_df['Country'].str.contains(r'United States|US|USA')]\n",
    "print(API_df.shape)"
   ]
  },
  {
   "cell_type": "code",
   "execution_count": 177,
   "id": "33c23d9c-32fa-49c2-abd6-963a0de682d0",
   "metadata": {
    "tags": []
   },
   "outputs": [
    {
     "data": {
      "text/html": [
       "<div>\n",
       "<style scoped>\n",
       "    .dataframe tbody tr th:only-of-type {\n",
       "        vertical-align: middle;\n",
       "    }\n",
       "\n",
       "    .dataframe tbody tr th {\n",
       "        vertical-align: top;\n",
       "    }\n",
       "\n",
       "    .dataframe thead th {\n",
       "        text-align: right;\n",
       "    }\n",
       "</style>\n",
       "<table border=\"1\" class=\"dataframe\">\n",
       "  <thead>\n",
       "    <tr style=\"text-align: right;\">\n",
       "      <th></th>\n",
       "      <th>Title</th>\n",
       "      <th>Year</th>\n",
       "      <th>Rated</th>\n",
       "      <th>Runtime</th>\n",
       "      <th>Genre</th>\n",
       "      <th>Language</th>\n",
       "      <th>Country</th>\n",
       "      <th>Awards</th>\n",
       "      <th>imdbRating</th>\n",
       "      <th>Metascore</th>\n",
       "      <th>BoxOffice</th>\n",
       "      <th>Plot</th>\n",
       "    </tr>\n",
       "    <tr>\n",
       "      <th>imdbID</th>\n",
       "      <th></th>\n",
       "      <th></th>\n",
       "      <th></th>\n",
       "      <th></th>\n",
       "      <th></th>\n",
       "      <th></th>\n",
       "      <th></th>\n",
       "      <th></th>\n",
       "      <th></th>\n",
       "      <th></th>\n",
       "      <th></th>\n",
       "      <th></th>\n",
       "    </tr>\n",
       "  </thead>\n",
       "  <tbody>\n",
       "    <tr>\n",
       "      <th>tt0498846</th>\n",
       "      <td>Sweet Mud</td>\n",
       "      <td>2006</td>\n",
       "      <td>NaN</td>\n",
       "      <td>90 min</td>\n",
       "      <td>Drama</td>\n",
       "      <td>Hebrew, French, English</td>\n",
       "      <td>Israel, Germany, France, Japan</td>\n",
       "      <td>9 wins &amp; 7 nominations</td>\n",
       "      <td>7.1</td>\n",
       "      <td>NaN</td>\n",
       "      <td>NaN</td>\n",
       "      <td>Set in mid-70's, 12-year old Dvir Avni navigat...</td>\n",
       "    </tr>\n",
       "    <tr>\n",
       "      <th>tt0117365</th>\n",
       "      <td>Shadow Play</td>\n",
       "      <td>1996</td>\n",
       "      <td>NaN</td>\n",
       "      <td>111 min</td>\n",
       "      <td>Comedy, Romance</td>\n",
       "      <td>French</td>\n",
       "      <td>France, United Kingdom</td>\n",
       "      <td>1 win &amp; 2 nominations</td>\n",
       "      <td>5.8</td>\n",
       "      <td>54</td>\n",
       "      <td>$16,367</td>\n",
       "      <td>Ada and Lise are both costume designers, the f...</td>\n",
       "    </tr>\n",
       "    <tr>\n",
       "      <th>tt14490618</th>\n",
       "      <td>B.A. Pass 3</td>\n",
       "      <td>2021</td>\n",
       "      <td>NaN</td>\n",
       "      <td>136 min</td>\n",
       "      <td>Drama, Romance</td>\n",
       "      <td>Hindi</td>\n",
       "      <td>India</td>\n",
       "      <td>NaN</td>\n",
       "      <td>5.2</td>\n",
       "      <td>NaN</td>\n",
       "      <td>NaN</td>\n",
       "      <td>BA Pass 3 narrates the story of a jobless Ansh...</td>\n",
       "    </tr>\n",
       "    <tr>\n",
       "      <th>tt5758426</th>\n",
       "      <td>The Forester</td>\n",
       "      <td>1987</td>\n",
       "      <td>NaN</td>\n",
       "      <td>NaN</td>\n",
       "      <td>NaN</td>\n",
       "      <td>Persian</td>\n",
       "      <td>Iran</td>\n",
       "      <td>NaN</td>\n",
       "      <td>NaN</td>\n",
       "      <td>NaN</td>\n",
       "      <td>NaN</td>\n",
       "      <td>NaN</td>\n",
       "    </tr>\n",
       "    <tr>\n",
       "      <th>tt5808796</th>\n",
       "      <td>Meat</td>\n",
       "      <td>2017</td>\n",
       "      <td>NaN</td>\n",
       "      <td>76 min</td>\n",
       "      <td>Documentary</td>\n",
       "      <td>English</td>\n",
       "      <td>New Zealand</td>\n",
       "      <td>NaN</td>\n",
       "      <td>6.5</td>\n",
       "      <td>NaN</td>\n",
       "      <td>NaN</td>\n",
       "      <td>Different perspectives tell a modern story of ...</td>\n",
       "    </tr>\n",
       "  </tbody>\n",
       "</table>\n",
       "</div>"
      ],
      "text/plain": [
       "                   Title  Year Rated  Runtime            Genre  \\\n",
       "imdbID                                                           \n",
       "tt0498846      Sweet Mud  2006   NaN   90 min            Drama   \n",
       "tt0117365    Shadow Play  1996   NaN  111 min  Comedy, Romance   \n",
       "tt14490618   B.A. Pass 3  2021   NaN  136 min   Drama, Romance   \n",
       "tt5758426   The Forester  1987   NaN      NaN              NaN   \n",
       "tt5808796           Meat  2017   NaN   76 min      Documentary   \n",
       "\n",
       "                           Language                         Country  \\\n",
       "imdbID                                                                \n",
       "tt0498846   Hebrew, French, English  Israel, Germany, France, Japan   \n",
       "tt0117365                    French          France, United Kingdom   \n",
       "tt14490618                    Hindi                           India   \n",
       "tt5758426                   Persian                            Iran   \n",
       "tt5808796                   English                     New Zealand   \n",
       "\n",
       "                            Awards imdbRating Metascore BoxOffice  \\\n",
       "imdbID                                                              \n",
       "tt0498846   9 wins & 7 nominations        7.1       NaN       NaN   \n",
       "tt0117365    1 win & 2 nominations        5.8        54   $16,367   \n",
       "tt14490618                     NaN        5.2       NaN       NaN   \n",
       "tt5758426                      NaN        NaN       NaN       NaN   \n",
       "tt5808796                      NaN        6.5       NaN       NaN   \n",
       "\n",
       "                                                         Plot  \n",
       "imdbID                                                         \n",
       "tt0498846   Set in mid-70's, 12-year old Dvir Avni navigat...  \n",
       "tt0117365   Ada and Lise are both costume designers, the f...  \n",
       "tt14490618  BA Pass 3 narrates the story of a jobless Ansh...  \n",
       "tt5758426                                                 NaN  \n",
       "tt5808796   Different perspectives tell a modern story of ...  "
      ]
     },
     "execution_count": 177,
     "metadata": {},
     "output_type": "execute_result"
    }
   ],
   "source": [
    "API_df.head()"
   ]
  },
  {
   "cell_type": "markdown",
   "id": "d750584a-95db-4914-8c47-7fd05111522b",
   "metadata": {
    "tags": []
   },
   "source": [
    "#### Merge API response with data"
   ]
  },
  {
   "cell_type": "code",
   "execution_count": 178,
   "id": "96b61fd2-a80f-4660-a18d-97c3316ffd57",
   "metadata": {
    "tags": []
   },
   "outputs": [
    {
     "name": "stdout",
     "output_type": "stream",
     "text": [
      "(213778, 6) (56059, 12)\n",
      "(56053, 19)\n"
     ]
    }
   ],
   "source": [
    "print(data.shape, API_df.shape)\n",
    "\n",
    "data_ = data.copy()\n",
    "data = pd.merge(API_df,data_, \n",
    "                how=\"inner\", \n",
    "                left_index=True, right_index=True, \n",
    "                validate=\"1:1\", \n",
    "                indicator=True)\n",
    "\n",
    "print(data.shape)"
   ]
  },
  {
   "cell_type": "code",
   "execution_count": 179,
   "id": "58bbb9fe-7699-4422-8442-3edbe1cad80f",
   "metadata": {
    "tags": []
   },
   "outputs": [],
   "source": [
    "data.drop(columns=[\"_merge\",\"startYear\",\"Genre\",\"Runtime\",\"primaryTitle\"], inplace=True)"
   ]
  },
  {
   "cell_type": "code",
   "execution_count": 180,
   "id": "f3932151-9548-4530-a9e6-1d63e919c7e2",
   "metadata": {
    "tags": []
   },
   "outputs": [
    {
     "data": {
      "text/html": [
       "<div>\n",
       "<style scoped>\n",
       "    .dataframe tbody tr th:only-of-type {\n",
       "        vertical-align: middle;\n",
       "    }\n",
       "\n",
       "    .dataframe tbody tr th {\n",
       "        vertical-align: top;\n",
       "    }\n",
       "\n",
       "    .dataframe thead th {\n",
       "        text-align: right;\n",
       "    }\n",
       "</style>\n",
       "<table border=\"1\" class=\"dataframe\">\n",
       "  <thead>\n",
       "    <tr style=\"text-align: right;\">\n",
       "      <th></th>\n",
       "      <th>Title</th>\n",
       "      <th>Year</th>\n",
       "      <th>Rated</th>\n",
       "      <th>Language</th>\n",
       "      <th>Country</th>\n",
       "      <th>Awards</th>\n",
       "      <th>imdbRating</th>\n",
       "      <th>Metascore</th>\n",
       "      <th>BoxOffice</th>\n",
       "      <th>Plot</th>\n",
       "      <th>runtimeMinutes</th>\n",
       "      <th>genres</th>\n",
       "      <th>averageRating</th>\n",
       "      <th>numVotes</th>\n",
       "    </tr>\n",
       "  </thead>\n",
       "  <tbody>\n",
       "    <tr>\n",
       "      <th>tt0498846</th>\n",
       "      <td>Sweet Mud</td>\n",
       "      <td>2006</td>\n",
       "      <td>NaN</td>\n",
       "      <td>Hebrew, French, English</td>\n",
       "      <td>Israel, Germany, France, Japan</td>\n",
       "      <td>9 wins &amp; 7 nominations</td>\n",
       "      <td>7.1</td>\n",
       "      <td>NaN</td>\n",
       "      <td>NaN</td>\n",
       "      <td>Set in mid-70's, 12-year old Dvir Avni navigat...</td>\n",
       "      <td>90</td>\n",
       "      <td>Drama</td>\n",
       "      <td>7.1</td>\n",
       "      <td>762</td>\n",
       "    </tr>\n",
       "    <tr>\n",
       "      <th>tt0117365</th>\n",
       "      <td>Shadow Play</td>\n",
       "      <td>1996</td>\n",
       "      <td>NaN</td>\n",
       "      <td>French</td>\n",
       "      <td>France, United Kingdom</td>\n",
       "      <td>1 win &amp; 2 nominations</td>\n",
       "      <td>5.8</td>\n",
       "      <td>54</td>\n",
       "      <td>$16,367</td>\n",
       "      <td>Ada and Lise are both costume designers, the f...</td>\n",
       "      <td>111</td>\n",
       "      <td>Comedy,Romance</td>\n",
       "      <td>5.8</td>\n",
       "      <td>495</td>\n",
       "    </tr>\n",
       "    <tr>\n",
       "      <th>tt14490618</th>\n",
       "      <td>B.A. Pass 3</td>\n",
       "      <td>2021</td>\n",
       "      <td>NaN</td>\n",
       "      <td>Hindi</td>\n",
       "      <td>India</td>\n",
       "      <td>NaN</td>\n",
       "      <td>5.2</td>\n",
       "      <td>NaN</td>\n",
       "      <td>NaN</td>\n",
       "      <td>BA Pass 3 narrates the story of a jobless Ansh...</td>\n",
       "      <td>136</td>\n",
       "      <td>Drama,Romance</td>\n",
       "      <td>5.2</td>\n",
       "      <td>3035</td>\n",
       "    </tr>\n",
       "    <tr>\n",
       "      <th>tt5758426</th>\n",
       "      <td>The Forester</td>\n",
       "      <td>1987</td>\n",
       "      <td>NaN</td>\n",
       "      <td>Persian</td>\n",
       "      <td>Iran</td>\n",
       "      <td>NaN</td>\n",
       "      <td>NaN</td>\n",
       "      <td>NaN</td>\n",
       "      <td>NaN</td>\n",
       "      <td>NaN</td>\n",
       "      <td>NaN</td>\n",
       "      <td>NaN</td>\n",
       "      <td>4.0</td>\n",
       "      <td>11</td>\n",
       "    </tr>\n",
       "    <tr>\n",
       "      <th>tt5808796</th>\n",
       "      <td>Meat</td>\n",
       "      <td>2017</td>\n",
       "      <td>NaN</td>\n",
       "      <td>English</td>\n",
       "      <td>New Zealand</td>\n",
       "      <td>NaN</td>\n",
       "      <td>6.5</td>\n",
       "      <td>NaN</td>\n",
       "      <td>NaN</td>\n",
       "      <td>Different perspectives tell a modern story of ...</td>\n",
       "      <td>76</td>\n",
       "      <td>Documentary</td>\n",
       "      <td>6.7</td>\n",
       "      <td>32</td>\n",
       "    </tr>\n",
       "  </tbody>\n",
       "</table>\n",
       "</div>"
      ],
      "text/plain": [
       "                   Title  Year Rated                 Language  \\\n",
       "tt0498846      Sweet Mud  2006   NaN  Hebrew, French, English   \n",
       "tt0117365    Shadow Play  1996   NaN                   French   \n",
       "tt14490618   B.A. Pass 3  2021   NaN                    Hindi   \n",
       "tt5758426   The Forester  1987   NaN                  Persian   \n",
       "tt5808796           Meat  2017   NaN                  English   \n",
       "\n",
       "                                   Country                  Awards imdbRating  \\\n",
       "tt0498846   Israel, Germany, France, Japan  9 wins & 7 nominations        7.1   \n",
       "tt0117365           France, United Kingdom   1 win & 2 nominations        5.8   \n",
       "tt14490618                           India                     NaN        5.2   \n",
       "tt5758426                             Iran                     NaN        NaN   \n",
       "tt5808796                      New Zealand                     NaN        6.5   \n",
       "\n",
       "           Metascore BoxOffice  \\\n",
       "tt0498846        NaN       NaN   \n",
       "tt0117365         54   $16,367   \n",
       "tt14490618       NaN       NaN   \n",
       "tt5758426        NaN       NaN   \n",
       "tt5808796        NaN       NaN   \n",
       "\n",
       "                                                         Plot runtimeMinutes  \\\n",
       "tt0498846   Set in mid-70's, 12-year old Dvir Avni navigat...             90   \n",
       "tt0117365   Ada and Lise are both costume designers, the f...            111   \n",
       "tt14490618  BA Pass 3 narrates the story of a jobless Ansh...            136   \n",
       "tt5758426                                                 NaN            NaN   \n",
       "tt5808796   Different perspectives tell a modern story of ...             76   \n",
       "\n",
       "                    genres  averageRating  numVotes  \n",
       "tt0498846            Drama            7.1       762  \n",
       "tt0117365   Comedy,Romance            5.8       495  \n",
       "tt14490618   Drama,Romance            5.2      3035  \n",
       "tt5758426              NaN            4.0        11  \n",
       "tt5808796      Documentary            6.7        32  "
      ]
     },
     "execution_count": 180,
     "metadata": {},
     "output_type": "execute_result"
    }
   ],
   "source": [
    "data.head()"
   ]
  },
  {
   "cell_type": "code",
   "execution_count": 181,
   "id": "a1c1c015-84ae-4f2f-8825-31306cfb3902",
   "metadata": {
    "tags": []
   },
   "outputs": [
    {
     "data": {
      "text/plain": [
       "Title              object\n",
       "Year                int32\n",
       "Rated              object\n",
       "Language           object\n",
       "Country            object\n",
       "Awards             object\n",
       "imdbRating        float64\n",
       "Metascore         float64\n",
       "BoxOffice          object\n",
       "Plot               object\n",
       "runtimeMinutes    float64\n",
       "genres             object\n",
       "averageRating     float64\n",
       "numVotes            int64\n",
       "dtype: object"
      ]
     },
     "execution_count": 181,
     "metadata": {},
     "output_type": "execute_result"
    }
   ],
   "source": [
    "data[\"Year\"] = data[\"Year\"].astype(\"int\")\n",
    "data[\"imdbRating\"] = data[\"imdbRating\"].astype(\"float\")\n",
    "data[\"Metascore\"] = data[\"Metascore\"].astype(\"float\")\n",
    "data[\"runtimeMinutes\"] = data[\"runtimeMinutes\"].astype(\"float\")\n",
    "data.dtypes"
   ]
  },
  {
   "cell_type": "code",
   "execution_count": 191,
   "id": "685c02c5-e2f1-4b65-972c-6f42cbb9d37a",
   "metadata": {
    "tags": []
   },
   "outputs": [],
   "source": [
    "data.to_parquet('../10-data/IMDB_data_final.parquet')"
   ]
  },
  {
   "cell_type": "code",
   "execution_count": 182,
   "id": "3fcac904-f599-43fb-b227-26c72076059d",
   "metadata": {
    "tags": []
   },
   "outputs": [
    {
     "data": {
      "text/plain": [
       "<Axes: >"
      ]
     },
     "execution_count": 182,
     "metadata": {},
     "output_type": "execute_result"
    },
    {
     "data": {
      "image/png": "[encoded data removed]",
      "text/plain": [
       "<Figure size 2500x1000 with 2 Axes>"
      ]
     },
     "metadata": {},
     "output_type": "display_data"
    }
   ],
   "source": [
    "mn.matrix(data)"
   ]
  },
  {
   "cell_type": "code",
   "execution_count": 183,
   "id": "cf6dc913-5f26-4949-91b1-ee75abf758b4",
   "metadata": {
    "tags": []
   },
   "outputs": [
    {
     "data": {
      "text/plain": [
       "Metascore         0.083849\n",
       "BoxOffice         0.086026\n",
       "Rated             0.278362\n",
       "Awards            0.546964\n",
       "imdbRating        0.920361\n",
       "Plot              0.935097\n",
       "runtimeMinutes    0.961947\n",
       "Language          0.985050\n",
       "genres            0.987976\n",
       "Title             1.000000\n",
       "Year              1.000000\n",
       "Country           1.000000\n",
       "averageRating     1.000000\n",
       "numVotes          1.000000\n",
       "dtype: float64"
      ]
     },
     "execution_count": 183,
     "metadata": {},
     "output_type": "execute_result"
    }
   ],
   "source": [
    "1-data.isna().mean().sort_values(ascending=False)"
   ]
  },
  {
   "cell_type": "code",
   "execution_count": 184,
   "id": "fbbb9220-2123-4220-858a-108e86e93263",
   "metadata": {},
   "outputs": [
    {
     "data": {
      "text/plain": [
       "4822"
      ]
     },
     "execution_count": 184,
     "metadata": {},
     "output_type": "execute_result"
    }
   ],
   "source": [
    "data_with_BoxOffice = data[~data.BoxOffice.isna()]\n",
    "data_with_BoxOffice.shape[0]"
   ]
  },
  {
   "cell_type": "code",
   "execution_count": 185,
   "id": "4a799b09-3580-4613-838f-fff6fd59f32f",
   "metadata": {
    "tags": []
   },
   "outputs": [],
   "source": [
    "data_with_BoxOffice.to_excel(\"../10-data/dataset_with_BoxOffice.xlsx\")"
   ]
  },
  {
   "cell_type": "code",
   "execution_count": 186,
   "id": "47a93f06-81ba-4625-888d-64cf5806c150",
   "metadata": {
    "tags": []
   },
   "outputs": [],
   "source": [
    "data_with_BoxOffice.describe().to_excel(\"../10-data/dataset_with_BoxOffice.xlsx\")"
   ]
  },
  {
   "cell_type": "markdown",
   "id": "9b8f90b6-c6d8-476d-9d58-414a7e007fdb",
   "metadata": {},
   "source": [
    "## Profile report"
   ]
  },
  {
   "cell_type": "code",
   "execution_count": 187,
   "id": "9643ebbb-bb5d-43d4-921a-060ecf1c19de",
   "metadata": {
    "tags": []
   },
   "outputs": [],
   "source": [
    "from ydata_profiling import ProfileReport"
   ]
  },
  {
   "cell_type": "code",
   "execution_count": 188,
   "id": "f779a437-f19b-480a-a5c8-d3b40cb5c41e",
   "metadata": {
    "tags": []
   },
   "outputs": [
    {
     "name": "stdout",
     "output_type": "stream",
     "text": [
      "56053\n"
     ]
    }
   ],
   "source": [
    "profile_data = data\n",
    "profile_desc = \"IMDB_full_data\"\n",
    "print(profile_data.shape[0])"
   ]
  },
  {
   "cell_type": "code",
   "execution_count": 189,
   "id": "6e39c1d2-f9c7-4eaa-87f5-d6e7879c696b",
   "metadata": {
    "tags": []
   },
   "outputs": [],
   "source": [
    "profile = ProfileReport(profile_data, title=profile_desc)"
   ]
  },
  {
   "cell_type": "code",
   "execution_count": 190,
   "id": "ce2864b1-8d45-4771-b1fb-9559600b3e60",
   "metadata": {
    "tags": []
   },
   "outputs": [
    {
     "data": {
      "application/vnd.jupyter.widget-view+json": {
       "model_id": "358004f112f04266bb6063b5fcb05183",
       "version_major": 2,
       "version_minor": 0
      },
      "text/plain": [
       "Summarize dataset:   0%|          | 0/5 [00:00<?, ?it/s]"
      ]
     },
     "metadata": {},
     "output_type": "display_data"
    },
    {
     "data": {
      "application/vnd.jupyter.widget-view+json": {
       "model_id": "342427a194a44e6bb15df4f683c84fcf",
       "version_major": 2,
       "version_minor": 0
      },
      "text/plain": [
       "Generate report structure:   0%|          | 0/1 [00:00<?, ?it/s]"
      ]
     },
     "metadata": {},
     "output_type": "display_data"
    },
    {
     "data": {
      "application/vnd.jupyter.widget-view+json": {
       "model_id": "b36e2794e836464aa93542667376a26a",
       "version_major": 2,
       "version_minor": 0
      },
      "text/plain": [
       "Render HTML:   0%|          | 0/1 [00:00<?, ?it/s]"
      ]
     },
     "metadata": {},
     "output_type": "display_data"
    },
    {
     "data": {
      "application/vnd.jupyter.widget-view+json": {
       "model_id": "09cc95d53040428492e490c77c8cde29",
       "version_major": 2,
       "version_minor": 0
      },
      "text/plain": [
       "Export report to file:   0%|          | 0/1 [00:00<?, ?it/s]"
      ]
     },
     "metadata": {},
     "output_type": "display_data"
    }
   ],
   "source": [
    "profile.to_file(profile_desc +\".html\")"
   ]
  },
  {
   "cell_type": "code",
   "execution_count": null,
   "id": "69581ea3-a916-42cb-96a5-b53d42008ea1",
   "metadata": {},
   "outputs": [],
   "source": []
  }
 ],
 "metadata": {
  "kernelspec": {
   "display_name": "Python 3 (ipykernel)",
   "language": "python",
   "name": "python3"
  },
  "language_info": {
   "codemirror_mode": {
    "name": "ipython",
    "version": 3
   },
   "file_extension": ".py",
   "mimetype": "text/x-python",
   "name": "python",
   "nbconvert_exporter": "python",
   "pygments_lexer": "ipython3",
   "version": "3.11.4"
  }
 },
 "nbformat": 4,
 "nbformat_minor": 5
}
